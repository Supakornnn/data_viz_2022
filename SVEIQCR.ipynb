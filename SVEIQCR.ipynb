{
  "nbformat": 4,
  "nbformat_minor": 0,
  "metadata": {
    "colab": {
      "provenance": [],
      "include_colab_link": true
    },
    "kernelspec": {
      "name": "python3",
      "display_name": "Python 3"
    },
    "language_info": {
      "name": "python"
    }
  },
  "cells": [
    {
      "cell_type": "markdown",
      "metadata": {
        "id": "view-in-github",
        "colab_type": "text"
      },
      "source": [
        "<a href=\"https://colab.research.google.com/github/Supakornnn/data_viz_2022/blob/main/SVEIQCR.ipynb\" target=\"_parent\"><img src=\"https://colab.research.google.com/assets/colab-badge.svg\" alt=\"Open In Colab\"/></a>"
      ]
    },
    {
      "cell_type": "markdown",
      "source": [
        "# เตรียมโค้ดคำนวณ"
      ],
      "metadata": {
        "id": "J41aDLijsJMN"
      }
    },
    {
      "cell_type": "code",
      "execution_count": 1,
      "metadata": {
        "id": "GKlxnplvrW0f"
      },
      "outputs": [],
      "source": [
        "#import libralies\n",
        "import pandas as pd # ใช้จัดการข้อมูลต่าง ๆ ที่เป็นตาราง พวกexcel ,CSV\n",
        "import numpy as np\n",
        "import seaborn as sns\n",
        "import matplotlib.pyplot as plt # พล็อตกราฟต่างๆ \n",
        "\n",
        "from scipy.integrate import odeint #Integrate a system of ordinary differential equations.\n",
        "                                                # func(y, t0, ...) \n",
        "\n",
        "%config InlineBackend.figure_format = 'retina'"
      ]
    },
    {
      "cell_type": "markdown",
      "source": [
        "# SVEIQCR simulation of Monkeypox in human"
      ],
      "metadata": {
        "id": "2EfHmNfCfcYZ"
      }
    },
    {
      "cell_type": "markdown",
      "source": [
        "## พารามิเตอร์ของตัวแบบ และสมการเชิงอนุพันธ์"
      ],
      "metadata": {
        "id": "DlyRf201sQAK"
      }
    },
    {
      "cell_type": "code",
      "source": [
        " #SVEIQCR model ในประชากรมนุษย์\n",
        " #Differential equations\n",
        "def deriv (y, t, N, Lambda, Phi, Mu, Lamda, Nu, theta, Beta, delta, alpha, Tau, Rho,gamma): # paramerter ในตัวแบบ โดย t คือ เวลา N จำนวนประชากรมนุษย์ทั้งหมด\n",
        "    S, V, E, I, Q, C, R = y\n",
        "    dSdt = Lambda+Phi*Q-Mu*S-Lamda*S-Nu*S\n",
        "    dVdt = Nu*S+Mu*V\n",
        "    dEdt = Lamda*S-Mu*E-theta*E-Beta*E\n",
        "    dIdt = theta*E-delta*I-Mu*I-Rho*I-gamma*I\n",
        "    dQdt = Beta*E-delta*Q-Mu*Q-Phi*Q-Tau*Q\n",
        "    dCdt = gamma*I-delta*C-Mu*C-alpha*C\n",
        "    dRdt =Rho*I+Tau*Q+alpha*C-Mu*R\n",
        "    return dSdt, dVdt, dEdt, dIdt, dQdt, dCdt, dRdt"
      ],
      "metadata": {
        "id": "k0AUkYVGserf"
      },
      "execution_count": 9,
      "outputs": []
    },
    {
      "cell_type": "code",
      "source": [
        "# parameter value\n",
        "Lambda =0.029\n",
        "Phi = 0.5\n",
        "Mu = 0.0003\n",
        "Lamda = 0.00000189\n",
        "Nu =0.01 #1%\n",
        "theta = 0.032\n",
        "Beta = 0.333 # กักตัว 3 วัน\n",
        "delta = 0.2\n",
        "alpha = 0.036\n",
        "Tau = 0.52\n",
        "Rho = 0.088\n",
        "gamma = 0.5\n",
        "\n",
        "# Time period (100 days)\n",
        "t = np.arange(0,100,1)\n",
        "\n",
        "#Initial number \n",
        "S0 = 332900000\n",
        "V0 = 717362\n",
        "E0 =0\n",
        "I0 = 28615\n",
        "Q0 = 0\n",
        "C0 = 0\n",
        "R0 = 0\n",
        "N = 332928615\n",
        "\n",
        "# Constant rate \n",
        "L = 0.029\n",
        "P = 0.5\n",
        "M= 0.0003\n",
        "I = 0.00000189\n",
        "N = 0.01\n",
        "T =0.032\n",
        "B =0.333\n",
        "D =0.2\n",
        "A =0.036\n",
        "TT = 0.52\n",
        "R = 0.088\n",
        "G = 0.5\n",
        "#Integration SVEIQCR model\n",
        "simulationresult = odeint(deriv,(S0, V0, E0, I0, Q0, C0, R0), t, args = (N,L,P,M,I,N,T,B,D,A,TT,R,G))\n",
        "\n",
        "#Summary\n",
        "simulationResult = pd.DataFrame(simulationresult, columns = ['Susceptible','Vaccine','Exposed','Infectious','Quarantine','Clinically','Recovered' ])\n",
        "simulationResult = simulationResult.astype(np.int32)"
      ],
      "metadata": {
        "id": "KYK2vGE0f9gt"
      },
      "execution_count": 10,
      "outputs": []
    },
    {
      "cell_type": "code",
      "source": [
        "simulationResult"
      ],
      "metadata": {
        "id": "0GWzt4FQNtzd",
        "outputId": "859cf611-28e5-46c4-e87d-01118524d776",
        "colab": {
          "base_uri": "https://localhost:8080/",
          "height": 424
        }
      },
      "execution_count": 11,
      "outputs": [
        {
          "output_type": "execute_result",
          "data": {
            "text/plain": [
              "    Susceptible    Vaccine  Exposed  Infectious  Quarantine  Clinically  \\\n",
              "0     332900000     717362        0       28615           0           0   \n",
              "1     329488117    4029986      524       13015          63        8682   \n",
              "2     326111247    7309655      882        5933         163       10807   \n",
              "3     322769034   10556709     1126        2720         247       10338   \n",
              "4     319461111   13771481     1289        1263         309        8995   \n",
              "..          ...        ...      ...         ...         ...         ...   \n",
              "95    125114530  205818283      666          27         183          60   \n",
              "96    123832321  207124948      659          27         181          59   \n",
              "97    122563252  208419247      652          26         179          59   \n",
              "98    121307189  209701307      645          26         177          58   \n",
              "99    120063999  210971253      639          26         175          58   \n",
              "\n",
              "    Recovered  \n",
              "0           0  \n",
              "1        1940  \n",
              "2        3154  \n",
              "3        4008  \n",
              "4        4668  \n",
              "..        ...  \n",
              "95      20700  \n",
              "96      20793  \n",
              "97      20885  \n",
              "98      20977  \n",
              "99      21067  \n",
              "\n",
              "[100 rows x 7 columns]"
            ],
            "text/html": [
              "\n",
              "  <div id=\"df-776bfd1c-bea0-48fd-8e16-3cd2eaa9c69e\">\n",
              "    <div class=\"colab-df-container\">\n",
              "      <div>\n",
              "<style scoped>\n",
              "    .dataframe tbody tr th:only-of-type {\n",
              "        vertical-align: middle;\n",
              "    }\n",
              "\n",
              "    .dataframe tbody tr th {\n",
              "        vertical-align: top;\n",
              "    }\n",
              "\n",
              "    .dataframe thead th {\n",
              "        text-align: right;\n",
              "    }\n",
              "</style>\n",
              "<table border=\"1\" class=\"dataframe\">\n",
              "  <thead>\n",
              "    <tr style=\"text-align: right;\">\n",
              "      <th></th>\n",
              "      <th>Susceptible</th>\n",
              "      <th>Vaccine</th>\n",
              "      <th>Exposed</th>\n",
              "      <th>Infectious</th>\n",
              "      <th>Quarantine</th>\n",
              "      <th>Clinically</th>\n",
              "      <th>Recovered</th>\n",
              "    </tr>\n",
              "  </thead>\n",
              "  <tbody>\n",
              "    <tr>\n",
              "      <th>0</th>\n",
              "      <td>332900000</td>\n",
              "      <td>717362</td>\n",
              "      <td>0</td>\n",
              "      <td>28615</td>\n",
              "      <td>0</td>\n",
              "      <td>0</td>\n",
              "      <td>0</td>\n",
              "    </tr>\n",
              "    <tr>\n",
              "      <th>1</th>\n",
              "      <td>329488117</td>\n",
              "      <td>4029986</td>\n",
              "      <td>524</td>\n",
              "      <td>13015</td>\n",
              "      <td>63</td>\n",
              "      <td>8682</td>\n",
              "      <td>1940</td>\n",
              "    </tr>\n",
              "    <tr>\n",
              "      <th>2</th>\n",
              "      <td>326111247</td>\n",
              "      <td>7309655</td>\n",
              "      <td>882</td>\n",
              "      <td>5933</td>\n",
              "      <td>163</td>\n",
              "      <td>10807</td>\n",
              "      <td>3154</td>\n",
              "    </tr>\n",
              "    <tr>\n",
              "      <th>3</th>\n",
              "      <td>322769034</td>\n",
              "      <td>10556709</td>\n",
              "      <td>1126</td>\n",
              "      <td>2720</td>\n",
              "      <td>247</td>\n",
              "      <td>10338</td>\n",
              "      <td>4008</td>\n",
              "    </tr>\n",
              "    <tr>\n",
              "      <th>4</th>\n",
              "      <td>319461111</td>\n",
              "      <td>13771481</td>\n",
              "      <td>1289</td>\n",
              "      <td>1263</td>\n",
              "      <td>309</td>\n",
              "      <td>8995</td>\n",
              "      <td>4668</td>\n",
              "    </tr>\n",
              "    <tr>\n",
              "      <th>...</th>\n",
              "      <td>...</td>\n",
              "      <td>...</td>\n",
              "      <td>...</td>\n",
              "      <td>...</td>\n",
              "      <td>...</td>\n",
              "      <td>...</td>\n",
              "      <td>...</td>\n",
              "    </tr>\n",
              "    <tr>\n",
              "      <th>95</th>\n",
              "      <td>125114530</td>\n",
              "      <td>205818283</td>\n",
              "      <td>666</td>\n",
              "      <td>27</td>\n",
              "      <td>183</td>\n",
              "      <td>60</td>\n",
              "      <td>20700</td>\n",
              "    </tr>\n",
              "    <tr>\n",
              "      <th>96</th>\n",
              "      <td>123832321</td>\n",
              "      <td>207124948</td>\n",
              "      <td>659</td>\n",
              "      <td>27</td>\n",
              "      <td>181</td>\n",
              "      <td>59</td>\n",
              "      <td>20793</td>\n",
              "    </tr>\n",
              "    <tr>\n",
              "      <th>97</th>\n",
              "      <td>122563252</td>\n",
              "      <td>208419247</td>\n",
              "      <td>652</td>\n",
              "      <td>26</td>\n",
              "      <td>179</td>\n",
              "      <td>59</td>\n",
              "      <td>20885</td>\n",
              "    </tr>\n",
              "    <tr>\n",
              "      <th>98</th>\n",
              "      <td>121307189</td>\n",
              "      <td>209701307</td>\n",
              "      <td>645</td>\n",
              "      <td>26</td>\n",
              "      <td>177</td>\n",
              "      <td>58</td>\n",
              "      <td>20977</td>\n",
              "    </tr>\n",
              "    <tr>\n",
              "      <th>99</th>\n",
              "      <td>120063999</td>\n",
              "      <td>210971253</td>\n",
              "      <td>639</td>\n",
              "      <td>26</td>\n",
              "      <td>175</td>\n",
              "      <td>58</td>\n",
              "      <td>21067</td>\n",
              "    </tr>\n",
              "  </tbody>\n",
              "</table>\n",
              "<p>100 rows × 7 columns</p>\n",
              "</div>\n",
              "      <button class=\"colab-df-convert\" onclick=\"convertToInteractive('df-776bfd1c-bea0-48fd-8e16-3cd2eaa9c69e')\"\n",
              "              title=\"Convert this dataframe to an interactive table.\"\n",
              "              style=\"display:none;\">\n",
              "        \n",
              "  <svg xmlns=\"http://www.w3.org/2000/svg\" height=\"24px\"viewBox=\"0 0 24 24\"\n",
              "       width=\"24px\">\n",
              "    <path d=\"M0 0h24v24H0V0z\" fill=\"none\"/>\n",
              "    <path d=\"M18.56 5.44l.94 2.06.94-2.06 2.06-.94-2.06-.94-.94-2.06-.94 2.06-2.06.94zm-11 1L8.5 8.5l.94-2.06 2.06-.94-2.06-.94L8.5 2.5l-.94 2.06-2.06.94zm10 10l.94 2.06.94-2.06 2.06-.94-2.06-.94-.94-2.06-.94 2.06-2.06.94z\"/><path d=\"M17.41 7.96l-1.37-1.37c-.4-.4-.92-.59-1.43-.59-.52 0-1.04.2-1.43.59L10.3 9.45l-7.72 7.72c-.78.78-.78 2.05 0 2.83L4 21.41c.39.39.9.59 1.41.59.51 0 1.02-.2 1.41-.59l7.78-7.78 2.81-2.81c.8-.78.8-2.07 0-2.86zM5.41 20L4 18.59l7.72-7.72 1.47 1.35L5.41 20z\"/>\n",
              "  </svg>\n",
              "      </button>\n",
              "      \n",
              "  <style>\n",
              "    .colab-df-container {\n",
              "      display:flex;\n",
              "      flex-wrap:wrap;\n",
              "      gap: 12px;\n",
              "    }\n",
              "\n",
              "    .colab-df-convert {\n",
              "      background-color: #E8F0FE;\n",
              "      border: none;\n",
              "      border-radius: 50%;\n",
              "      cursor: pointer;\n",
              "      display: none;\n",
              "      fill: #1967D2;\n",
              "      height: 32px;\n",
              "      padding: 0 0 0 0;\n",
              "      width: 32px;\n",
              "    }\n",
              "\n",
              "    .colab-df-convert:hover {\n",
              "      background-color: #E2EBFA;\n",
              "      box-shadow: 0px 1px 2px rgba(60, 64, 67, 0.3), 0px 1px 3px 1px rgba(60, 64, 67, 0.15);\n",
              "      fill: #174EA6;\n",
              "    }\n",
              "\n",
              "    [theme=dark] .colab-df-convert {\n",
              "      background-color: #3B4455;\n",
              "      fill: #D2E3FC;\n",
              "    }\n",
              "\n",
              "    [theme=dark] .colab-df-convert:hover {\n",
              "      background-color: #434B5C;\n",
              "      box-shadow: 0px 1px 3px 1px rgba(0, 0, 0, 0.15);\n",
              "      filter: drop-shadow(0px 1px 2px rgba(0, 0, 0, 0.3));\n",
              "      fill: #FFFFFF;\n",
              "    }\n",
              "  </style>\n",
              "\n",
              "      <script>\n",
              "        const buttonEl =\n",
              "          document.querySelector('#df-776bfd1c-bea0-48fd-8e16-3cd2eaa9c69e button.colab-df-convert');\n",
              "        buttonEl.style.display =\n",
              "          google.colab.kernel.accessAllowed ? 'block' : 'none';\n",
              "\n",
              "        async function convertToInteractive(key) {\n",
              "          const element = document.querySelector('#df-776bfd1c-bea0-48fd-8e16-3cd2eaa9c69e');\n",
              "          const dataTable =\n",
              "            await google.colab.kernel.invokeFunction('convertToInteractive',\n",
              "                                                     [key], {});\n",
              "          if (!dataTable) return;\n",
              "\n",
              "          const docLinkHtml = 'Like what you see? Visit the ' +\n",
              "            '<a target=\"_blank\" href=https://colab.research.google.com/notebooks/data_table.ipynb>data table notebook</a>'\n",
              "            + ' to learn more about interactive tables.';\n",
              "          element.innerHTML = '';\n",
              "          dataTable['output_type'] = 'display_data';\n",
              "          await google.colab.output.renderOutput(dataTable, element);\n",
              "          const docLink = document.createElement('div');\n",
              "          docLink.innerHTML = docLinkHtml;\n",
              "          element.appendChild(docLink);\n",
              "        }\n",
              "      </script>\n",
              "    </div>\n",
              "  </div>\n",
              "  "
            ]
          },
          "metadata": {},
          "execution_count": 11
        }
      ]
    },
    {
      "cell_type": "markdown",
      "source": [
        "# SEI simulation of Monkeypox in rodent"
      ],
      "metadata": {
        "id": "pXr9Oy70fHiV"
      }
    },
    {
      "cell_type": "markdown",
      "source": [
        "## พารามิเตอร์ของตัวแบบ และสมการเชิงอนุพันธ์"
      ],
      "metadata": {
        "id": "3JXdnJmrfYoN"
      }
    },
    {
      "cell_type": "code",
      "source": [
        "# SEI model ในประชากรสัตว์ฟันแทะ\n",
        "# Differential equations\n",
        "def deriv(y, t,N, Lambda, Mu, Lamda, theta, delta): # \n",
        "    S, E, I = y\n",
        "    dSdt = Lambda-Mu*S-Lamda*S\n",
        "    dEdt = Lamda*S-Mu*E-theta*E\n",
        "    dIdt = theta*E -delta*I-Mu*I\n",
        "    return dSdt, dEdt, dIdt"
      ],
      "metadata": {
        "id": "FtjJsZQI06wv"
      },
      "execution_count": null,
      "outputs": []
    },
    {
      "cell_type": "code",
      "source": [
        "# parameter value\n",
        "Lambda = 0.2\n",
        "Mu = 0.1\n",
        "Lamda = 0\n",
        "theta = 0.032\n",
        "delta = 0.5\n",
        "\n",
        "# Time period (100 days)\n",
        "t = np.arange(0,100,1)\n",
        "\n",
        "#Initial number of exposed, infected and recovered\n",
        "S0 = 100\n",
        "E0 = 0\n",
        "I0 = 0\n",
        "N=100\n",
        "\n",
        "# Constant rate \n",
        "L = 0.2  \n",
        "M = 0.1 \n",
        "l= 0\n",
        "T = 0.032  \n",
        "d = 0.5\n",
        "\n",
        "#Integration SEI model\n",
        "simulationresult = odeint(deriv, (S0, E0, I0), t, args = (N,L, M, l, T, d))\n",
        "\n",
        "#Summary\n",
        "simulationResult = pd.DataFrame(simulationresult, columns = ['Susceptible', 'Exposed', 'Infectious', ])\n",
        "simulationResult = simulationResult.astype(np.int32)"
      ],
      "metadata": {
        "id": "mB1DzFQM2smM"
      },
      "execution_count": null,
      "outputs": []
    },
    {
      "cell_type": "code",
      "source": [
        "t = np.arange(0,100,1)\n",
        "t"
      ],
      "metadata": {
        "id": "-fbjA4L6cx0c"
      },
      "execution_count": null,
      "outputs": []
    },
    {
      "cell_type": "code",
      "source": [
        "simulationResult"
      ],
      "metadata": {
        "id": "UbFEpncOcxtf"
      },
      "execution_count": null,
      "outputs": []
    },
    {
      "cell_type": "code",
      "source": [
        "# plot the simulation\n",
        "plt.figure (figsize = (14, 7)) #กำหนดขนาด\n",
        "with plt.style.context('seaborn'): # พล็อตเนื้อหา สไตล์ต่าง ๆ\n",
        "    plt.title('SEI simulation of monkeypox in rodent.') # ชื่อกราฟ\n",
        "    plt.xlabel('Time') # แกน X\n",
        "    plt.ylabel('Number of population') # แกน Y\n",
        "    plt.plot(simulationResult['Susceptible'], c = 'royalblue', linestyle = '--',label = 'Susceptible') # S\n",
        "    plt.plot(simulationResult['Exposed'], c = 'forestgreen', linestyle = '--' ,label = 'Exposed') # E\n",
        "    plt.plot(simulationResult['Infectious'], c = 'firebrick', linewidth = 2.5,label = 'Infectious') #I\n",
        "    plt.annotate(simulationResult['Infectious'].max(),\n",
        "                    (simulationResult['Infectious'].idxmax(), simulationResult['Infectious'].max()),\n",
        "                    textcoords = 'offset points', xytext = (5,5),ha = 'center')\n",
        "    plt.legend(frameon = True, facecolor = 'white') # โชว์เส้นกริด ทำเป็นสีขาว\n",
        "    plt.show()"
      ],
      "metadata": {
        "id": "C_LdXHbtcxjT"
      },
      "execution_count": null,
      "outputs": []
    }
  ]
}