{
  "nbformat": 4,
  "nbformat_minor": 0,
  "metadata": {
    "colab": {
      "name": "Untitled1.ipynb",
      "provenance": [],
      "authorship_tag": "ABX9TyNyS446VBTjSVgJZAg+Nj4+",
      "include_colab_link": true
    },
    "kernelspec": {
      "name": "python3",
      "display_name": "Python 3"
    },
    "language_info": {
      "name": "python"
    }
  },
  "cells": [
    {
      "cell_type": "markdown",
      "metadata": {
        "id": "view-in-github",
        "colab_type": "text"
      },
      "source": [
        "<a href=\"https://colab.research.google.com/github/Supakornnn/data_viz_2022/blob/main/Untitled1.ipynb\" target=\"_parent\"><img src=\"https://colab.research.google.com/assets/colab-badge.svg\" alt=\"Open In Colab\"/></a>"
      ]
    },
    {
      "cell_type": "code",
      "execution_count": null,
      "metadata": {
        "id": "1pe8uABeIxwv"
      },
      "outputs": [],
      "source": [
        "introduction to Basic Programming for Data Science And Visualization"
      ]
    },
    {
      "cell_type": "code",
      "source": [
        "a=1\n",
        "b=2\n",
        "a+b\n",
        "3"
      ],
      "metadata": {
        "id": "GSvxFJ9EJNev"
      },
      "execution_count": null,
      "outputs": []
    },
    {
      "cell_type": "markdown",
      "source": [
        "1+2"
      ],
      "metadata": {
        "id": "VXDQCrs4JV8C"
      }
    },
    {
      "cell_type": "code",
      "source": [
        "print('ศุภกร บุญยศาสตร์ ID 6230210085')"
      ],
      "metadata": {
        "id": "PVrRCLJnJXiI"
      },
      "execution_count": null,
      "outputs": []
    },
    {
      "cell_type": "markdown",
      "source": [
        "ศุภกร บุญยศาสตร์ ID 6230210085"
      ],
      "metadata": {
        "id": "q0W9Lf4pJvkB"
      }
    },
    {
      "cell_type": "code",
      "source": [
        "aaaa=1"
      ],
      "metadata": {
        "id": "zvKIxgeeJm24"
      },
      "execution_count": null,
      "outputs": []
    },
    {
      "cell_type": "code",
      "source": [
        ""
      ],
      "metadata": {
        "id": "dQNGNdRMJrPA"
      },
      "execution_count": null,
      "outputs": []
    },
    {
      "cell_type": "markdown",
      "source": [
        ""
      ],
      "metadata": {
        "id": "Bzv10oAFI3u8"
      }
    }
  ]
}