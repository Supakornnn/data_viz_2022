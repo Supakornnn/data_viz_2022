{
  "nbformat": 4,
  "nbformat_minor": 0,
  "metadata": {
    "colab": {
      "name": "Untitled3.ipynb",
      "provenance": [],
      "collapsed_sections": [],
      "authorship_tag": "ABX9TyNkqLFW+aZvX9sc++tPrkT3",
      "include_colab_link": true
    },
    "kernelspec": {
      "name": "python3",
      "display_name": "Python 3"
    },
    "language_info": {
      "name": "python"
    }
  },
  "cells": [
    {
      "cell_type": "markdown",
      "metadata": {
        "id": "view-in-github",
        "colab_type": "text"
      },
      "source": [
        "<a href=\"https://colab.research.google.com/github/Supakornnn/data_viz_2022/blob/main/Untitled3.ipynb\" target=\"_parent\"><img src=\"https://colab.research.google.com/assets/colab-badge.svg\" alt=\"Open In Colab\"/></a>"
      ]
    },
    {
      "cell_type": "markdown",
      "source": [
        "# Functions ($f(x) =$y)"
      ],
      "metadata": {
        "id": "IQPNcVJLDcD4"
      }
    },
    {
      "cell_type": "markdown",
      "source": [
        "\n",
        "\n",
        "```python\n",
        "def function_name(input_x):\n",
        "    #do someting with input_x to get output_y\n",
        "    return output_y\n",
        "```\n",
        "\n"
      ],
      "metadata": {
        "id": "2UO-bZwGEFJu"
      }
    },
    {
      "cell_type": "markdown",
      "source": [
        "$_f1(x)=$x**2+75"
      ],
      "metadata": {
        "id": "wcuT0BaGF0fk"
      }
    },
    {
      "cell_type": "code",
      "source": [
        "def function_f1(x):\n",
        "  a = x**2\n",
        "  y = a+75\n",
        "  return y\n",
        "\n"
      ],
      "metadata": {
        "id": "p0xnkOTiF_Bx"
      },
      "execution_count": null,
      "outputs": []
    },
    {
      "cell_type": "code",
      "source": [
        "function_f1(3)"
      ],
      "metadata": {
        "colab": {
          "base_uri": "https://localhost:8080/"
        },
        "id": "rQgFhKn5GYhu",
        "outputId": "263ef297-9e40-41b1-9aaa-a7bd4d1a2919"
      },
      "execution_count": null,
      "outputs": [
        {
          "output_type": "execute_result",
          "data": {
            "text/plain": [
              "84"
            ]
          },
          "metadata": {},
          "execution_count": 5
        }
      ]
    },
    {
      "cell_type": "markdown",
      "source": [
        "Function มีส่วนสำคัญทั้งหมด 4 ส่วน\n",
        "1. บอกpython ว่าเราจะเขียนฟังก์ชัน ชื่ออะไร def function_name() : (ขาดไม่ได้๗\n",
        "2. กำหนดตัวเเปรที่จะเป็น input  _Input_ (ขาดไม่ได้)\n",
        "3. ส่วนประมวลผล do_something with Input to get Output (ขาดไม่ได้)\n",
        "4. ส่วน output return Output (ขาดได้)"
      ],
      "metadata": {
        "id": "L0IdAtm_HQbT"
      }
    },
    {
      "cell_type": "markdown",
      "source": [
        "### ตัวอย่าง Function ที่มีส่วนประกอบครบ"
      ],
      "metadata": {
        "id": "dximHL5hH87V"
      }
    },
    {
      "cell_type": "code",
      "source": [
        "def function_f1(x):\n",
        "  a = x**2\n",
        "  y = a+75\n",
        "  return y"
      ],
      "metadata": {
        "id": "fYfSfPRDIHCW"
      },
      "execution_count": null,
      "outputs": []
    },
    {
      "cell_type": "markdown",
      "source": [
        "### ตัวอย่าง Function ที่ไม่มี input"
      ],
      "metadata": {
        "id": "EkNkIiyAIINa"
      }
    },
    {
      "cell_type": "code",
      "source": [
        "def pi_v():\n",
        "  y = 3.14159265359\n",
        "  return y"
      ],
      "metadata": {
        "id": "DqdWIVYJGxGE"
      },
      "execution_count": null,
      "outputs": []
    },
    {
      "cell_type": "code",
      "source": [
        "piv = pi_v()\n",
        "circle_area_r2 = piv*(2**2)\n",
        "print(circle_area_r2)"
      ],
      "metadata": {
        "colab": {
          "base_uri": "https://localhost:8080/"
        },
        "id": "5UDgbhfoIi6G",
        "outputId": "76067f4c-dcac-444a-e709-f1344fe59d5b"
      },
      "execution_count": null,
      "outputs": [
        {
          "output_type": "stream",
          "name": "stdout",
          "text": [
            "12.56637061436\n"
          ]
        }
      ]
    },
    {
      "cell_type": "markdown",
      "source": [
        "### Function ไม่มี process ไม่ได้"
      ],
      "metadata": {
        "id": "fBnWv37IJOhh"
      }
    },
    {
      "cell_type": "code",
      "source": [
        "def function_a():"
      ],
      "metadata": {
        "colab": {
          "base_uri": "https://localhost:8080/",
          "height": 130
        },
        "id": "nVRqYM8uJYjH",
        "outputId": "9809d8c5-95d0-4b5f-f692-b579523089ad"
      },
      "execution_count": null,
      "outputs": [
        {
          "output_type": "error",
          "ename": "SyntaxError",
          "evalue": "ignored",
          "traceback": [
            "\u001b[0;36m  File \u001b[0;32m\"<ipython-input-15-07a0750214a8>\"\u001b[0;36m, line \u001b[0;32m1\u001b[0m\n\u001b[0;31m    def function_a():\u001b[0m\n\u001b[0m                     ^\u001b[0m\n\u001b[0;31mSyntaxError\u001b[0m\u001b[0;31m:\u001b[0m unexpected EOF while parsing\n"
          ]
        }
      ]
    },
    {
      "cell_type": "markdown",
      "source": [
        "ตัวอย่าง Function ที่ไม่มี output"
      ],
      "metadata": {
        "id": "uoaIL0DlJfBZ"
      }
    },
    {
      "cell_type": "code",
      "source": [
        "def print_name_id(name,id):\n",
        "    print(f'ชื่อ {name} รหัสประจำตัว {id}')"
      ],
      "metadata": {
        "id": "__6ERPuTJkhQ"
      },
      "execution_count": null,
      "outputs": []
    },
    {
      "cell_type": "code",
      "source": [
        "print_name_id('ศุภกร','623021008-5')"
      ],
      "metadata": {
        "colab": {
          "base_uri": "https://localhost:8080/"
        },
        "id": "K4C_OqXhJ1_0",
        "outputId": "bd9bbba0-8e85-4c95-a955-f09665ad6e0b"
      },
      "execution_count": null,
      "outputs": [
        {
          "output_type": "stream",
          "name": "stdout",
          "text": [
            "ชื่อ ศุภกร รหัสประจำตัว 623021008-5\n"
          ]
        }
      ]
    },
    {
      "cell_type": "code",
      "source": [
        "a = print_name_id('ศุภกร','623021008-5')"
      ],
      "metadata": {
        "colab": {
          "base_uri": "https://localhost:8080/"
        },
        "id": "j1wUKHUFKgLB",
        "outputId": "d4bb2d82-527a-4005-c67a-732610604253"
      },
      "execution_count": null,
      "outputs": [
        {
          "output_type": "stream",
          "name": "stdout",
          "text": [
            "ชื่อ ศุภกร รหัสประจำตัว 623021008-5\n"
          ]
        }
      ]
    },
    {
      "cell_type": "markdown",
      "source": [
        "ตัวอย่าง function print "
      ],
      "metadata": {
        "id": "xTvlJPtgOwIB"
      }
    },
    {
      "cell_type": "code",
      "source": [
        "print('ศุภกร',end='->')\n",
        "print('623021008-5')"
      ],
      "metadata": {
        "colab": {
          "base_uri": "https://localhost:8080/"
        },
        "id": "eHhT3rZmO32b",
        "outputId": "a1388302-7073-4725-b5ff-0a77105a8253"
      },
      "execution_count": null,
      "outputs": [
        {
          "output_type": "stream",
          "name": "stdout",
          "text": [
            "ศุภกร->623021008-5\n"
          ]
        }
      ]
    },
    {
      "cell_type": "code",
      "source": [
        "print('ศุภกร','623021008-5',sep = '&')"
      ],
      "metadata": {
        "colab": {
          "base_uri": "https://localhost:8080/"
        },
        "id": "maauoienPeN2",
        "outputId": "bfed13b4-0a39-4874-aaac-4ac58d3e9bba"
      },
      "execution_count": null,
      "outputs": [
        {
          "output_type": "stream",
          "name": "stdout",
          "text": [
            "ศุภกร&623021008-5\n"
          ]
        }
      ]
    },
    {
      "cell_type": "markdown",
      "source": [
        "## input ของ function เเบ่งเป็น 2 ชนิด (จำเป็นต้องใส่ กับ ไม่จำเป็นต้องใส่)"
      ],
      "metadata": {
        "id": "KKqCi_G4QF-2"
      }
    },
    {
      "cell_type": "code",
      "source": [
        "def print_grade(name,id,grade = 'F') : \n",
        "    print (f'รหัสประจำตัว {id} ชื่อ {name}')\n",
        "    print (f'ไ้ด้เกรด {grade}')\n"
      ],
      "metadata": {
        "id": "96cjVqaJQU63"
      },
      "execution_count": null,
      "outputs": []
    },
    {
      "cell_type": "markdown",
      "source": [
        "ตัวอย่าง function 'print_grade()' มี output 3 ตัว จำเป็นต้องใส่ 2 ตัว คือ name กับ id เเละไม่จำเป็นต้องใส่ 1 ตัว คือเกรดึ่งมีค่า defult เป็น F"
      ],
      "metadata": {
        "id": "KjeppAzXRIGS"
      }
    },
    {
      "cell_type": "code",
      "source": [
        "print_grade('นายสิทธัดกะ จรัสเเสง','623020541-2','A')"
      ],
      "metadata": {
        "colab": {
          "base_uri": "https://localhost:8080/"
        },
        "id": "G9OUj9T3RHLl",
        "outputId": "55053e47-0fb7-459f-8782-b0bd69c67d93"
      },
      "execution_count": null,
      "outputs": [
        {
          "output_type": "stream",
          "name": "stdout",
          "text": [
            "รหัสประจำตัว 623020541-2 ชื่อ นายสิทธัดกะ จรัสเเสง\n",
            "ไ้ด้เกรด A\n"
          ]
        }
      ]
    },
    {
      "cell_type": "code",
      "source": [
        "print_grade (id='623020541-2',name = 'นายสิทธัดกะ จรัสเเสง', grade='B+')"
      ],
      "metadata": {
        "colab": {
          "base_uri": "https://localhost:8080/"
        },
        "id": "prtrB5sqSBOw",
        "outputId": "2e2718cd-e453-4cd2-ac19-4a36fc1defc4"
      },
      "execution_count": null,
      "outputs": [
        {
          "output_type": "stream",
          "name": "stdout",
          "text": [
            "รหัสประจำตัว 623020541-2 ชื่อ นายสิทธัดกะ จรัสเเสง\n",
            "ไ้ด้เกรด B+\n"
          ]
        }
      ]
    },
    {
      "cell_type": "markdown",
      "source": [
        "## Looping (for)\n"
      ],
      "metadata": {
        "id": "Kn8IdpCVDjt7"
      }
    },
    {
      "cell_type": "markdown",
      "source": [
        "\n",
        "\n",
        "```python\n",
        "for member in listEx:\n",
        "    do_something()\n",
        "\n",
        "```\n",
        "\n"
      ],
      "metadata": {
        "id": "_64rtp74TXZf"
      }
    },
    {
      "cell_type": "code",
      "source": [
        "for member in [1,2,3,4,5,6]:\n",
        "    print(member)"
      ],
      "metadata": {
        "colab": {
          "base_uri": "https://localhost:8080/"
        },
        "id": "i1jaSZWbUPLw",
        "outputId": "39faca08-0ede-4fd5-8043-90d486ff5357"
      },
      "execution_count": null,
      "outputs": [
        {
          "output_type": "stream",
          "name": "stdout",
          "text": [
            "1\n",
            "2\n",
            "3\n",
            "4\n",
            "5\n",
            "6\n"
          ]
        }
      ]
    },
    {
      "cell_type": "code",
      "source": [
        "def print_name(name):\n",
        "    print(f'ฉันชื่อ {name}')"
      ],
      "metadata": {
        "id": "4u6gk_bWVHgO"
      },
      "execution_count": null,
      "outputs": []
    },
    {
      "cell_type": "code",
      "source": [
        "for name in ['วัชราภรณ์','จุพาการณ์','ชลธิชา','ญาดา','กิตติคุณ']:\n",
        "    N = name\n",
        "    print_name(N)"
      ],
      "metadata": {
        "colab": {
          "base_uri": "https://localhost:8080/"
        },
        "id": "78Q60Z20V6HZ",
        "outputId": "169b0613-7e5c-4977-af9e-4f49cdb62ab3"
      },
      "execution_count": null,
      "outputs": [
        {
          "output_type": "stream",
          "name": "stdout",
          "text": [
            "ฉันชื่อ วัชราภรณ์\n",
            "ฉันชื่อ จุพาการณ์\n",
            "ฉันชื่อ ชลธิชา\n",
            "ฉันชื่อ ญาดา\n",
            "ฉันชื่อ กิตติคุณ\n"
          ]
        }
      ]
    },
    {
      "cell_type": "code",
      "source": [
        "list_name_id_grade = [['นางสาวเบญญาภา ระภูเขียว','623020527-6','B'],\n",
        "                      ['นางสาวทักษิณา ราชหุ่น','623021000-1','A'],\n",
        "                      ['นางสาวปลายฟ้า คำเพ็ง','623021005-1','C']]"
      ],
      "metadata": {
        "id": "RkVkqu7BWW5e"
      },
      "execution_count": null,
      "outputs": []
    },
    {
      "cell_type": "code",
      "source": [
        "for each in list_name_id_grade:\n",
        "  name = each[0]\n",
        "  id = each[1]\n",
        "  grade = each[2]\n",
        "  print_grade(name,id,grade)\n",
        "  print('----------------')"
      ],
      "metadata": {
        "colab": {
          "base_uri": "https://localhost:8080/"
        },
        "id": "4oXDg3L7XWWw",
        "outputId": "630d166a-45bd-4e26-adc0-8a109d460ea6"
      },
      "execution_count": null,
      "outputs": [
        {
          "output_type": "stream",
          "name": "stdout",
          "text": [
            "รหัสประจำตัว 623020527-6 ชื่อ นางสาวเบญญาภา ระภูเขียว\n",
            "ไ้ด้เกรด B\n",
            "----------------\n",
            "รหัสประจำตัว 623021000-1 ชื่อ นางสาวทักษิณา ราชหุ่น\n",
            "ไ้ด้เกรด A\n",
            "----------------\n",
            "รหัสประจำตัว 623021005-1 ชื่อ นางสาวปลายฟ้า คำเพ็ง\n",
            "ไ้ด้เกรด C\n",
            "----------------\n"
          ]
        }
      ]
    },
    {
      "cell_type": "markdown",
      "source": [
        "### ใช้ for loop เพิ่มสมาชิกใน list"
      ],
      "metadata": {
        "id": "todMY2kmYpfa"
      }
    },
    {
      "cell_type": "code",
      "source": [
        "list_name = []\n",
        "list_id = []\n",
        "list_grade = []\n",
        "for each in list_name_id_grade:\n",
        "  list_name.append(each[0])\n",
        "  list_id.append(each[1])\n",
        "  list_grade.append(each[2])"
      ],
      "metadata": {
        "id": "3zxTINDjYxr-"
      },
      "execution_count": null,
      "outputs": []
    },
    {
      "cell_type": "code",
      "source": [
        "list_name"
      ],
      "metadata": {
        "colab": {
          "base_uri": "https://localhost:8080/"
        },
        "id": "PJYTDFjnXWB_",
        "outputId": "f589c3b4-557c-4cd3-e1b2-0f4693233110"
      },
      "execution_count": null,
      "outputs": [
        {
          "output_type": "execute_result",
          "data": {
            "text/plain": [
              "['นางสาวเบญญาภา ระภูเขียว', 'นางสาวทักษิณา ราชหุ่น', 'นางสาวปลายฟ้า คำเพ็ง']"
            ]
          },
          "metadata": {},
          "execution_count": 25
        }
      ]
    },
    {
      "cell_type": "markdown",
      "source": [
        "### การวนลูป range ()\n",
        "\n",
        "\n",
        "\n"
      ],
      "metadata": {
        "id": "lEovEVGibYdl"
      }
    },
    {
      "cell_type": "code",
      "source": [
        "for i in range(100):\n",
        "    print('งง',end = ' ')"
      ],
      "metadata": {
        "colab": {
          "base_uri": "https://localhost:8080/"
        },
        "id": "WEoEQUD1bXBv",
        "outputId": "24d61127-fc0b-499d-f72c-99cdc42dfe0b"
      },
      "execution_count": null,
      "outputs": [
        {
          "output_type": "stream",
          "name": "stdout",
          "text": [
            "งง งง งง งง งง งง งง งง งง งง งง งง งง งง งง งง งง งง งง งง งง งง งง งง งง งง งง งง งง งง งง งง งง งง งง งง งง งง งง งง งง งง งง งง งง งง งง งง งง งง งง งง งง งง งง งง งง งง งง งง งง งง งง งง งง งง งง งง งง งง งง งง งง งง งง งง งง งง งง งง งง งง งง งง งง งง งง งง งง งง งง งง งง งง งง งง งง งง งง งง "
          ]
        }
      ]
    },
    {
      "cell_type": "markdown",
      "source": [
        "###loop ซ้อน loop\n",
        "\n"
      ],
      "metadata": {
        "id": "pjXW9PbGcToK"
      }
    },
    {
      "cell_type": "code",
      "source": [
        "for mem1 in range(2,5): #[2,3,4]\n",
        "    print(f'now mem1 = {mem1}')\n",
        "    for mem2 in range(1,13): #[1,2,3,4,5,6,7,8,9,10,11,12]\n",
        "      print(f'{mem1} x {mem2} = {mem1*mem2}')\n",
        "    print('end inner for mem1 = {mem1}')\n"
      ],
      "metadata": {
        "colab": {
          "base_uri": "https://localhost:8080/"
        },
        "id": "PiR05q-mcjDp",
        "outputId": "96578798-b729-4017-c16f-4b6fa61c8596"
      },
      "execution_count": 44,
      "outputs": [
        {
          "output_type": "stream",
          "name": "stdout",
          "text": [
            "now mem1 = 2\n",
            "2 x 1 = 2\n",
            "2 x 2 = 4\n",
            "2 x 3 = 6\n",
            "2 x 4 = 8\n",
            "2 x 5 = 10\n",
            "2 x 6 = 12\n",
            "2 x 7 = 14\n",
            "2 x 8 = 16\n",
            "2 x 9 = 18\n",
            "2 x 10 = 20\n",
            "2 x 11 = 22\n",
            "2 x 12 = 24\n",
            "end inner for mem1 = {mem1}\n",
            "now mem1 = 3\n",
            "3 x 1 = 3\n",
            "3 x 2 = 6\n",
            "3 x 3 = 9\n",
            "3 x 4 = 12\n",
            "3 x 5 = 15\n",
            "3 x 6 = 18\n",
            "3 x 7 = 21\n",
            "3 x 8 = 24\n",
            "3 x 9 = 27\n",
            "3 x 10 = 30\n",
            "3 x 11 = 33\n",
            "3 x 12 = 36\n",
            "end inner for mem1 = {mem1}\n",
            "now mem1 = 4\n",
            "4 x 1 = 4\n",
            "4 x 2 = 8\n",
            "4 x 3 = 12\n",
            "4 x 4 = 16\n",
            "4 x 5 = 20\n",
            "4 x 6 = 24\n",
            "4 x 7 = 28\n",
            "4 x 8 = 32\n",
            "4 x 9 = 36\n",
            "4 x 10 = 40\n",
            "4 x 11 = 44\n",
            "4 x 12 = 48\n",
            "end inner for mem1 = {mem1}\n"
          ]
        }
      ]
    },
    {
      "cell_type": "markdown",
      "source": [
        "### Loop in function "
      ],
      "metadata": {
        "id": "CdEhxYgwgB4I"
      }
    },
    {
      "cell_type": "code",
      "source": [
        "def print_grade_loop(names,grade):\n",
        "    for n,g in zip(names,grade):\n",
        "        print(f'{n} ได้เกรด {g}') "
      ],
      "metadata": {
        "id": "Tk9Gv7uggBWO"
      },
      "execution_count": 45,
      "outputs": []
    },
    {
      "cell_type": "code",
      "source": [
        "print_grade_loop(list_name,list_grade)"
      ],
      "metadata": {
        "id": "YYDiMQVHgs5i",
        "outputId": "f26cf498-d188-4726-f66f-72d587e3f787",
        "colab": {
          "base_uri": "https://localhost:8080/",
          "height": 165
        }
      },
      "execution_count": 46,
      "outputs": [
        {
          "output_type": "error",
          "ename": "NameError",
          "evalue": "ignored",
          "traceback": [
            "\u001b[0;31m---------------------------------------------------------------------------\u001b[0m",
            "\u001b[0;31mNameError\u001b[0m                                 Traceback (most recent call last)",
            "\u001b[0;32m<ipython-input-46-18d48fe79724>\u001b[0m in \u001b[0;36m<module>\u001b[0;34m()\u001b[0m\n\u001b[0;32m----> 1\u001b[0;31m \u001b[0mprint_grade_loop\u001b[0m\u001b[0;34m(\u001b[0m\u001b[0mlist_name\u001b[0m\u001b[0;34m,\u001b[0m\u001b[0mlist_grade\u001b[0m\u001b[0;34m)\u001b[0m\u001b[0;34m\u001b[0m\u001b[0;34m\u001b[0m\u001b[0m\n\u001b[0m",
            "\u001b[0;31mNameError\u001b[0m: name 'list_name' is not defined"
          ]
        }
      ]
    },
    {
      "cell_type": "markdown",
      "source": [
        "## Conditional Statement (if)"
      ],
      "metadata": {
        "id": "6h79QGTaDn4s"
      }
    },
    {
      "cell_type": "markdown",
      "source": [
        "\n",
        "\n",
        "```\n",
        "if condition1:\n",
        "  do_something() ##ถ้า conditon1 เป็นจริง ทำ do_something()\n",
        "elif condition2:\n",
        "  do_another_thing()  ##ถ้า conditon1 ไม่เป็นจริงเเต้ condiion2 เป็นจริง ทำ do_another_thing()\n",
        "   do_something()\n",
        "else: \n",
        "  do_the_last_thing()  ##ถ้าไม่มี conditon ไหนเป็นจริงเลย ทำdo_the_last_thing()\n",
        "\n"
      ],
      "metadata": {
        "id": "YdRRRl1XiBzt"
      }
    },
    {
      "cell_type": "code",
      "source": [
        "for n in list_name:\n",
        "  if len(n)>20:\n",
        "    print(f'{n} ได้เกรด A')\n",
        "  else:\n",
        "    print(f'{n} ได้เกรด F')"
      ],
      "metadata": {
        "id": "F6XjDpPKDnTO",
        "colab": {
          "base_uri": "https://localhost:8080/"
        },
        "outputId": "57ac5062-94e3-40c4-b1cc-fc94c984a702"
      },
      "execution_count": null,
      "outputs": [
        {
          "output_type": "stream",
          "name": "stdout",
          "text": [
            "นางสาวเบญญาภา ระภูเขียว ได้เกรด A\n",
            "นางสาวทักษิณา ราชหุ่น ได้เกรด A\n",
            "นางสาวปลายฟ้า คำเพ็ง ได้เกรด F\n"
          ]
        }
      ]
    },
    {
      "cell_type": "markdown",
      "source": [
        "### operator ที่ใช้ตรวจสอบ condition \n",
        "\n",
        "==, !=, >=, <=, <, >,and, or"
      ],
      "metadata": {
        "id": "4TOdCyGskC9n"
      }
    },
    {
      "cell_type": "code",
      "execution_count": 47,
      "metadata": {
        "id": "M31W8wIaDS9b",
        "colab": {
          "base_uri": "https://localhost:8080/"
        },
        "outputId": "0a312ba3-2519-4056-fa5b-961fdd78f41b"
      },
      "outputs": [
        {
          "output_type": "stream",
          "name": "stdout",
          "text": [
            "False\n"
          ]
        }
      ],
      "source": [
        "a = 10 ==20\n",
        "print(a)"
      ]
    },
    {
      "cell_type": "code",
      "source": [
        "b = 15 <= 20\n",
        "print (b)"
      ],
      "metadata": {
        "id": "HBkaOSwckv4k",
        "outputId": "02c3ca26-494b-4270-c063-1d7c672c7adf",
        "colab": {
          "base_uri": "https://localhost:8080/"
        }
      },
      "execution_count": 48,
      "outputs": [
        {
          "output_type": "stream",
          "name": "stdout",
          "text": [
            "True\n"
          ]
        }
      ]
    },
    {
      "cell_type": "code",
      "source": [
        "if a:\n",
        "    print('x')"
      ],
      "metadata": {
        "id": "5gaWo6KLk0C9"
      },
      "execution_count": 49,
      "outputs": []
    },
    {
      "cell_type": "code",
      "source": [
        "if True:\n",
        "    print('x')"
      ],
      "metadata": {
        "id": "tRgCD-LIlPBp",
        "outputId": "a7763ae1-db18-4462-a1ce-c4f3c283e2ec",
        "colab": {
          "base_uri": "https://localhost:8080/"
        }
      },
      "execution_count": 50,
      "outputs": [
        {
          "output_type": "stream",
          "name": "stdout",
          "text": [
            "x\n"
          ]
        }
      ]
    },
    {
      "cell_type": "code",
      "source": [
        "if a and b:\n",
        "    print('x')"
      ],
      "metadata": {
        "id": "UlOCii5clUAT"
      },
      "execution_count": 51,
      "outputs": []
    },
    {
      "cell_type": "code",
      "source": [
        "if a or b:\n",
        "    print('x')"
      ],
      "metadata": {
        "id": "KUIecGa1lbQg",
        "outputId": "90d29060-dcbc-47a7-e220-b33da2144340",
        "colab": {
          "base_uri": "https://localhost:8080/"
        }
      },
      "execution_count": 52,
      "outputs": [
        {
          "output_type": "stream",
          "name": "stdout",
          "text": [
            "x\n"
          ]
        }
      ]
    },
    {
      "cell_type": "markdown",
      "source": [
        "# HW\n",
        "เขียน Function ตัดเกรด โดยที่ input เป็นคะเเนน(0-100) , output เป็นเกรด (F-A) หรือ 'ไม่สามารถตัดเกรดได้'\n",
        "\n",
        "วนลูปตัดเกรด input = [1,50,65,90,101,-5,49,'ก',80]\n",
        "\n",
        "กำหนด\n",
        "\n",
        "- ถ้าคะเเนนอยู่ระหว่างมากกว่าหรือเท่ากับ 0 เเต่น้อยกว่า 50 จะได้เกรด F \n",
        "- ถ้าคะเเนนอยู่ระหว่างมากกว่าหรือเท่ากับ 50 เเต่น้อยกว่า 55 จะได้เกรด D\n",
        "- ถ้าคะเเนนอยู่ระหว่างมากกว่าหรือเท่ากับ 55 เเต่น้อยกว่า 60 จะได้เกรด D+\n",
        "- ถ้าคะเเนนอยู่ระหว่างมากกว่าหรือเท่ากับ 60 เเต่น้อยกว่า 65 จะได้เกรด C   \n",
        "- ถ้าคะเเนนอยู่ระหว่างมากกว่าหรือเท่ากับ 65 เเต่น้อยกว่า 70 จะได้เกรด C+\n",
        "- ถ้าคะเเนนอยู่ระหว่างมากกว่าหรือเท่ากับ 70 เเต่น้อยกว่า 75 จะได้เกรด B\n",
        "- ถ้าคะเเนนอยู่ระหว่างมากกว่าหรือเท่ากับ 75 เเต่น้อยกว่า 80 จะได้เกรด B+\n",
        "- ถ้าคะเเนนอยู่ระหว่างมากกว่าหรือเท่ากับ 80 จะได้เกรด A\n",
        "\n",
        "ถ้าคะแนนไม่อยู่ในช่วง 0-100 ให้ return 'ไม่สามารถตัดเกรดได้'"
      ],
      "metadata": {
        "id": "hslkZ7rel0Tc"
      }
    },
    {
      "cell_type": "code",
      "source": [
        "คะเเนน = [1,50,65,90,101,-5,49,'ก',80]"
      ],
      "metadata": {
        "id": "IT7I4pIunylM"
      },
      "execution_count": 53,
      "outputs": []
    },
    {
      "cell_type": "code",
      "source": [
        "print(คะเเนน)\n",
        "for s in คะเเนน:\n",
        "    if type(s) == type(\"\"):\n",
        "        print (f'คะแนน {s} ไม่สามารถตัดเกรดได้')\n",
        "    else:\n",
        "        if s >= 101:\n",
        "            print (f'คะแนน {s} ไม่สามารถตัดเกรดได้')\n",
        "        elif s >= 80:\n",
        "            print (f'คะแนน {s} ได้เกรด A')\n",
        "        elif s >= 75:\n",
        "            print (f'คะแนน {s} ได้เกรด B+')\n",
        "        elif s >= 70:\n",
        "            print (f'คะแนน {s} ได้เกรด B')\n",
        "        elif s >= 65:\n",
        "            print (f'คะแนน {s} ได้เกรด C+')\n",
        "        elif  s >= 60:\n",
        "            print (f'คะแนน {s} ได้เกรด C')\n",
        "        elif  s >= 55:\n",
        "            print (f'คะแนน {s} ได้เกรด D+')\n",
        "        elif  s >= 50:\n",
        "            print (f'คะแนน {s} ได้เกรด D')\n",
        "        elif  s >= 0:\n",
        "            print (f'คะแนน {s} ได้เกรด F')\n",
        "        else:\n",
        "            print (f'คะแนน {s} ไม่สามารถตัดเกรดได้')"
      ],
      "metadata": {
        "id": "lttT73KEOZzg",
        "outputId": "3ffa7215-7eb0-4656-c79b-3f391b990848",
        "colab": {
          "base_uri": "https://localhost:8080/"
        }
      },
      "execution_count": 54,
      "outputs": [
        {
          "output_type": "stream",
          "name": "stdout",
          "text": [
            "[1, 50, 65, 90, 101, -5, 49, 'ก', 80]\n",
            "คะแนน 1 ได้เกรด F\n",
            "คะแนน 50 ได้เกรด D\n",
            "คะแนน 65 ได้เกรด C+\n",
            "คะแนน 90 ได้เกรด A\n",
            "คะแนน 101 ไม่สามารถตัดเกรดได้\n",
            "คะแนน -5 ไม่สามารถตัดเกรดได้\n",
            "คะแนน 49 ได้เกรด F\n",
            "คะแนน ก ไม่สามารถตัดเกรดได้\n",
            "คะแนน 80 ได้เกรด A\n"
          ]
        }
      ]
    },
    {
      "cell_type": "code",
      "source": [
        "input = [1, 50, 65, 90, 101, -5, 49, 'ก', 80]"
      ],
      "metadata": {
        "id": "NL4J1NjUvl8h"
      },
      "execution_count": 55,
      "outputs": []
    },
    {
      "cell_type": "code",
      "source": [
        "'ก' is not int()"
      ],
      "metadata": {
        "id": "Z0ylI39Rvuhc",
        "outputId": "6756af46-dae2-44bc-ebc9-26e24d4a9d8d",
        "colab": {
          "base_uri": "https://localhost:8080/"
        }
      },
      "execution_count": 56,
      "outputs": [
        {
          "output_type": "execute_result",
          "data": {
            "text/plain": [
              "True"
            ]
          },
          "metadata": {},
          "execution_count": 56
        }
      ]
    },
    {
      "cell_type": "code",
      "source": [
        "type('')"
      ],
      "metadata": {
        "id": "RDo15iYuwCOP",
        "outputId": "5095cafd-cec3-4eb8-82b0-d0e4c661fb2f",
        "colab": {
          "base_uri": "https://localhost:8080/"
        }
      },
      "execution_count": 57,
      "outputs": [
        {
          "output_type": "execute_result",
          "data": {
            "text/plain": [
              "str"
            ]
          },
          "metadata": {},
          "execution_count": 57
        }
      ]
    },
    {
      "cell_type": "code",
      "source": [
        "def grading(S):\n",
        "  if type (s) is int:\n",
        "     if s < 0:\n",
        "          y= (f'คะแนน {s} ไม่สามารถตัดเกรดได้')  \n",
        "        elif s <= 100:\n",
        "           y= (f'คะแนน {s} ได้เกรด A')\n",
        "        elif s < 80:\n",
        "            y=(f'คะแนน {s} ได้เกรด B+')\n",
        "        elif s < 75:\n",
        "            y= (f'คะแนน {s} ได้เกรด B')\n",
        "        elif s < 70:\n",
        "           y= (f'คะแนน {s} ได้เกรด C+')\n",
        "        elif s < 65:\n",
        "           y= (f'คะแนน {s} ได้เกรด C')\n",
        "        elif  s < 60:\n",
        "           y= (f'คะแนน {s} ได้เกรด D+')\n",
        "        elif  s < 55:\n",
        "            y= (f'คะแนน {s} ได้เกรด D')\n",
        "        elif  s < 50:\n",
        "           y=  (f'คะแนน {s} ได้เกรด F')\n",
        "        else:\n",
        "            y= (f'คะแนน {s} ไม่สามารถตัดเกรดได้')\n",
        "    else:\n",
        "       print (f'คะแนน {s} ไม่สามารถตัดเกรดได้')  \n",
        "      return y"
      ],
      "metadata": {
        "id": "ohbO3BGKvzOW",
        "outputId": "a7bb25d2-b9c0-487f-d73a-8b085da54d4c",
        "colab": {
          "base_uri": "https://localhost:8080/",
          "height": 130
        }
      },
      "execution_count": 63,
      "outputs": [
        {
          "output_type": "error",
          "ename": "IndentationError",
          "evalue": "ignored",
          "traceback": [
            "\u001b[0;36m  File \u001b[0;32m\"<ipython-input-63-27a86acd31c7>\"\u001b[0;36m, line \u001b[0;32m5\u001b[0m\n\u001b[0;31m    elif s <= 100:\u001b[0m\n\u001b[0m                  ^\u001b[0m\n\u001b[0;31mIndentationError\u001b[0m\u001b[0;31m:\u001b[0m unindent does not match any outer indentation level\n"
          ]
        }
      ]
    }
  ]
}