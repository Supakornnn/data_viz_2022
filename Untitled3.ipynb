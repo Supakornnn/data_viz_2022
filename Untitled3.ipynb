{
  "nbformat": 4,
  "nbformat_minor": 0,
  "metadata": {
    "colab": {
      "name": "Untitled3.ipynb",
      "provenance": [],
      "collapsed_sections": [],
      "authorship_tag": "ABX9TyN9o7q2bKi/cSTGJJIj6gCZ",
      "include_colab_link": true
    },
    "kernelspec": {
      "name": "python3",
      "display_name": "Python 3"
    },
    "language_info": {
      "name": "python"
    }
  },
  "cells": [
    {
      "cell_type": "markdown",
      "metadata": {
        "id": "view-in-github",
        "colab_type": "text"
      },
      "source": [
        "<a href=\"https://colab.research.google.com/github/Supakornnn/data_viz_2022/blob/main/Untitled3.ipynb\" target=\"_parent\"><img src=\"https://colab.research.google.com/assets/colab-badge.svg\" alt=\"Open In Colab\"/></a>"
      ]
    },
    {
      "cell_type": "markdown",
      "source": [
        "# Functions ($f(x) =$y)"
      ],
      "metadata": {
        "id": "IQPNcVJLDcD4"
      }
    },
    {
      "cell_type": "markdown",
      "source": [
        "\n",
        "\n",
        "```python\n",
        "def function_name(input_x):\n",
        "    #do someting with input_x to get output_y\n",
        "    return output_y\n",
        "```\n",
        "\n"
      ],
      "metadata": {
        "id": "2UO-bZwGEFJu"
      }
    },
    {
      "cell_type": "markdown",
      "source": [
        "$_f1(x)=$x**2+75"
      ],
      "metadata": {
        "id": "wcuT0BaGF0fk"
      }
    },
    {
      "cell_type": "code",
      "source": [
        "def function_f1(x):\n",
        "  a = x**2\n",
        "  y = a+75\n",
        "  return y\n",
        "\n"
      ],
      "metadata": {
        "id": "p0xnkOTiF_Bx"
      },
      "execution_count": null,
      "outputs": []
    },
    {
      "cell_type": "code",
      "source": [
        "function_f1(3)"
      ],
      "metadata": {
        "colab": {
          "base_uri": "https://localhost:8080/"
        },
        "id": "rQgFhKn5GYhu",
        "outputId": "263ef297-9e40-41b1-9aaa-a7bd4d1a2919"
      },
      "execution_count": null,
      "outputs": [
        {
          "output_type": "execute_result",
          "data": {
            "text/plain": [
              "84"
            ]
          },
          "metadata": {},
          "execution_count": 5
        }
      ]
    },
    {
      "cell_type": "markdown",
      "source": [
        "Function มีส่วนสำคัญทั้งหมด 4 ส่วน\n",
        "1. บอกpython ว่าเราจะเขียนฟังก์ชัน ชื่ออะไร def function_name() : (ขาดไม่ได้๗\n",
        "2. กำหนดตัวเเปรที่จะเป็น input  _Input_ (ขาดไม่ได้)\n",
        "3. ส่วนประมวลผล do_something with Input to get Output (ขาดไม่ได้)\n",
        "4. ส่วน output return Output (ขาดได้)"
      ],
      "metadata": {
        "id": "L0IdAtm_HQbT"
      }
    },
    {
      "cell_type": "markdown",
      "source": [
        "### ตัวอย่าง Function ที่มีส่วนประกอบครบ"
      ],
      "metadata": {
        "id": "dximHL5hH87V"
      }
    },
    {
      "cell_type": "code",
      "source": [
        "def function_f1(x):\n",
        "  a = x**2\n",
        "  y = a+75\n",
        "  return y"
      ],
      "metadata": {
        "id": "fYfSfPRDIHCW"
      },
      "execution_count": null,
      "outputs": []
    },
    {
      "cell_type": "markdown",
      "source": [
        "### ตัวอย่าง Function ที่ไม่มี input"
      ],
      "metadata": {
        "id": "EkNkIiyAIINa"
      }
    },
    {
      "cell_type": "code",
      "source": [
        "def pi_v():\n",
        "  y = 3.14159265359\n",
        "  return y"
      ],
      "metadata": {
        "id": "DqdWIVYJGxGE"
      },
      "execution_count": null,
      "outputs": []
    },
    {
      "cell_type": "code",
      "source": [
        "piv = pi_v()\n",
        "circle_area_r2 = piv*(2**2)\n",
        "print(circle_area_r2)"
      ],
      "metadata": {
        "colab": {
          "base_uri": "https://localhost:8080/"
        },
        "id": "5UDgbhfoIi6G",
        "outputId": "76067f4c-dcac-444a-e709-f1344fe59d5b"
      },
      "execution_count": null,
      "outputs": [
        {
          "output_type": "stream",
          "name": "stdout",
          "text": [
            "12.56637061436\n"
          ]
        }
      ]
    },
    {
      "cell_type": "markdown",
      "source": [
        "### Function ไม่มี process ไม่ได้"
      ],
      "metadata": {
        "id": "fBnWv37IJOhh"
      }
    },
    {
      "cell_type": "code",
      "source": [
        "def function_a():"
      ],
      "metadata": {
        "colab": {
          "base_uri": "https://localhost:8080/",
          "height": 130
        },
        "id": "nVRqYM8uJYjH",
        "outputId": "9809d8c5-95d0-4b5f-f692-b579523089ad"
      },
      "execution_count": null,
      "outputs": [
        {
          "output_type": "error",
          "ename": "SyntaxError",
          "evalue": "ignored",
          "traceback": [
            "\u001b[0;36m  File \u001b[0;32m\"<ipython-input-15-07a0750214a8>\"\u001b[0;36m, line \u001b[0;32m1\u001b[0m\n\u001b[0;31m    def function_a():\u001b[0m\n\u001b[0m                     ^\u001b[0m\n\u001b[0;31mSyntaxError\u001b[0m\u001b[0;31m:\u001b[0m unexpected EOF while parsing\n"
          ]
        }
      ]
    },
    {
      "cell_type": "markdown",
      "source": [
        "ตัวอย่าง Function ที่ไม่มี output"
      ],
      "metadata": {
        "id": "uoaIL0DlJfBZ"
      }
    },
    {
      "cell_type": "code",
      "source": [
        "def print_name_id(name,id):\n",
        "    print(f'ชื่อ {name} รหัสประจำตัว {id}')"
      ],
      "metadata": {
        "id": "__6ERPuTJkhQ"
      },
      "execution_count": null,
      "outputs": []
    },
    {
      "cell_type": "code",
      "source": [
        "print_name_id('ศุภกร','623021008-5')"
      ],
      "metadata": {
        "colab": {
          "base_uri": "https://localhost:8080/"
        },
        "id": "K4C_OqXhJ1_0",
        "outputId": "bd9bbba0-8e85-4c95-a955-f09665ad6e0b"
      },
      "execution_count": null,
      "outputs": [
        {
          "output_type": "stream",
          "name": "stdout",
          "text": [
            "ชื่อ ศุภกร รหัสประจำตัว 623021008-5\n"
          ]
        }
      ]
    },
    {
      "cell_type": "code",
      "source": [
        "a = print_name_id('ศุภกร','623021008-5')"
      ],
      "metadata": {
        "colab": {
          "base_uri": "https://localhost:8080/"
        },
        "id": "j1wUKHUFKgLB",
        "outputId": "d4bb2d82-527a-4005-c67a-732610604253"
      },
      "execution_count": null,
      "outputs": [
        {
          "output_type": "stream",
          "name": "stdout",
          "text": [
            "ชื่อ ศุภกร รหัสประจำตัว 623021008-5\n"
          ]
        }
      ]
    },
    {
      "cell_type": "markdown",
      "source": [
        "ตัวอย่าง function print "
      ],
      "metadata": {
        "id": "xTvlJPtgOwIB"
      }
    },
    {
      "cell_type": "code",
      "source": [
        "print('ศุภกร',end='->')\n",
        "print('623021008-5')"
      ],
      "metadata": {
        "colab": {
          "base_uri": "https://localhost:8080/"
        },
        "id": "eHhT3rZmO32b",
        "outputId": "a1388302-7073-4725-b5ff-0a77105a8253"
      },
      "execution_count": null,
      "outputs": [
        {
          "output_type": "stream",
          "name": "stdout",
          "text": [
            "ศุภกร->623021008-5\n"
          ]
        }
      ]
    },
    {
      "cell_type": "code",
      "source": [
        "print('ศุภกร','623021008-5',sep = '&')"
      ],
      "metadata": {
        "colab": {
          "base_uri": "https://localhost:8080/"
        },
        "id": "maauoienPeN2",
        "outputId": "bfed13b4-0a39-4874-aaac-4ac58d3e9bba"
      },
      "execution_count": null,
      "outputs": [
        {
          "output_type": "stream",
          "name": "stdout",
          "text": [
            "ศุภกร&623021008-5\n"
          ]
        }
      ]
    },
    {
      "cell_type": "markdown",
      "source": [
        "## input ของ function เเบ่งเป็น 2 ชนิด (จำเป็นต้องใส่ กับ ไม่จำเป็นต้องใส่)"
      ],
      "metadata": {
        "id": "KKqCi_G4QF-2"
      }
    },
    {
      "cell_type": "code",
      "source": [
        "def print_grade(name,id,grade = 'F') : \n",
        "    print (f'รหัสประจำตัว {id} ชื่อ {name}')\n",
        "    print (f'ไ้ด้เกรด {grade}')\n"
      ],
      "metadata": {
        "id": "96cjVqaJQU63"
      },
      "execution_count": 4,
      "outputs": []
    },
    {
      "cell_type": "markdown",
      "source": [
        "ตัวอย่าง function 'print_grade()' มี output 3 ตัว จำเป็นต้องใส่ 2 ตัว คือ name กับ id เเละไม่จำเป็นต้องใส่ 1 ตัว คือเกรดึ่งมีค่า defult เป็น F"
      ],
      "metadata": {
        "id": "KjeppAzXRIGS"
      }
    },
    {
      "cell_type": "code",
      "source": [
        "print_grade('นายสิทธัดกะ จรัสเเสง','623020541-2','A')"
      ],
      "metadata": {
        "colab": {
          "base_uri": "https://localhost:8080/"
        },
        "id": "G9OUj9T3RHLl",
        "outputId": "55053e47-0fb7-459f-8782-b0bd69c67d93"
      },
      "execution_count": 5,
      "outputs": [
        {
          "output_type": "stream",
          "name": "stdout",
          "text": [
            "รหัสประจำตัว 623020541-2 ชื่อ นายสิทธัดกะ จรัสเเสง\n",
            "ไ้ด้เกรด A\n"
          ]
        }
      ]
    },
    {
      "cell_type": "code",
      "source": [
        "print_grade (id='623020541-2',name = 'นายสิทธัดกะ จรัสเเสง', grade='B+')"
      ],
      "metadata": {
        "colab": {
          "base_uri": "https://localhost:8080/"
        },
        "id": "prtrB5sqSBOw",
        "outputId": "2e2718cd-e453-4cd2-ac19-4a36fc1defc4"
      },
      "execution_count": 6,
      "outputs": [
        {
          "output_type": "stream",
          "name": "stdout",
          "text": [
            "รหัสประจำตัว 623020541-2 ชื่อ นายสิทธัดกะ จรัสเเสง\n",
            "ไ้ด้เกรด B+\n"
          ]
        }
      ]
    },
    {
      "cell_type": "markdown",
      "source": [
        "## Looping (for)\n"
      ],
      "metadata": {
        "id": "Kn8IdpCVDjt7"
      }
    },
    {
      "cell_type": "markdown",
      "source": [
        "\n",
        "\n",
        "```python\n",
        "for member in listEx:\n",
        "    do_something()\n",
        "\n",
        "```\n",
        "\n"
      ],
      "metadata": {
        "id": "_64rtp74TXZf"
      }
    },
    {
      "cell_type": "code",
      "source": [
        "for member in [1,2,3,4,5,6]:\n",
        "    print(member)"
      ],
      "metadata": {
        "colab": {
          "base_uri": "https://localhost:8080/"
        },
        "id": "i1jaSZWbUPLw",
        "outputId": "39faca08-0ede-4fd5-8043-90d486ff5357"
      },
      "execution_count": 1,
      "outputs": [
        {
          "output_type": "stream",
          "name": "stdout",
          "text": [
            "1\n",
            "2\n",
            "3\n",
            "4\n",
            "5\n",
            "6\n"
          ]
        }
      ]
    },
    {
      "cell_type": "code",
      "source": [
        "def print_name(name):\n",
        "    print(f'ฉันชื่อ {name}')"
      ],
      "metadata": {
        "id": "4u6gk_bWVHgO"
      },
      "execution_count": 7,
      "outputs": []
    },
    {
      "cell_type": "code",
      "source": [
        "for name in ['วัชราภรณ์','จุพาการณ์','ชลธิชา','ญาดา','กิตติคุณ']:\n",
        "    N = name\n",
        "    print_name(N)"
      ],
      "metadata": {
        "colab": {
          "base_uri": "https://localhost:8080/"
        },
        "id": "78Q60Z20V6HZ",
        "outputId": "169b0613-7e5c-4977-af9e-4f49cdb62ab3"
      },
      "execution_count": 11,
      "outputs": [
        {
          "output_type": "stream",
          "name": "stdout",
          "text": [
            "ฉันชื่อ วัชราภรณ์\n",
            "ฉันชื่อ จุพาการณ์\n",
            "ฉันชื่อ ชลธิชา\n",
            "ฉันชื่อ ญาดา\n",
            "ฉันชื่อ กิตติคุณ\n"
          ]
        }
      ]
    },
    {
      "cell_type": "code",
      "source": [
        "list_name_id_grade = [['นางสาวเบญญาภา ระภูเขียว','623020527-6','B'],\n",
        "                      ['นางสาวทักษิณา ราชหุ่น','623021000-1','A'],\n",
        "                      ['นางสาวปลายฟ้า คำเพ็ง','623021005-1','C']]"
      ],
      "metadata": {
        "id": "RkVkqu7BWW5e"
      },
      "execution_count": 22,
      "outputs": []
    },
    {
      "cell_type": "code",
      "source": [
        "for each in list_name_id_grade:\n",
        "  name = each[0]\n",
        "  id = each[1]\n",
        "  grade = each[2]\n",
        "  print_grade(name,id,grade)\n",
        "  print('----------------')"
      ],
      "metadata": {
        "colab": {
          "base_uri": "https://localhost:8080/"
        },
        "id": "4oXDg3L7XWWw",
        "outputId": "630d166a-45bd-4e26-adc0-8a109d460ea6"
      },
      "execution_count": 23,
      "outputs": [
        {
          "output_type": "stream",
          "name": "stdout",
          "text": [
            "รหัสประจำตัว 623020527-6 ชื่อ นางสาวเบญญาภา ระภูเขียว\n",
            "ไ้ด้เกรด B\n",
            "----------------\n",
            "รหัสประจำตัว 623021000-1 ชื่อ นางสาวทักษิณา ราชหุ่น\n",
            "ไ้ด้เกรด A\n",
            "----------------\n",
            "รหัสประจำตัว 623021005-1 ชื่อ นางสาวปลายฟ้า คำเพ็ง\n",
            "ไ้ด้เกรด C\n",
            "----------------\n"
          ]
        }
      ]
    },
    {
      "cell_type": "markdown",
      "source": [
        "### ใช้ for loop เพิ่มสมาชิกใน list"
      ],
      "metadata": {
        "id": "todMY2kmYpfa"
      }
    },
    {
      "cell_type": "code",
      "source": [
        "list_name = []\n",
        "list_id = []\n",
        "list_grade = []\n",
        "for each in list_name_id_grade:\n",
        "  list_name.append(each[0])\n",
        "  list_id.append(each[1])\n",
        "  list_grade.append(each[2])"
      ],
      "metadata": {
        "id": "3zxTINDjYxr-"
      },
      "execution_count": 24,
      "outputs": []
    },
    {
      "cell_type": "code",
      "source": [
        "list_name"
      ],
      "metadata": {
        "colab": {
          "base_uri": "https://localhost:8080/"
        },
        "id": "PJYTDFjnXWB_",
        "outputId": "f589c3b4-557c-4cd3-e1b2-0f4693233110"
      },
      "execution_count": 25,
      "outputs": [
        {
          "output_type": "execute_result",
          "data": {
            "text/plain": [
              "['นางสาวเบญญาภา ระภูเขียว', 'นางสาวทักษิณา ราชหุ่น', 'นางสาวปลายฟ้า คำเพ็ง']"
            ]
          },
          "metadata": {},
          "execution_count": 25
        }
      ]
    },
    {
      "cell_type": "markdown",
      "source": [
        "### การวนลูป range ()\n",
        "\n",
        "\n",
        "\n"
      ],
      "metadata": {
        "id": "lEovEVGibYdl"
      }
    },
    {
      "cell_type": "code",
      "source": [
        "for i in range(100):\n",
        "    print('งง',end = ' ')"
      ],
      "metadata": {
        "colab": {
          "base_uri": "https://localhost:8080/"
        },
        "id": "WEoEQUD1bXBv",
        "outputId": "24d61127-fc0b-499d-f72c-99cdc42dfe0b"
      },
      "execution_count": 26,
      "outputs": [
        {
          "output_type": "stream",
          "name": "stdout",
          "text": [
            "งง งง งง งง งง งง งง งง งง งง งง งง งง งง งง งง งง งง งง งง งง งง งง งง งง งง งง งง งง งง งง งง งง งง งง งง งง งง งง งง งง งง งง งง งง งง งง งง งง งง งง งง งง งง งง งง งง งง งง งง งง งง งง งง งง งง งง งง งง งง งง งง งง งง งง งง งง งง งง งง งง งง งง งง งง งง งง งง งง งง งง งง งง งง งง งง งง งง งง งง "
          ]
        }
      ]
    },
    {
      "cell_type": "markdown",
      "source": [
        "###loop ซ้อน loop\n",
        "\n"
      ],
      "metadata": {
        "id": "pjXW9PbGcToK"
      }
    },
    {
      "cell_type": "code",
      "source": [
        "for mem1 in range(2,5): #[2,3,4]\n",
        "    print(f'now mem1 = {mem1}')\n",
        "    for mem2 in range(1,13): #[1,2,3,4,5,6,7,8,9,10,11,12]\n",
        "      print(f'{mem1} x {mem2} = {mem1*mem2}')\n",
        "    print('end inner for mem1 = {mem1}')\n"
      ],
      "metadata": {
        "colab": {
          "base_uri": "https://localhost:8080/"
        },
        "id": "PiR05q-mcjDp",
        "outputId": "e6f6108f-bfc9-4eeb-841e-075dac215b25"
      },
      "execution_count": 29,
      "outputs": [
        {
          "output_type": "stream",
          "name": "stdout",
          "text": [
            "now mem1 = 2\n",
            "2 x 1 = 2\n",
            "2 x 2 = 4\n",
            "2 x 3 = 6\n",
            "2 x 4 = 8\n",
            "2 x 5 = 10\n",
            "2 x 6 = 12\n",
            "2 x 7 = 14\n",
            "2 x 8 = 16\n",
            "2 x 9 = 18\n",
            "2 x 10 = 20\n",
            "2 x 11 = 22\n",
            "2 x 12 = 24\n",
            "end inner for mem1 = {mem1}\n",
            "now mem1 = 3\n",
            "3 x 1 = 3\n",
            "3 x 2 = 6\n",
            "3 x 3 = 9\n",
            "3 x 4 = 12\n",
            "3 x 5 = 15\n",
            "3 x 6 = 18\n",
            "3 x 7 = 21\n",
            "3 x 8 = 24\n",
            "3 x 9 = 27\n",
            "3 x 10 = 30\n",
            "3 x 11 = 33\n",
            "3 x 12 = 36\n",
            "end inner for mem1 = {mem1}\n",
            "now mem1 = 4\n",
            "4 x 1 = 4\n",
            "4 x 2 = 8\n",
            "4 x 3 = 12\n",
            "4 x 4 = 16\n",
            "4 x 5 = 20\n",
            "4 x 6 = 24\n",
            "4 x 7 = 28\n",
            "4 x 8 = 32\n",
            "4 x 9 = 36\n",
            "4 x 10 = 40\n",
            "4 x 11 = 44\n",
            "4 x 12 = 48\n",
            "end inner for mem1 = {mem1}\n"
          ]
        }
      ]
    },
    {
      "cell_type": "markdown",
      "source": [
        "### Loop in function "
      ],
      "metadata": {
        "id": "CdEhxYgwgB4I"
      }
    },
    {
      "cell_type": "code",
      "source": [
        "def print_grade_loop(names,grade):\n",
        "    for n,g in zip(names,grade):\n",
        "        print(f'{n} ได้เกรด {g}') "
      ],
      "metadata": {
        "id": "Tk9Gv7uggBWO"
      },
      "execution_count": 33,
      "outputs": []
    },
    {
      "cell_type": "code",
      "source": [
        "print_grade_loop(list_name,list_grade)"
      ],
      "metadata": {
        "id": "YYDiMQVHgs5i",
        "outputId": "04768180-1ec8-4158-888b-df82d770b2b3",
        "colab": {
          "base_uri": "https://localhost:8080/"
        }
      },
      "execution_count": 34,
      "outputs": [
        {
          "output_type": "stream",
          "name": "stdout",
          "text": [
            "นางสาวเบญญาภา ระภูเขียว ได้เกรด B\n",
            "นางสาวทักษิณา ราชหุ่น ได้เกรด A\n",
            "นางสาวปลายฟ้า คำเพ็ง ได้เกรด C\n"
          ]
        }
      ]
    },
    {
      "cell_type": "markdown",
      "source": [
        "## Conditional Statement (if)"
      ],
      "metadata": {
        "id": "6h79QGTaDn4s"
      }
    },
    {
      "cell_type": "markdown",
      "source": [
        "\n",
        "\n",
        "```\n",
        "if condition1:\n",
        "  do_something() ##ถ้า conditon1 เป็นจริง ทำ do_something()\n",
        "elif condition2:\n",
        "  do_another_thing()  ##ถ้า conditon1 ไม่เป็นจริงเเต้ condiion2 เป็นจริง ทำ do_another_thing()\n",
        "   do_something()\n",
        "else: \n",
        "  do_the_last_thing()  ##ถ้าไม่มี conditon ไหนเป็นจริงเลย ทำdo_the_last_thing()\n",
        "\n"
      ],
      "metadata": {
        "id": "YdRRRl1XiBzt"
      }
    },
    {
      "cell_type": "code",
      "source": [
        "for n in list_name:\n",
        "  if len(n)>20:\n",
        "    print(f'{n} ได้เกรด A')\n",
        "  else:\n",
        "    print(f'{n} ได้เกรด F')"
      ],
      "metadata": {
        "id": "F6XjDpPKDnTO",
        "colab": {
          "base_uri": "https://localhost:8080/"
        },
        "outputId": "57ac5062-94e3-40c4-b1cc-fc94c984a702"
      },
      "execution_count": 36,
      "outputs": [
        {
          "output_type": "stream",
          "name": "stdout",
          "text": [
            "นางสาวเบญญาภา ระภูเขียว ได้เกรด A\n",
            "นางสาวทักษิณา ราชหุ่น ได้เกรด A\n",
            "นางสาวปลายฟ้า คำเพ็ง ได้เกรด F\n"
          ]
        }
      ]
    },
    {
      "cell_type": "markdown",
      "source": [
        "### operator ที่ใช้ตรวจสอบ condition \n",
        "\n",
        "==, !=, >=, <=, <, >,and, or"
      ],
      "metadata": {
        "id": "4TOdCyGskC9n"
      }
    },
    {
      "cell_type": "code",
      "execution_count": 37,
      "metadata": {
        "id": "M31W8wIaDS9b",
        "colab": {
          "base_uri": "https://localhost:8080/"
        },
        "outputId": "ec66dcc5-e736-481c-f7e9-c46317f6de05"
      },
      "outputs": [
        {
          "output_type": "stream",
          "name": "stdout",
          "text": [
            "False\n"
          ]
        }
      ],
      "source": [
        "a = 10 ==20\n",
        "print(a)"
      ]
    },
    {
      "cell_type": "code",
      "source": [
        "b = 15 <= 20\n",
        "print (b)"
      ],
      "metadata": {
        "id": "HBkaOSwckv4k",
        "outputId": "52acd822-fc91-4359-f452-75302ec486d7",
        "colab": {
          "base_uri": "https://localhost:8080/"
        }
      },
      "execution_count": 38,
      "outputs": [
        {
          "output_type": "stream",
          "name": "stdout",
          "text": [
            "True\n"
          ]
        }
      ]
    },
    {
      "cell_type": "code",
      "source": [
        "if a:\n",
        "    print('x')"
      ],
      "metadata": {
        "id": "5gaWo6KLk0C9"
      },
      "execution_count": 39,
      "outputs": []
    },
    {
      "cell_type": "code",
      "source": [
        "if True:\n",
        "    print('x')"
      ],
      "metadata": {
        "id": "tRgCD-LIlPBp",
        "outputId": "afa1b94d-8a8b-4432-c276-0b6c56ffa057",
        "colab": {
          "base_uri": "https://localhost:8080/"
        }
      },
      "execution_count": 40,
      "outputs": [
        {
          "output_type": "stream",
          "name": "stdout",
          "text": [
            "x\n"
          ]
        }
      ]
    },
    {
      "cell_type": "code",
      "source": [
        "if a and b:\n",
        "    print('x')"
      ],
      "metadata": {
        "id": "UlOCii5clUAT"
      },
      "execution_count": 41,
      "outputs": []
    },
    {
      "cell_type": "code",
      "source": [
        "if a or b:\n",
        "    print('x')"
      ],
      "metadata": {
        "id": "KUIecGa1lbQg",
        "outputId": "48259919-f9ba-475f-a817-870c0444c30b",
        "colab": {
          "base_uri": "https://localhost:8080/"
        }
      },
      "execution_count": 42,
      "outputs": [
        {
          "output_type": "stream",
          "name": "stdout",
          "text": [
            "x\n"
          ]
        }
      ]
    },
    {
      "cell_type": "markdown",
      "source": [
        "# HW\n",
        "เขียน Function ตัดเกรด โดยที่ input เป็นคะเเนน(0-100) , output เป็นเกรด (F-A) หรือ 'ไม่สามารถตัดเกรดได้'\n",
        "\n",
        "วนลูปตัดเกรด input = [1,50,65,90,101,-5,49,'ก',80]\n",
        "\n",
        "กำหนด\n",
        "\n",
        "- ถ้าคะเเนนอยู่ระหว่างมากกว่าหรือเท่ากับ 0 เเต่น้อยกว่า 50 จะได้เกรด F \n",
        "- ถ้าคะเเนนอยู่ระหว่างมากกว่าหรือเท่ากับ 50 เเต่น้อยกว่า 55 จะได้เกรด D\n",
        "- ถ้าคะเเนนอยู่ระหว่างมากกว่าหรือเท่ากับ 55 เเต่น้อยกว่า 60 จะได้เกรด D+\n",
        "- ถ้าคะเเนนอยู่ระหว่างมากกว่าหรือเท่ากับ 60 เเต่น้อยกว่า 65 จะได้เกรด C   \n",
        "- ถ้าคะเเนนอยู่ระหว่างมากกว่าหรือเท่ากับ 65 เเต่น้อยกว่า 70 จะได้เกรด C+\n",
        "- ถ้าคะเเนนอยู่ระหว่างมากกว่าหรือเท่ากับ 70 เเต่น้อยกว่า 75 จะได้เกรด B\n",
        "- ถ้าคะเเนนอยู่ระหว่างมากกว่าหรือเท่ากับ 75 เเต่น้อยกว่า 80 จะได้เกรด B+\n",
        "- ถ้าคะเเนนอยู่ระหว่างมากกว่าหรือเท่ากับ 80 จะได้เกรด A"
      ],
      "metadata": {
        "id": "hslkZ7rel0Tc"
      }
    },
    {
      "cell_type": "code",
      "source": [
        ""
      ],
      "metadata": {
        "id": "IT7I4pIunylM"
      },
      "execution_count": null,
      "outputs": []
    }
  ]
}