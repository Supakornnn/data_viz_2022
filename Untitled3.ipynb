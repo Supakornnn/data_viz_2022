{
  "nbformat": 4,
  "nbformat_minor": 0,
  "metadata": {
    "colab": {
      "name": "Untitled3.ipynb",
      "provenance": [],
      "collapsed_sections": [],
      "authorship_tag": "ABX9TyMctRywbTzrEBL6Hbz5CmsR",
      "include_colab_link": true
    },
    "kernelspec": {
      "name": "python3",
      "display_name": "Python 3"
    },
    "language_info": {
      "name": "python"
    }
  },
  "cells": [
    {
      "cell_type": "markdown",
      "metadata": {
        "id": "view-in-github",
        "colab_type": "text"
      },
      "source": [
        "<a href=\"https://colab.research.google.com/github/Supakornnn/data_viz_2022/blob/main/Untitled3.ipynb\" target=\"_parent\"><img src=\"https://colab.research.google.com/assets/colab-badge.svg\" alt=\"Open In Colab\"/></a>"
      ]
    },
    {
      "cell_type": "markdown",
      "source": [
        "# Functions ($f(x) =$y)"
      ],
      "metadata": {
        "id": "IQPNcVJLDcD4"
      }
    },
    {
      "cell_type": "markdown",
      "source": [
        "\n",
        "\n",
        "```python\n",
        "def function_name(input_x):\n",
        "    #do someting with input_x to get output_y\n",
        "    return output_y\n",
        "```\n",
        "\n"
      ],
      "metadata": {
        "id": "2UO-bZwGEFJu"
      }
    },
    {
      "cell_type": "markdown",
      "source": [
        "$_f1(x)=$x**2+75"
      ],
      "metadata": {
        "id": "wcuT0BaGF0fk"
      }
    },
    {
      "cell_type": "code",
      "source": [
        "def function_f1(x):\n",
        "  a = x**2\n",
        "  y = a+75\n",
        "  return y\n",
        "\n"
      ],
      "metadata": {
        "id": "p0xnkOTiF_Bx"
      },
      "execution_count": 8,
      "outputs": []
    },
    {
      "cell_type": "code",
      "source": [
        "function_f1(3)"
      ],
      "metadata": {
        "colab": {
          "base_uri": "https://localhost:8080/"
        },
        "id": "rQgFhKn5GYhu",
        "outputId": "263ef297-9e40-41b1-9aaa-a7bd4d1a2919"
      },
      "execution_count": 5,
      "outputs": [
        {
          "output_type": "execute_result",
          "data": {
            "text/plain": [
              "84"
            ]
          },
          "metadata": {},
          "execution_count": 5
        }
      ]
    },
    {
      "cell_type": "markdown",
      "source": [
        "Function มีส่วนสำคัญทั้งหมด 4 ส่วน\n",
        "1. บอกpython ว่าเราจะเขียนฟังก์ชัน ชื่ออะไร def function_name() : (ขาดไม่ได้๗\n",
        "2. กำหนดตัวเเปรที่จะเป็น input  _Input_ (ขาดไม่ได้)\n",
        "3. ส่วนประมวลผล do_something with Input to get Output (ขาดไม่ได้)\n",
        "4. ส่วน output return Output (ขาดได้)"
      ],
      "metadata": {
        "id": "L0IdAtm_HQbT"
      }
    },
    {
      "cell_type": "markdown",
      "source": [
        "### ตัวอย่าง Function ที่มีส่วนประกอบครบ"
      ],
      "metadata": {
        "id": "dximHL5hH87V"
      }
    },
    {
      "cell_type": "code",
      "source": [
        "def function_f1(x):\n",
        "  a = x**2\n",
        "  y = a+75\n",
        "  return y"
      ],
      "metadata": {
        "id": "fYfSfPRDIHCW"
      },
      "execution_count": 10,
      "outputs": []
    },
    {
      "cell_type": "markdown",
      "source": [
        "### ตัวอย่าง Function ที่ไม่มี input"
      ],
      "metadata": {
        "id": "EkNkIiyAIINa"
      }
    },
    {
      "cell_type": "code",
      "source": [
        "def pi_v():\n",
        "  y = 3.14159265359\n",
        "  return y"
      ],
      "metadata": {
        "id": "DqdWIVYJGxGE"
      },
      "execution_count": 9,
      "outputs": []
    },
    {
      "cell_type": "code",
      "source": [
        "piv = pi_v()\n",
        "circle_area_r2 = piv*(2**2)\n",
        "print(circle_area_r2)"
      ],
      "metadata": {
        "colab": {
          "base_uri": "https://localhost:8080/"
        },
        "id": "5UDgbhfoIi6G",
        "outputId": "76067f4c-dcac-444a-e709-f1344fe59d5b"
      },
      "execution_count": 14,
      "outputs": [
        {
          "output_type": "stream",
          "name": "stdout",
          "text": [
            "12.56637061436\n"
          ]
        }
      ]
    },
    {
      "cell_type": "markdown",
      "source": [
        "### Function ไม่มี process ไม่ได้"
      ],
      "metadata": {
        "id": "fBnWv37IJOhh"
      }
    },
    {
      "cell_type": "code",
      "source": [
        "def function_a():"
      ],
      "metadata": {
        "colab": {
          "base_uri": "https://localhost:8080/",
          "height": 130
        },
        "id": "nVRqYM8uJYjH",
        "outputId": "9809d8c5-95d0-4b5f-f692-b579523089ad"
      },
      "execution_count": 15,
      "outputs": [
        {
          "output_type": "error",
          "ename": "SyntaxError",
          "evalue": "ignored",
          "traceback": [
            "\u001b[0;36m  File \u001b[0;32m\"<ipython-input-15-07a0750214a8>\"\u001b[0;36m, line \u001b[0;32m1\u001b[0m\n\u001b[0;31m    def function_a():\u001b[0m\n\u001b[0m                     ^\u001b[0m\n\u001b[0;31mSyntaxError\u001b[0m\u001b[0;31m:\u001b[0m unexpected EOF while parsing\n"
          ]
        }
      ]
    },
    {
      "cell_type": "markdown",
      "source": [
        "ตัวอย่าง Function ที่ไม่มี output"
      ],
      "metadata": {
        "id": "uoaIL0DlJfBZ"
      }
    },
    {
      "cell_type": "code",
      "source": [
        "def print_name_id(name,id):\n",
        "    print(f'ชื่อ {name} รหัสประจำตัว {id}')"
      ],
      "metadata": {
        "id": "__6ERPuTJkhQ"
      },
      "execution_count": 16,
      "outputs": []
    },
    {
      "cell_type": "code",
      "source": [
        "print_name_id('ศุภกร','623021008-5')"
      ],
      "metadata": {
        "colab": {
          "base_uri": "https://localhost:8080/"
        },
        "id": "K4C_OqXhJ1_0",
        "outputId": "bd9bbba0-8e85-4c95-a955-f09665ad6e0b"
      },
      "execution_count": 18,
      "outputs": [
        {
          "output_type": "stream",
          "name": "stdout",
          "text": [
            "ชื่อ ศุภกร รหัสประจำตัว 623021008-5\n"
          ]
        }
      ]
    },
    {
      "cell_type": "code",
      "source": [
        "a = print_name_id('ศุภกร','623021008-5')"
      ],
      "metadata": {
        "colab": {
          "base_uri": "https://localhost:8080/"
        },
        "id": "j1wUKHUFKgLB",
        "outputId": "d4bb2d82-527a-4005-c67a-732610604253"
      },
      "execution_count": 19,
      "outputs": [
        {
          "output_type": "stream",
          "name": "stdout",
          "text": [
            "ชื่อ ศุภกร รหัสประจำตัว 623021008-5\n"
          ]
        }
      ]
    },
    {
      "cell_type": "markdown",
      "source": [
        "ตัวอย่าง function print "
      ],
      "metadata": {
        "id": "xTvlJPtgOwIB"
      }
    },
    {
      "cell_type": "code",
      "source": [
        "print('ศุภกร',end='->')\n",
        "print('623021008-5')"
      ],
      "metadata": {
        "colab": {
          "base_uri": "https://localhost:8080/"
        },
        "id": "eHhT3rZmO32b",
        "outputId": "a1388302-7073-4725-b5ff-0a77105a8253"
      },
      "execution_count": 22,
      "outputs": [
        {
          "output_type": "stream",
          "name": "stdout",
          "text": [
            "ศุภกร->623021008-5\n"
          ]
        }
      ]
    },
    {
      "cell_type": "code",
      "source": [
        "print('ศุภกร','623021008-5',sep = '&')"
      ],
      "metadata": {
        "colab": {
          "base_uri": "https://localhost:8080/"
        },
        "id": "maauoienPeN2",
        "outputId": "bfed13b4-0a39-4874-aaac-4ac58d3e9bba"
      },
      "execution_count": 24,
      "outputs": [
        {
          "output_type": "stream",
          "name": "stdout",
          "text": [
            "ศุภกร&623021008-5\n"
          ]
        }
      ]
    },
    {
      "cell_type": "markdown",
      "source": [
        "## input ของ function เเบ่งเป็น 2 ชนิด (จำเป็นต้องใส่ กับ ไม่จำเป็นต้องใส่)"
      ],
      "metadata": {
        "id": "KKqCi_G4QF-2"
      }
    },
    {
      "cell_type": "code",
      "source": [
        "def print_grade(name,id,grade = 'F') : \n",
        "    print (f'รหัสประจำตัว {id} ชื่อ {name}')\n",
        "    print (f'ไ้ด้เกรด {grade}')\n"
      ],
      "metadata": {
        "id": "96cjVqaJQU63"
      },
      "execution_count": 26,
      "outputs": []
    },
    {
      "cell_type": "markdown",
      "source": [
        "ตัวอย่าง function 'print_grade()' มี output 3 ตัว จำเป็นต้องใส่ 2 ตัว คือ name กับ id เเละไม่จำเป็นต้องใส่ 1 ตัว คือเกรดึ่งมีค่า defult เป็น F"
      ],
      "metadata": {
        "id": "KjeppAzXRIGS"
      }
    },
    {
      "cell_type": "code",
      "source": [
        "print_grade('นายสิทธัดกะ จรัสเเสง','623020541-2','A')"
      ],
      "metadata": {
        "colab": {
          "base_uri": "https://localhost:8080/"
        },
        "id": "G9OUj9T3RHLl",
        "outputId": "b14ff97f-fbf3-423d-db4d-028af98b2e68"
      },
      "execution_count": 27,
      "outputs": [
        {
          "output_type": "stream",
          "name": "stdout",
          "text": [
            "รหัสประจำตัว 623020541-2 ชื่อ นายสิทธัดกะ จรัสเเสง\n",
            "ไ้ด้เกรด A\n"
          ]
        }
      ]
    },
    {
      "cell_type": "code",
      "source": [
        "print_grade (id='623020541-2',name = 'นายสิทธัดกะ จรัสเเสง', grade='B+')"
      ],
      "metadata": {
        "colab": {
          "base_uri": "https://localhost:8080/"
        },
        "id": "prtrB5sqSBOw",
        "outputId": "6010b881-693f-4c79-a63a-7304010f72f1"
      },
      "execution_count": 28,
      "outputs": [
        {
          "output_type": "stream",
          "name": "stdout",
          "text": [
            "รหัสประจำตัว 623020541-2 ชื่อ นายสิทธัดกะ จรัสเเสง\n",
            "ไ้ด้เกรด B+\n"
          ]
        }
      ]
    },
    {
      "cell_type": "code",
      "source": [
        "print_grade"
      ],
      "metadata": {
        "id": "wCr4aCMsSAkd"
      },
      "execution_count": null,
      "outputs": []
    },
    {
      "cell_type": "markdown",
      "source": [
        "## Looping (for)"
      ],
      "metadata": {
        "id": "Kn8IdpCVDjt7"
      }
    },
    {
      "cell_type": "markdown",
      "source": [
        "## Conditional Statement (if)"
      ],
      "metadata": {
        "id": "6h79QGTaDn4s"
      }
    },
    {
      "cell_type": "code",
      "source": [
        ""
      ],
      "metadata": {
        "id": "F6XjDpPKDnTO"
      },
      "execution_count": null,
      "outputs": []
    },
    {
      "cell_type": "code",
      "execution_count": null,
      "metadata": {
        "id": "M31W8wIaDS9b"
      },
      "outputs": [],
      "source": [
        ""
      ]
    }
  ]
}