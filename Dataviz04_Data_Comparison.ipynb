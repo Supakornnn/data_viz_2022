{
  "nbformat": 4,
  "nbformat_minor": 0,
  "metadata": {
    "colab": {
      "name": "Dataviz04_Data Comparison.ipynb",
      "provenance": [],
      "include_colab_link": true
    },
    "kernelspec": {
      "name": "python3",
      "display_name": "Python 3"
    },
    "language_info": {
      "name": "python"
    }
  },
  "cells": [
    {
      "cell_type": "markdown",
      "metadata": {
        "id": "view-in-github",
        "colab_type": "text"
      },
      "source": [
        "<a href=\"https://colab.research.google.com/github/Supakornnn/data_viz_2022/blob/main/Dataviz04_Data_Comparison.ipynb\" target=\"_parent\"><img src=\"https://colab.research.google.com/assets/colab-badge.svg\" alt=\"Open In Colab\"/></a>"
      ]
    },
    {
      "cell_type": "markdown",
      "source": [
        "#เปรียบเทียบข้อมูลด้วย coordinate plot"
      ],
      "metadata": {
        "id": "FmXcZj1l9h0F"
      }
    },
    {
      "cell_type": "code",
      "execution_count": 1,
      "metadata": {
        "id": "AOqT0Nf27hfL"
      },
      "outputs": [],
      "source": [
        "import pandas as pd"
      ]
    },
    {
      "cell_type": "code",
      "source": [
        "example_df = pd.read_csv('https://raw.github.com/pandas-dev/pandas/master/pandas/tests/io/data/csv/iris.csv') #ข้อมูลของดอกไม้ไอริส\n",
        "example_df"
      ],
      "metadata": {
        "colab": {
          "base_uri": "https://localhost:8080/",
          "height": 423
        },
        "id": "RFc62eQk75K8",
        "outputId": "eae1f97d-e124-4cdc-8322-d268faf92570"
      },
      "execution_count": 2,
      "outputs": [
        {
          "output_type": "execute_result",
          "data": {
            "text/plain": [
              "     SepalLength  SepalWidth  PetalLength  PetalWidth            Name\n",
              "0            5.1         3.5          1.4         0.2     Iris-setosa\n",
              "1            4.9         3.0          1.4         0.2     Iris-setosa\n",
              "2            4.7         3.2          1.3         0.2     Iris-setosa\n",
              "3            4.6         3.1          1.5         0.2     Iris-setosa\n",
              "4            5.0         3.6          1.4         0.2     Iris-setosa\n",
              "..           ...         ...          ...         ...             ...\n",
              "145          6.7         3.0          5.2         2.3  Iris-virginica\n",
              "146          6.3         2.5          5.0         1.9  Iris-virginica\n",
              "147          6.5         3.0          5.2         2.0  Iris-virginica\n",
              "148          6.2         3.4          5.4         2.3  Iris-virginica\n",
              "149          5.9         3.0          5.1         1.8  Iris-virginica\n",
              "\n",
              "[150 rows x 5 columns]"
            ],
            "text/html": [
              "\n",
              "  <div id=\"df-c54d2c96-4aa1-46c0-8a79-371cdabf7029\">\n",
              "    <div class=\"colab-df-container\">\n",
              "      <div>\n",
              "<style scoped>\n",
              "    .dataframe tbody tr th:only-of-type {\n",
              "        vertical-align: middle;\n",
              "    }\n",
              "\n",
              "    .dataframe tbody tr th {\n",
              "        vertical-align: top;\n",
              "    }\n",
              "\n",
              "    .dataframe thead th {\n",
              "        text-align: right;\n",
              "    }\n",
              "</style>\n",
              "<table border=\"1\" class=\"dataframe\">\n",
              "  <thead>\n",
              "    <tr style=\"text-align: right;\">\n",
              "      <th></th>\n",
              "      <th>SepalLength</th>\n",
              "      <th>SepalWidth</th>\n",
              "      <th>PetalLength</th>\n",
              "      <th>PetalWidth</th>\n",
              "      <th>Name</th>\n",
              "    </tr>\n",
              "  </thead>\n",
              "  <tbody>\n",
              "    <tr>\n",
              "      <th>0</th>\n",
              "      <td>5.1</td>\n",
              "      <td>3.5</td>\n",
              "      <td>1.4</td>\n",
              "      <td>0.2</td>\n",
              "      <td>Iris-setosa</td>\n",
              "    </tr>\n",
              "    <tr>\n",
              "      <th>1</th>\n",
              "      <td>4.9</td>\n",
              "      <td>3.0</td>\n",
              "      <td>1.4</td>\n",
              "      <td>0.2</td>\n",
              "      <td>Iris-setosa</td>\n",
              "    </tr>\n",
              "    <tr>\n",
              "      <th>2</th>\n",
              "      <td>4.7</td>\n",
              "      <td>3.2</td>\n",
              "      <td>1.3</td>\n",
              "      <td>0.2</td>\n",
              "      <td>Iris-setosa</td>\n",
              "    </tr>\n",
              "    <tr>\n",
              "      <th>3</th>\n",
              "      <td>4.6</td>\n",
              "      <td>3.1</td>\n",
              "      <td>1.5</td>\n",
              "      <td>0.2</td>\n",
              "      <td>Iris-setosa</td>\n",
              "    </tr>\n",
              "    <tr>\n",
              "      <th>4</th>\n",
              "      <td>5.0</td>\n",
              "      <td>3.6</td>\n",
              "      <td>1.4</td>\n",
              "      <td>0.2</td>\n",
              "      <td>Iris-setosa</td>\n",
              "    </tr>\n",
              "    <tr>\n",
              "      <th>...</th>\n",
              "      <td>...</td>\n",
              "      <td>...</td>\n",
              "      <td>...</td>\n",
              "      <td>...</td>\n",
              "      <td>...</td>\n",
              "    </tr>\n",
              "    <tr>\n",
              "      <th>145</th>\n",
              "      <td>6.7</td>\n",
              "      <td>3.0</td>\n",
              "      <td>5.2</td>\n",
              "      <td>2.3</td>\n",
              "      <td>Iris-virginica</td>\n",
              "    </tr>\n",
              "    <tr>\n",
              "      <th>146</th>\n",
              "      <td>6.3</td>\n",
              "      <td>2.5</td>\n",
              "      <td>5.0</td>\n",
              "      <td>1.9</td>\n",
              "      <td>Iris-virginica</td>\n",
              "    </tr>\n",
              "    <tr>\n",
              "      <th>147</th>\n",
              "      <td>6.5</td>\n",
              "      <td>3.0</td>\n",
              "      <td>5.2</td>\n",
              "      <td>2.0</td>\n",
              "      <td>Iris-virginica</td>\n",
              "    </tr>\n",
              "    <tr>\n",
              "      <th>148</th>\n",
              "      <td>6.2</td>\n",
              "      <td>3.4</td>\n",
              "      <td>5.4</td>\n",
              "      <td>2.3</td>\n",
              "      <td>Iris-virginica</td>\n",
              "    </tr>\n",
              "    <tr>\n",
              "      <th>149</th>\n",
              "      <td>5.9</td>\n",
              "      <td>3.0</td>\n",
              "      <td>5.1</td>\n",
              "      <td>1.8</td>\n",
              "      <td>Iris-virginica</td>\n",
              "    </tr>\n",
              "  </tbody>\n",
              "</table>\n",
              "<p>150 rows × 5 columns</p>\n",
              "</div>\n",
              "      <button class=\"colab-df-convert\" onclick=\"convertToInteractive('df-c54d2c96-4aa1-46c0-8a79-371cdabf7029')\"\n",
              "              title=\"Convert this dataframe to an interactive table.\"\n",
              "              style=\"display:none;\">\n",
              "        \n",
              "  <svg xmlns=\"http://www.w3.org/2000/svg\" height=\"24px\"viewBox=\"0 0 24 24\"\n",
              "       width=\"24px\">\n",
              "    <path d=\"M0 0h24v24H0V0z\" fill=\"none\"/>\n",
              "    <path d=\"M18.56 5.44l.94 2.06.94-2.06 2.06-.94-2.06-.94-.94-2.06-.94 2.06-2.06.94zm-11 1L8.5 8.5l.94-2.06 2.06-.94-2.06-.94L8.5 2.5l-.94 2.06-2.06.94zm10 10l.94 2.06.94-2.06 2.06-.94-2.06-.94-.94-2.06-.94 2.06-2.06.94z\"/><path d=\"M17.41 7.96l-1.37-1.37c-.4-.4-.92-.59-1.43-.59-.52 0-1.04.2-1.43.59L10.3 9.45l-7.72 7.72c-.78.78-.78 2.05 0 2.83L4 21.41c.39.39.9.59 1.41.59.51 0 1.02-.2 1.41-.59l7.78-7.78 2.81-2.81c.8-.78.8-2.07 0-2.86zM5.41 20L4 18.59l7.72-7.72 1.47 1.35L5.41 20z\"/>\n",
              "  </svg>\n",
              "      </button>\n",
              "      \n",
              "  <style>\n",
              "    .colab-df-container {\n",
              "      display:flex;\n",
              "      flex-wrap:wrap;\n",
              "      gap: 12px;\n",
              "    }\n",
              "\n",
              "    .colab-df-convert {\n",
              "      background-color: #E8F0FE;\n",
              "      border: none;\n",
              "      border-radius: 50%;\n",
              "      cursor: pointer;\n",
              "      display: none;\n",
              "      fill: #1967D2;\n",
              "      height: 32px;\n",
              "      padding: 0 0 0 0;\n",
              "      width: 32px;\n",
              "    }\n",
              "\n",
              "    .colab-df-convert:hover {\n",
              "      background-color: #E2EBFA;\n",
              "      box-shadow: 0px 1px 2px rgba(60, 64, 67, 0.3), 0px 1px 3px 1px rgba(60, 64, 67, 0.15);\n",
              "      fill: #174EA6;\n",
              "    }\n",
              "\n",
              "    [theme=dark] .colab-df-convert {\n",
              "      background-color: #3B4455;\n",
              "      fill: #D2E3FC;\n",
              "    }\n",
              "\n",
              "    [theme=dark] .colab-df-convert:hover {\n",
              "      background-color: #434B5C;\n",
              "      box-shadow: 0px 1px 3px 1px rgba(0, 0, 0, 0.15);\n",
              "      filter: drop-shadow(0px 1px 2px rgba(0, 0, 0, 0.3));\n",
              "      fill: #FFFFFF;\n",
              "    }\n",
              "  </style>\n",
              "\n",
              "      <script>\n",
              "        const buttonEl =\n",
              "          document.querySelector('#df-c54d2c96-4aa1-46c0-8a79-371cdabf7029 button.colab-df-convert');\n",
              "        buttonEl.style.display =\n",
              "          google.colab.kernel.accessAllowed ? 'block' : 'none';\n",
              "\n",
              "        async function convertToInteractive(key) {\n",
              "          const element = document.querySelector('#df-c54d2c96-4aa1-46c0-8a79-371cdabf7029');\n",
              "          const dataTable =\n",
              "            await google.colab.kernel.invokeFunction('convertToInteractive',\n",
              "                                                     [key], {});\n",
              "          if (!dataTable) return;\n",
              "\n",
              "          const docLinkHtml = 'Like what you see? Visit the ' +\n",
              "            '<a target=\"_blank\" href=https://colab.research.google.com/notebooks/data_table.ipynb>data table notebook</a>'\n",
              "            + ' to learn more about interactive tables.';\n",
              "          element.innerHTML = '';\n",
              "          dataTable['output_type'] = 'display_data';\n",
              "          await google.colab.output.renderOutput(dataTable, element);\n",
              "          const docLink = document.createElement('div');\n",
              "          docLink.innerHTML = docLinkHtml;\n",
              "          element.appendChild(docLink);\n",
              "        }\n",
              "      </script>\n",
              "    </div>\n",
              "  </div>\n",
              "  "
            ]
          },
          "metadata": {},
          "execution_count": 2
        }
      ]
    },
    {
      "cell_type": "code",
      "source": [
        "sample_data = example_df.groupby('Name').mean()\n",
        "sample_data"
      ],
      "metadata": {
        "colab": {
          "base_uri": "https://localhost:8080/",
          "height": 174
        },
        "id": "zI8JUvpz75IR",
        "outputId": "d0f0cf9d-ce3d-4107-f421-692e93e181a4"
      },
      "execution_count": 3,
      "outputs": [
        {
          "output_type": "execute_result",
          "data": {
            "text/plain": [
              "                 SepalLength  SepalWidth  PetalLength  PetalWidth\n",
              "Name                                                             \n",
              "Iris-setosa            5.006       3.418        1.464       0.244\n",
              "Iris-versicolor        5.936       2.770        4.260       1.326\n",
              "Iris-virginica         6.588       2.974        5.552       2.026"
            ],
            "text/html": [
              "\n",
              "  <div id=\"df-98c09dca-eff1-4bae-9307-30dd0a25d2b9\">\n",
              "    <div class=\"colab-df-container\">\n",
              "      <div>\n",
              "<style scoped>\n",
              "    .dataframe tbody tr th:only-of-type {\n",
              "        vertical-align: middle;\n",
              "    }\n",
              "\n",
              "    .dataframe tbody tr th {\n",
              "        vertical-align: top;\n",
              "    }\n",
              "\n",
              "    .dataframe thead th {\n",
              "        text-align: right;\n",
              "    }\n",
              "</style>\n",
              "<table border=\"1\" class=\"dataframe\">\n",
              "  <thead>\n",
              "    <tr style=\"text-align: right;\">\n",
              "      <th></th>\n",
              "      <th>SepalLength</th>\n",
              "      <th>SepalWidth</th>\n",
              "      <th>PetalLength</th>\n",
              "      <th>PetalWidth</th>\n",
              "    </tr>\n",
              "    <tr>\n",
              "      <th>Name</th>\n",
              "      <th></th>\n",
              "      <th></th>\n",
              "      <th></th>\n",
              "      <th></th>\n",
              "    </tr>\n",
              "  </thead>\n",
              "  <tbody>\n",
              "    <tr>\n",
              "      <th>Iris-setosa</th>\n",
              "      <td>5.006</td>\n",
              "      <td>3.418</td>\n",
              "      <td>1.464</td>\n",
              "      <td>0.244</td>\n",
              "    </tr>\n",
              "    <tr>\n",
              "      <th>Iris-versicolor</th>\n",
              "      <td>5.936</td>\n",
              "      <td>2.770</td>\n",
              "      <td>4.260</td>\n",
              "      <td>1.326</td>\n",
              "    </tr>\n",
              "    <tr>\n",
              "      <th>Iris-virginica</th>\n",
              "      <td>6.588</td>\n",
              "      <td>2.974</td>\n",
              "      <td>5.552</td>\n",
              "      <td>2.026</td>\n",
              "    </tr>\n",
              "  </tbody>\n",
              "</table>\n",
              "</div>\n",
              "      <button class=\"colab-df-convert\" onclick=\"convertToInteractive('df-98c09dca-eff1-4bae-9307-30dd0a25d2b9')\"\n",
              "              title=\"Convert this dataframe to an interactive table.\"\n",
              "              style=\"display:none;\">\n",
              "        \n",
              "  <svg xmlns=\"http://www.w3.org/2000/svg\" height=\"24px\"viewBox=\"0 0 24 24\"\n",
              "       width=\"24px\">\n",
              "    <path d=\"M0 0h24v24H0V0z\" fill=\"none\"/>\n",
              "    <path d=\"M18.56 5.44l.94 2.06.94-2.06 2.06-.94-2.06-.94-.94-2.06-.94 2.06-2.06.94zm-11 1L8.5 8.5l.94-2.06 2.06-.94-2.06-.94L8.5 2.5l-.94 2.06-2.06.94zm10 10l.94 2.06.94-2.06 2.06-.94-2.06-.94-.94-2.06-.94 2.06-2.06.94z\"/><path d=\"M17.41 7.96l-1.37-1.37c-.4-.4-.92-.59-1.43-.59-.52 0-1.04.2-1.43.59L10.3 9.45l-7.72 7.72c-.78.78-.78 2.05 0 2.83L4 21.41c.39.39.9.59 1.41.59.51 0 1.02-.2 1.41-.59l7.78-7.78 2.81-2.81c.8-.78.8-2.07 0-2.86zM5.41 20L4 18.59l7.72-7.72 1.47 1.35L5.41 20z\"/>\n",
              "  </svg>\n",
              "      </button>\n",
              "      \n",
              "  <style>\n",
              "    .colab-df-container {\n",
              "      display:flex;\n",
              "      flex-wrap:wrap;\n",
              "      gap: 12px;\n",
              "    }\n",
              "\n",
              "    .colab-df-convert {\n",
              "      background-color: #E8F0FE;\n",
              "      border: none;\n",
              "      border-radius: 50%;\n",
              "      cursor: pointer;\n",
              "      display: none;\n",
              "      fill: #1967D2;\n",
              "      height: 32px;\n",
              "      padding: 0 0 0 0;\n",
              "      width: 32px;\n",
              "    }\n",
              "\n",
              "    .colab-df-convert:hover {\n",
              "      background-color: #E2EBFA;\n",
              "      box-shadow: 0px 1px 2px rgba(60, 64, 67, 0.3), 0px 1px 3px 1px rgba(60, 64, 67, 0.15);\n",
              "      fill: #174EA6;\n",
              "    }\n",
              "\n",
              "    [theme=dark] .colab-df-convert {\n",
              "      background-color: #3B4455;\n",
              "      fill: #D2E3FC;\n",
              "    }\n",
              "\n",
              "    [theme=dark] .colab-df-convert:hover {\n",
              "      background-color: #434B5C;\n",
              "      box-shadow: 0px 1px 3px 1px rgba(0, 0, 0, 0.15);\n",
              "      filter: drop-shadow(0px 1px 2px rgba(0, 0, 0, 0.3));\n",
              "      fill: #FFFFFF;\n",
              "    }\n",
              "  </style>\n",
              "\n",
              "      <script>\n",
              "        const buttonEl =\n",
              "          document.querySelector('#df-98c09dca-eff1-4bae-9307-30dd0a25d2b9 button.colab-df-convert');\n",
              "        buttonEl.style.display =\n",
              "          google.colab.kernel.accessAllowed ? 'block' : 'none';\n",
              "\n",
              "        async function convertToInteractive(key) {\n",
              "          const element = document.querySelector('#df-98c09dca-eff1-4bae-9307-30dd0a25d2b9');\n",
              "          const dataTable =\n",
              "            await google.colab.kernel.invokeFunction('convertToInteractive',\n",
              "                                                     [key], {});\n",
              "          if (!dataTable) return;\n",
              "\n",
              "          const docLinkHtml = 'Like what you see? Visit the ' +\n",
              "            '<a target=\"_blank\" href=https://colab.research.google.com/notebooks/data_table.ipynb>data table notebook</a>'\n",
              "            + ' to learn more about interactive tables.';\n",
              "          element.innerHTML = '';\n",
              "          dataTable['output_type'] = 'display_data';\n",
              "          await google.colab.output.renderOutput(dataTable, element);\n",
              "          const docLink = document.createElement('div');\n",
              "          docLink.innerHTML = docLinkHtml;\n",
              "          element.appendChild(docLink);\n",
              "        }\n",
              "      </script>\n",
              "    </div>\n",
              "  </div>\n",
              "  "
            ]
          },
          "metadata": {},
          "execution_count": 3
        }
      ]
    },
    {
      "cell_type": "code",
      "source": [
        "sample_data.iloc[0,:]"
      ],
      "metadata": {
        "colab": {
          "base_uri": "https://localhost:8080/"
        },
        "id": "i2dd1bAP75FX",
        "outputId": "7e007d64-b833-4d09-f33b-c6582908a8db"
      },
      "execution_count": 4,
      "outputs": [
        {
          "output_type": "execute_result",
          "data": {
            "text/plain": [
              "SepalLength    5.006\n",
              "SepalWidth     3.418\n",
              "PetalLength    1.464\n",
              "PetalWidth     0.244\n",
              "Name: Iris-setosa, dtype: float64"
            ]
          },
          "metadata": {},
          "execution_count": 4
        }
      ]
    },
    {
      "cell_type": "code",
      "source": [
        "from matplotlib import pyplot as plt"
      ],
      "metadata": {
        "id": "V7gjLwIq75CS"
      },
      "execution_count": 5,
      "outputs": []
    },
    {
      "cell_type": "code",
      "source": [
        "plt.plot([1,2,3,4],sample_data.iloc[0,:],'ro')\n",
        "plt.plot([1,2,3,4],sample_data.iloc[1,:],'g*')\n",
        "plt.plot([1,2,3,4],sample_data.iloc[2,:],'b^')"
      ],
      "metadata": {
        "colab": {
          "base_uri": "https://localhost:8080/",
          "height": 282
        },
        "id": "mOHwv0XL9sSK",
        "outputId": "514b3f0d-658e-429d-c20b-18e51874fdc8"
      },
      "execution_count": 6,
      "outputs": [
        {
          "output_type": "execute_result",
          "data": {
            "text/plain": [
              "[<matplotlib.lines.Line2D at 0x7f5311df8b90>]"
            ]
          },
          "metadata": {},
          "execution_count": 6
        },
        {
          "output_type": "display_data",
          "data": {
            "text/plain": [
              "<Figure size 432x288 with 1 Axes>"
            ],
            "image/png": "[encoded data removed]"
          },
          "metadata": {
            "needs_background": "light"
          }
        }
      ]
    },
    {
      "cell_type": "code",
      "source": [
        "plt.plot([1,2,3,4],sample_data.iloc[0,:],'ro-')\n",
        "plt.plot([1,2,3,4],sample_data.iloc[1,:],'g*-')\n",
        "plt.plot([1,2,3,4],sample_data.iloc[2,:],'b^-')"
      ],
      "metadata": {
        "colab": {
          "base_uri": "https://localhost:8080/",
          "height": 282
        },
        "id": "mCxjSicQ9wvq",
        "outputId": "4b888362-b296-49fd-84f1-800c68b2d64e"
      },
      "execution_count": 7,
      "outputs": [
        {
          "output_type": "execute_result",
          "data": {
            "text/plain": [
              "[<matplotlib.lines.Line2D at 0x7f53118dce50>]"
            ]
          },
          "metadata": {},
          "execution_count": 7
        },
        {
          "output_type": "display_data",
          "data": {
            "text/plain": [
              "<Figure size 432x288 with 1 Axes>"
            ],
            "image/png": "[encoded data removed]"
          },
          "metadata": {
            "needs_background": "light"
          }
        }
      ]
    },
    {
      "cell_type": "markdown",
      "source": [
        "**"
      ],
      "metadata": {
        "id": "9KdJJmXa9_ko"
      }
    },
    {
      "cell_type": "code",
      "source": [
        "plt.plot([1,1],[min(sample_data.iloc[:,0]),max(sample_data.iloc[:,0])],'c:')\n",
        "plt.plot([2,2],[min(sample_data.iloc[:,1]),max(sample_data.iloc[:,1])],'c:')\n",
        "plt.plot([3,3],[min(sample_data.iloc[:,2]),max(sample_data.iloc[:,2])],'c:')\n",
        "plt.plot([4,4],[min(sample_data.iloc[:,3]),max(sample_data.iloc[:,3])],'c:')\n",
        "\n",
        "plt.plot([1,2,3,4],sample_data.iloc[0,:],'ro')\n",
        "plt.plot([1,2,3,4],sample_data.iloc[1,:],'g*')\n",
        "plt.plot([1,2,3,4],sample_data.iloc[2,:],'b^')"
      ],
      "metadata": {
        "colab": {
          "base_uri": "https://localhost:8080/",
          "height": 282
        },
        "id": "2ozDKskK9xrQ",
        "outputId": "7e5b6e23-6552-4cdb-ce88-d5d852250c07"
      },
      "execution_count": 8,
      "outputs": [
        {
          "output_type": "execute_result",
          "data": {
            "text/plain": [
              "[<matplotlib.lines.Line2D at 0x7f5311873b10>]"
            ]
          },
          "metadata": {},
          "execution_count": 8
        },
        {
          "output_type": "display_data",
          "data": {
            "text/plain": [
              "<Figure size 432x288 with 1 Axes>"
            ],
            "image/png": "[encoded data removed]"
          },
          "metadata": {
            "needs_background": "light"
          }
        }
      ]
    },
    {
      "cell_type": "markdown",
      "source": [
        "## การใช้ plt.plot \n",
        "`plt.plot`(พิกัดเเกน X `,`พิกัดเเกน Y`,|`ลักษณะของ Marker + เส้นเชื่อม`)\n",
        "\n",
        "marker -> 'cML'\n"
      ],
      "metadata": {
        "id": "gHeSHyvH-3UZ"
      }
    },
    {
      "cell_type": "code",
      "source": [
        "plt.plot([1],[2],'ro')"
      ],
      "metadata": {
        "colab": {
          "base_uri": "https://localhost:8080/",
          "height": 282
        },
        "id": "8w8jNk0v9xo-",
        "outputId": "1bdb902c-aa8a-4e4e-ba8f-8224db8c7bc9"
      },
      "execution_count": 9,
      "outputs": [
        {
          "output_type": "execute_result",
          "data": {
            "text/plain": [
              "[<matplotlib.lines.Line2D at 0x7f53117ec390>]"
            ]
          },
          "metadata": {},
          "execution_count": 9
        },
        {
          "output_type": "display_data",
          "data": {
            "text/plain": [
              "<Figure size 432x288 with 1 Axes>"
            ],
            "image/png": "[encoded data removed]"
          },
          "metadata": {
            "needs_background": "light"
          }
        }
      ]
    },
    {
      "cell_type": "code",
      "source": [
        "plt.plot([1,2],[2,4],'ro')"
      ],
      "metadata": {
        "colab": {
          "base_uri": "https://localhost:8080/",
          "height": 282
        },
        "id": "_uCi2hVSAdwZ",
        "outputId": "aaa760b7-e138-4f9b-f66f-b743177f2cd9"
      },
      "execution_count": 10,
      "outputs": [
        {
          "output_type": "execute_result",
          "data": {
            "text/plain": [
              "[<matplotlib.lines.Line2D at 0x7f53117d1950>]"
            ]
          },
          "metadata": {},
          "execution_count": 10
        },
        {
          "output_type": "display_data",
          "data": {
            "text/plain": [
              "<Figure size 432x288 with 1 Axes>"
            ],
            "image/png": "[encoded data removed]"
          },
          "metadata": {
            "needs_background": "light"
          }
        }
      ]
    },
    {
      "cell_type": "code",
      "source": [
        "plt.plot([1,2],[2,4],'ro-.')"
      ],
      "metadata": {
        "colab": {
          "base_uri": "https://localhost:8080/",
          "height": 282
        },
        "id": "ebGKhdmL9xmS",
        "outputId": "d3844194-2e10-4774-8224-116d06958fad"
      },
      "execution_count": 11,
      "outputs": [
        {
          "output_type": "execute_result",
          "data": {
            "text/plain": [
              "[<matplotlib.lines.Line2D at 0x7f5311749850>]"
            ]
          },
          "metadata": {},
          "execution_count": 11
        },
        {
          "output_type": "display_data",
          "data": {
            "text/plain": [
              "<Figure size 432x288 with 1 Axes>"
            ],
            "image/png": "[encoded data removed]"
          },
          "metadata": {
            "needs_background": "light"
          }
        }
      ]
    },
    {
      "cell_type": "code",
      "source": [
        "plt.plot([1,1],[min(sample_data.iloc[:,0]),max(sample_data.iloc[:,0])],'c:')\n",
        "plt.plot([2,2],[min(sample_data.iloc[:,1]),max(sample_data.iloc[:,1])],'c:')\n",
        "plt.plot([3,3],[min(sample_data.iloc[:,2]),max(sample_data.iloc[:,2])],'c:')\n",
        "plt.plot([4,4],[min(sample_data.iloc[:,3]),max(sample_data.iloc[:,3])],'c:')\n",
        "\n",
        "plt.plot([1,2,3,4],sample_data.iloc[0,:],'ro',label='Setosa')\n",
        "plt.plot([1,2,3,4],sample_data.iloc[1,:],'g*',label='Versicolor')\n",
        "plt.plot([1,2,3,4],sample_data.iloc[2,:],'b^',label='Virginica')\n",
        "plt.legend()\n"
      ],
      "metadata": {
        "colab": {
          "base_uri": "https://localhost:8080/",
          "height": 282
        },
        "id": "ZeioyIb09xkP",
        "outputId": "7e00a653-6947-4127-f5b3-d5f249af81a6"
      },
      "execution_count": 12,
      "outputs": [
        {
          "output_type": "execute_result",
          "data": {
            "text/plain": [
              "<matplotlib.legend.Legend at 0x7f5311916a90>"
            ]
          },
          "metadata": {},
          "execution_count": 12
        },
        {
          "output_type": "display_data",
          "data": {
            "text/plain": [
              "<Figure size 432x288 with 1 Axes>"
            ],
            "image/png": "[encoded data removed]"
          },
          "metadata": {
            "needs_background": "light"
          }
        }
      ]
    },
    {
      "cell_type": "code",
      "source": [
        "plt.plot([1,1],[min(sample_data.iloc[:,0]),max(sample_data.iloc[:,0])],'c:')\n",
        "plt.plot([2,2],[min(sample_data.iloc[:,1]),max(sample_data.iloc[:,1])],'c:')\n",
        "plt.plot([3,3],[min(sample_data.iloc[:,2]),max(sample_data.iloc[:,2])],'c:')\n",
        "plt.plot([4,4],[min(sample_data.iloc[:,3]),max(sample_data.iloc[:,3])],'c:')\n",
        "\n",
        "plt.plot([1,2,3,4],sample_data.iloc[0,:],'ro',label='Setosa')\n",
        "plt.plot([1,2,3,4],sample_data.iloc[1,:],'g*',label='Versicolor')\n",
        "plt.plot([1,2,3,4],sample_data.iloc[2,:],'b^',label='Virginica')\n",
        "plt.legend()\n",
        "plt.xticks([1,2,3,4],example_df.iloc[:,:-1].columns.tolist(),rotation='vertical')\n",
        "plt.title('Features comparing between 3 different Iris flowers')\n",
        "plt.ylabel('size (CM)')"
      ],
      "metadata": {
        "colab": {
          "base_uri": "https://localhost:8080/",
          "height": 350
        },
        "id": "7rjcrUPM9xh8",
        "outputId": "06d35c58-1073-4599-995d-2204d8173ebb"
      },
      "execution_count": 13,
      "outputs": [
        {
          "output_type": "execute_result",
          "data": {
            "text/plain": [
              "Text(0, 0.5, 'size (CM)')"
            ]
          },
          "metadata": {},
          "execution_count": 13
        },
        {
          "output_type": "display_data",
          "data": {
            "text/plain": [
              "<Figure size 432x288 with 1 Axes>"
            ],
            "image/png": "[encoded data removed]"
          },
          "metadata": {
            "needs_background": "light"
          }
        }
      ]
    },
    {
      "cell_type": "markdown",
      "source": [
        "https://matplotlib.org/stable/api/_as_gen/matplotlib.pyplot.plot.html  "
      ],
      "metadata": {
        "id": "7jwWl-EMci5F"
      }
    },
    {
      "cell_type": "markdown",
      "source": [
        "#HW วาดรูป ก้อนเมฆ เเละ ฝน ด้วย plt.plot"
      ],
      "metadata": {
        "id": "X1QAQd-KDkJ_"
      }
    },
    {
      "cell_type": "code",
      "source": [
        "plt.plot([1,1.25,1.75,2,2.15,2.5,3,3.5,4,4.5,5,5.5,6,6.75,6.95,7],[4,5.45,5.75,6,5.5,5,5.5,5,6,5,5.5,5,6,5.45,4.49,4],'c+-')\n",
        "plt.plot([1,1.5,2,2.75,3,3.5,4,4.45,4.75,5,5.5,6,6.5,7],[4,3.5,3.5,3.65,3.25,2.95,3,3.15,3.35,4,3.35,3,3.35,4],'c+-')\n",
        "plt.plot([1,1],[1.5,2.5],'.-.') \n",
        "plt.plot([2,2],[1.5,2.5],'.-.')\n",
        "plt.plot([2.5,2.5],[2.75,2],'.-.')\n",
        "plt.plot([3,3],[1.5,2.5],'.-.')\n",
        "plt.plot([3.5,3.5],[2.75,2],'.-.')\n",
        "plt.plot([4,4],[1.5,2.5],'.-.')\n",
        "plt.plot([4.5,4.5],[2.75,2],'.-.')\n",
        "plt.plot([5,5],[1.5,2.5],'.-.')\n",
        "plt.plot([5.5,5.5],[2.75,2],'.-.')\n",
        "plt.plot([6,6],[1.5,2.5],'.-.')\n",
        "plt.plot([6.5,6.5],[2.75,2],'.-.')\n",
        "plt.plot([7,7],[1.5,2.5],'.-.')\n",
        "plt.plot([1.5,1.5],[0.5,1.35],'.-.')\n",
        "plt.plot([2.5,2.5],[0.5,1.35],'.-.')\n",
        "plt.plot([3.5,3.5],[0.5,1.35],'.-.')\n",
        "plt.plot([4.5,4.5],[0.5,1.35],'.-.')\n",
        "plt.plot([5.5,5.5],[0.5,1.35],'.-.')\n",
        "plt.plot([6.5,6.5],[0.5,1.35],'.-.')"
      ],
      "metadata": {
        "id": "A7w4nasoQWbh",
        "outputId": "0eeca51b-a37a-4a3e-f1ae-b04ca89753f6",
        "colab": {
          "base_uri": "https://localhost:8080/",
          "height": 0
        }
      },
      "execution_count": 14,
      "outputs": [
        {
          "output_type": "execute_result",
          "data": {
            "text/plain": [
              "[<matplotlib.lines.Line2D at 0x7f5311521690>]"
            ]
          },
          "metadata": {},
          "execution_count": 14
        },
        {
          "output_type": "display_data",
          "data": {
            "text/plain": [
              "<Figure size 432x288 with 1 Axes>"
            ],
            "image/png": "[encoded data removed]"
          },
          "metadata": {
            "needs_background": "light"
          }
        }
      ]
    },
    {
      "cell_type": "markdown",
      "source": [
        "# Bar chart"
      ],
      "metadata": {
        "id": "Co3JII8TXMCU"
      }
    },
    {
      "cell_type": "code",
      "source": [
        "sample_data"
      ],
      "metadata": {
        "id": "fuL3XwOdY_y8",
        "colab": {
          "base_uri": "https://localhost:8080/",
          "height": 0
        },
        "outputId": "f5c53985-7255-4d39-e1e5-6b744b2da3f6"
      },
      "execution_count": 15,
      "outputs": [
        {
          "output_type": "execute_result",
          "data": {
            "text/plain": [
              "                 SepalLength  SepalWidth  PetalLength  PetalWidth\n",
              "Name                                                             \n",
              "Iris-setosa            5.006       3.418        1.464       0.244\n",
              "Iris-versicolor        5.936       2.770        4.260       1.326\n",
              "Iris-virginica         6.588       2.974        5.552       2.026"
            ],
            "text/html": [
              "\n",
              "  <div id=\"df-af11695d-8f66-4539-bc71-52fa12c73394\">\n",
              "    <div class=\"colab-df-container\">\n",
              "      <div>\n",
              "<style scoped>\n",
              "    .dataframe tbody tr th:only-of-type {\n",
              "        vertical-align: middle;\n",
              "    }\n",
              "\n",
              "    .dataframe tbody tr th {\n",
              "        vertical-align: top;\n",
              "    }\n",
              "\n",
              "    .dataframe thead th {\n",
              "        text-align: right;\n",
              "    }\n",
              "</style>\n",
              "<table border=\"1\" class=\"dataframe\">\n",
              "  <thead>\n",
              "    <tr style=\"text-align: right;\">\n",
              "      <th></th>\n",
              "      <th>SepalLength</th>\n",
              "      <th>SepalWidth</th>\n",
              "      <th>PetalLength</th>\n",
              "      <th>PetalWidth</th>\n",
              "    </tr>\n",
              "    <tr>\n",
              "      <th>Name</th>\n",
              "      <th></th>\n",
              "      <th></th>\n",
              "      <th></th>\n",
              "      <th></th>\n",
              "    </tr>\n",
              "  </thead>\n",
              "  <tbody>\n",
              "    <tr>\n",
              "      <th>Iris-setosa</th>\n",
              "      <td>5.006</td>\n",
              "      <td>3.418</td>\n",
              "      <td>1.464</td>\n",
              "      <td>0.244</td>\n",
              "    </tr>\n",
              "    <tr>\n",
              "      <th>Iris-versicolor</th>\n",
              "      <td>5.936</td>\n",
              "      <td>2.770</td>\n",
              "      <td>4.260</td>\n",
              "      <td>1.326</td>\n",
              "    </tr>\n",
              "    <tr>\n",
              "      <th>Iris-virginica</th>\n",
              "      <td>6.588</td>\n",
              "      <td>2.974</td>\n",
              "      <td>5.552</td>\n",
              "      <td>2.026</td>\n",
              "    </tr>\n",
              "  </tbody>\n",
              "</table>\n",
              "</div>\n",
              "      <button class=\"colab-df-convert\" onclick=\"convertToInteractive('df-af11695d-8f66-4539-bc71-52fa12c73394')\"\n",
              "              title=\"Convert this dataframe to an interactive table.\"\n",
              "              style=\"display:none;\">\n",
              "        \n",
              "  <svg xmlns=\"http://www.w3.org/2000/svg\" height=\"24px\"viewBox=\"0 0 24 24\"\n",
              "       width=\"24px\">\n",
              "    <path d=\"M0 0h24v24H0V0z\" fill=\"none\"/>\n",
              "    <path d=\"M18.56 5.44l.94 2.06.94-2.06 2.06-.94-2.06-.94-.94-2.06-.94 2.06-2.06.94zm-11 1L8.5 8.5l.94-2.06 2.06-.94-2.06-.94L8.5 2.5l-.94 2.06-2.06.94zm10 10l.94 2.06.94-2.06 2.06-.94-2.06-.94-.94-2.06-.94 2.06-2.06.94z\"/><path d=\"M17.41 7.96l-1.37-1.37c-.4-.4-.92-.59-1.43-.59-.52 0-1.04.2-1.43.59L10.3 9.45l-7.72 7.72c-.78.78-.78 2.05 0 2.83L4 21.41c.39.39.9.59 1.41.59.51 0 1.02-.2 1.41-.59l7.78-7.78 2.81-2.81c.8-.78.8-2.07 0-2.86zM5.41 20L4 18.59l7.72-7.72 1.47 1.35L5.41 20z\"/>\n",
              "  </svg>\n",
              "      </button>\n",
              "      \n",
              "  <style>\n",
              "    .colab-df-container {\n",
              "      display:flex;\n",
              "      flex-wrap:wrap;\n",
              "      gap: 12px;\n",
              "    }\n",
              "\n",
              "    .colab-df-convert {\n",
              "      background-color: #E8F0FE;\n",
              "      border: none;\n",
              "      border-radius: 50%;\n",
              "      cursor: pointer;\n",
              "      display: none;\n",
              "      fill: #1967D2;\n",
              "      height: 32px;\n",
              "      padding: 0 0 0 0;\n",
              "      width: 32px;\n",
              "    }\n",
              "\n",
              "    .colab-df-convert:hover {\n",
              "      background-color: #E2EBFA;\n",
              "      box-shadow: 0px 1px 2px rgba(60, 64, 67, 0.3), 0px 1px 3px 1px rgba(60, 64, 67, 0.15);\n",
              "      fill: #174EA6;\n",
              "    }\n",
              "\n",
              "    [theme=dark] .colab-df-convert {\n",
              "      background-color: #3B4455;\n",
              "      fill: #D2E3FC;\n",
              "    }\n",
              "\n",
              "    [theme=dark] .colab-df-convert:hover {\n",
              "      background-color: #434B5C;\n",
              "      box-shadow: 0px 1px 3px 1px rgba(0, 0, 0, 0.15);\n",
              "      filter: drop-shadow(0px 1px 2px rgba(0, 0, 0, 0.3));\n",
              "      fill: #FFFFFF;\n",
              "    }\n",
              "  </style>\n",
              "\n",
              "      <script>\n",
              "        const buttonEl =\n",
              "          document.querySelector('#df-af11695d-8f66-4539-bc71-52fa12c73394 button.colab-df-convert');\n",
              "        buttonEl.style.display =\n",
              "          google.colab.kernel.accessAllowed ? 'block' : 'none';\n",
              "\n",
              "        async function convertToInteractive(key) {\n",
              "          const element = document.querySelector('#df-af11695d-8f66-4539-bc71-52fa12c73394');\n",
              "          const dataTable =\n",
              "            await google.colab.kernel.invokeFunction('convertToInteractive',\n",
              "                                                     [key], {});\n",
              "          if (!dataTable) return;\n",
              "\n",
              "          const docLinkHtml = 'Like what you see? Visit the ' +\n",
              "            '<a target=\"_blank\" href=https://colab.research.google.com/notebooks/data_table.ipynb>data table notebook</a>'\n",
              "            + ' to learn more about interactive tables.';\n",
              "          element.innerHTML = '';\n",
              "          dataTable['output_type'] = 'display_data';\n",
              "          await google.colab.output.renderOutput(dataTable, element);\n",
              "          const docLink = document.createElement('div');\n",
              "          docLink.innerHTML = docLinkHtml;\n",
              "          element.appendChild(docLink);\n",
              "        }\n",
              "      </script>\n",
              "    </div>\n",
              "  </div>\n",
              "  "
            ]
          },
          "metadata": {},
          "execution_count": 15
        }
      ]
    },
    {
      "cell_type": "code",
      "source": [
        "sample_data['PetalLength']"
      ],
      "metadata": {
        "colab": {
          "base_uri": "https://localhost:8080/"
        },
        "id": "UJ4MBVteXB9n",
        "outputId": "e6c0c44b-efd9-47c7-bda7-41f6e5772835"
      },
      "execution_count": 16,
      "outputs": [
        {
          "output_type": "execute_result",
          "data": {
            "text/plain": [
              "Name\n",
              "Iris-setosa        1.464\n",
              "Iris-versicolor    4.260\n",
              "Iris-virginica     5.552\n",
              "Name: PetalLength, dtype: float64"
            ]
          },
          "metadata": {},
          "execution_count": 16
        }
      ]
    },
    {
      "cell_type": "code",
      "source": [
        "sample_data['PetalLength'][0]"
      ],
      "metadata": {
        "colab": {
          "base_uri": "https://localhost:8080/"
        },
        "id": "MQqdzWaJXB7D",
        "outputId": "7bf14dc3-d5a2-415e-dba2-23ac8fcb2d9c"
      },
      "execution_count": 17,
      "outputs": [
        {
          "output_type": "execute_result",
          "data": {
            "text/plain": [
              "1.464"
            ]
          },
          "metadata": {},
          "execution_count": 17
        }
      ]
    },
    {
      "cell_type": "markdown",
      "source": [
        "### เปรียบเทียบ 1 ปริมาณของ object หลาย class"
      ],
      "metadata": {
        "id": "OFOK3VdRakeA"
      }
    },
    {
      "cell_type": "code",
      "source": [
        "plt.bar([1,2,3],sample_data['PetalLength'])"
      ],
      "metadata": {
        "colab": {
          "base_uri": "https://localhost:8080/",
          "height": 0
        },
        "id": "vWVO-zglXB4u",
        "outputId": "b223dc0d-e642-4c3b-c2ac-61b2f6911094"
      },
      "execution_count": 18,
      "outputs": [
        {
          "output_type": "execute_result",
          "data": {
            "text/plain": [
              "<BarContainer object of 3 artists>"
            ]
          },
          "metadata": {},
          "execution_count": 18
        },
        {
          "output_type": "display_data",
          "data": {
            "text/plain": [
              "<Figure size 432x288 with 1 Axes>"
            ],
            "image/png": "[encoded data removed]"
          },
          "metadata": {
            "needs_background": "light"
          }
        }
      ]
    },
    {
      "cell_type": "code",
      "source": [
        "sample_data.reset_index()"
      ],
      "metadata": {
        "colab": {
          "base_uri": "https://localhost:8080/",
          "height": 0
        },
        "id": "05VePmgjY--K",
        "outputId": "f1c37b97-8afa-4fe8-a93c-2aa1af51a69b"
      },
      "execution_count": 19,
      "outputs": [
        {
          "output_type": "execute_result",
          "data": {
            "text/plain": [
              "              Name  SepalLength  SepalWidth  PetalLength  PetalWidth\n",
              "0      Iris-setosa        5.006       3.418        1.464       0.244\n",
              "1  Iris-versicolor        5.936       2.770        4.260       1.326\n",
              "2   Iris-virginica        6.588       2.974        5.552       2.026"
            ],
            "text/html": [
              "\n",
              "  <div id=\"df-31be4c34-e618-4104-8663-f0ead70106e3\">\n",
              "    <div class=\"colab-df-container\">\n",
              "      <div>\n",
              "<style scoped>\n",
              "    .dataframe tbody tr th:only-of-type {\n",
              "        vertical-align: middle;\n",
              "    }\n",
              "\n",
              "    .dataframe tbody tr th {\n",
              "        vertical-align: top;\n",
              "    }\n",
              "\n",
              "    .dataframe thead th {\n",
              "        text-align: right;\n",
              "    }\n",
              "</style>\n",
              "<table border=\"1\" class=\"dataframe\">\n",
              "  <thead>\n",
              "    <tr style=\"text-align: right;\">\n",
              "      <th></th>\n",
              "      <th>Name</th>\n",
              "      <th>SepalLength</th>\n",
              "      <th>SepalWidth</th>\n",
              "      <th>PetalLength</th>\n",
              "      <th>PetalWidth</th>\n",
              "    </tr>\n",
              "  </thead>\n",
              "  <tbody>\n",
              "    <tr>\n",
              "      <th>0</th>\n",
              "      <td>Iris-setosa</td>\n",
              "      <td>5.006</td>\n",
              "      <td>3.418</td>\n",
              "      <td>1.464</td>\n",
              "      <td>0.244</td>\n",
              "    </tr>\n",
              "    <tr>\n",
              "      <th>1</th>\n",
              "      <td>Iris-versicolor</td>\n",
              "      <td>5.936</td>\n",
              "      <td>2.770</td>\n",
              "      <td>4.260</td>\n",
              "      <td>1.326</td>\n",
              "    </tr>\n",
              "    <tr>\n",
              "      <th>2</th>\n",
              "      <td>Iris-virginica</td>\n",
              "      <td>6.588</td>\n",
              "      <td>2.974</td>\n",
              "      <td>5.552</td>\n",
              "      <td>2.026</td>\n",
              "    </tr>\n",
              "  </tbody>\n",
              "</table>\n",
              "</div>\n",
              "      <button class=\"colab-df-convert\" onclick=\"convertToInteractive('df-31be4c34-e618-4104-8663-f0ead70106e3')\"\n",
              "              title=\"Convert this dataframe to an interactive table.\"\n",
              "              style=\"display:none;\">\n",
              "        \n",
              "  <svg xmlns=\"http://www.w3.org/2000/svg\" height=\"24px\"viewBox=\"0 0 24 24\"\n",
              "       width=\"24px\">\n",
              "    <path d=\"M0 0h24v24H0V0z\" fill=\"none\"/>\n",
              "    <path d=\"M18.56 5.44l.94 2.06.94-2.06 2.06-.94-2.06-.94-.94-2.06-.94 2.06-2.06.94zm-11 1L8.5 8.5l.94-2.06 2.06-.94-2.06-.94L8.5 2.5l-.94 2.06-2.06.94zm10 10l.94 2.06.94-2.06 2.06-.94-2.06-.94-.94-2.06-.94 2.06-2.06.94z\"/><path d=\"M17.41 7.96l-1.37-1.37c-.4-.4-.92-.59-1.43-.59-.52 0-1.04.2-1.43.59L10.3 9.45l-7.72 7.72c-.78.78-.78 2.05 0 2.83L4 21.41c.39.39.9.59 1.41.59.51 0 1.02-.2 1.41-.59l7.78-7.78 2.81-2.81c.8-.78.8-2.07 0-2.86zM5.41 20L4 18.59l7.72-7.72 1.47 1.35L5.41 20z\"/>\n",
              "  </svg>\n",
              "      </button>\n",
              "      \n",
              "  <style>\n",
              "    .colab-df-container {\n",
              "      display:flex;\n",
              "      flex-wrap:wrap;\n",
              "      gap: 12px;\n",
              "    }\n",
              "\n",
              "    .colab-df-convert {\n",
              "      background-color: #E8F0FE;\n",
              "      border: none;\n",
              "      border-radius: 50%;\n",
              "      cursor: pointer;\n",
              "      display: none;\n",
              "      fill: #1967D2;\n",
              "      height: 32px;\n",
              "      padding: 0 0 0 0;\n",
              "      width: 32px;\n",
              "    }\n",
              "\n",
              "    .colab-df-convert:hover {\n",
              "      background-color: #E2EBFA;\n",
              "      box-shadow: 0px 1px 2px rgba(60, 64, 67, 0.3), 0px 1px 3px 1px rgba(60, 64, 67, 0.15);\n",
              "      fill: #174EA6;\n",
              "    }\n",
              "\n",
              "    [theme=dark] .colab-df-convert {\n",
              "      background-color: #3B4455;\n",
              "      fill: #D2E3FC;\n",
              "    }\n",
              "\n",
              "    [theme=dark] .colab-df-convert:hover {\n",
              "      background-color: #434B5C;\n",
              "      box-shadow: 0px 1px 3px 1px rgba(0, 0, 0, 0.15);\n",
              "      filter: drop-shadow(0px 1px 2px rgba(0, 0, 0, 0.3));\n",
              "      fill: #FFFFFF;\n",
              "    }\n",
              "  </style>\n",
              "\n",
              "      <script>\n",
              "        const buttonEl =\n",
              "          document.querySelector('#df-31be4c34-e618-4104-8663-f0ead70106e3 button.colab-df-convert');\n",
              "        buttonEl.style.display =\n",
              "          google.colab.kernel.accessAllowed ? 'block' : 'none';\n",
              "\n",
              "        async function convertToInteractive(key) {\n",
              "          const element = document.querySelector('#df-31be4c34-e618-4104-8663-f0ead70106e3');\n",
              "          const dataTable =\n",
              "            await google.colab.kernel.invokeFunction('convertToInteractive',\n",
              "                                                     [key], {});\n",
              "          if (!dataTable) return;\n",
              "\n",
              "          const docLinkHtml = 'Like what you see? Visit the ' +\n",
              "            '<a target=\"_blank\" href=https://colab.research.google.com/notebooks/data_table.ipynb>data table notebook</a>'\n",
              "            + ' to learn more about interactive tables.';\n",
              "          element.innerHTML = '';\n",
              "          dataTable['output_type'] = 'display_data';\n",
              "          await google.colab.output.renderOutput(dataTable, element);\n",
              "          const docLink = document.createElement('div');\n",
              "          docLink.innerHTML = docLinkHtml;\n",
              "          element.appendChild(docLink);\n",
              "        }\n",
              "      </script>\n",
              "    </div>\n",
              "  </div>\n",
              "  "
            ]
          },
          "metadata": {},
          "execution_count": 19
        }
      ]
    },
    {
      "cell_type": "code",
      "source": [
        "sample_data.reset_index()['Name']"
      ],
      "metadata": {
        "colab": {
          "base_uri": "https://localhost:8080/"
        },
        "id": "vTUX2loCYxgy",
        "outputId": "b48ae5c2-d2a2-47f9-cfe7-dd62e6e721ec"
      },
      "execution_count": 20,
      "outputs": [
        {
          "output_type": "execute_result",
          "data": {
            "text/plain": [
              "0        Iris-setosa\n",
              "1    Iris-versicolor\n",
              "2     Iris-virginica\n",
              "Name: Name, dtype: object"
            ]
          },
          "metadata": {},
          "execution_count": 20
        }
      ]
    },
    {
      "cell_type": "code",
      "source": [
        "plt.bar([1,2,3],sample_data['PetalLength']) #ตำเเหน่งในเเนวเเกนx \n",
        "plt.xticks([1,2,3],example_df.iloc[:,:-1].columns.tolist(),rotation='vertical')\n",
        "plt.title('Comparison between average petal length of 3  iris flowers')\n",
        "plt.grid(True) #ใส่กริดในกราฟ\n",
        "plt.ylabel('size (CM)');"
      ],
      "metadata": {
        "colab": {
          "base_uri": "https://localhost:8080/",
          "height": 0
        },
        "id": "GTjTgl1FXB2S",
        "outputId": "49329981-24e8-484b-88f3-af67164b482d"
      },
      "execution_count": 21,
      "outputs": [
        {
          "output_type": "display_data",
          "data": {
            "text/plain": [
              "<Figure size 432x288 with 1 Axes>"
            ],
            "image/png": "[encoded data removed]"
          },
          "metadata": {
            "needs_background": "light"
          }
        }
      ]
    },
    {
      "cell_type": "code",
      "source": [
        "plt.bar([1,2,3],sample_data['PetalLength'],color=['r','b','g'])\n",
        "plt.xticks([1,2,3],example_df.iloc[:,:-1].columns.tolist(),rotation='vertical')\n",
        "plt.title('Comparison between average petal length of 3  iris flowers')\n",
        "plt.grid(True)\n",
        "plt.ylabel('size (CM)');"
      ],
      "metadata": {
        "colab": {
          "base_uri": "https://localhost:8080/",
          "height": 0
        },
        "id": "GPrpFe90djd3",
        "outputId": "1ecddbd4-4cad-4944-e116-ff71b221f23d"
      },
      "execution_count": 22,
      "outputs": [
        {
          "output_type": "display_data",
          "data": {
            "text/plain": [
              "<Figure size 432x288 with 1 Axes>"
            ],
            "image/png": "[encoded data removed]"
          },
          "metadata": {
            "needs_background": "light"
          }
        }
      ]
    },
    {
      "cell_type": "code",
      "source": [
        "plt.bar([1,2,3],sample_data['PetalLength'],color=['r','b','g'],edgecolor='k') #edgeสีกรอบรอบเเท่ง\n",
        "plt.xticks([1,2,3],example_df.iloc[:,:-1].columns.tolist(),rotation='vertical')\n",
        "plt.title('Comparison between average petal length of 3  iris flowers')\n",
        "plt.grid(True)\n",
        "plt.ylabel('size (CM)');"
      ],
      "metadata": {
        "colab": {
          "base_uri": "https://localhost:8080/",
          "height": 0
        },
        "id": "juqkPVaTXBz1",
        "outputId": "57e1adc8-6563-43a7-f3ab-7a7176644070"
      },
      "execution_count": 23,
      "outputs": [
        {
          "output_type": "display_data",
          "data": {
            "text/plain": [
              "<Figure size 432x288 with 1 Axes>"
            ],
            "image/png": "[encoded data removed]"
          },
          "metadata": {
            "needs_background": "light"
          }
        }
      ]
    },
    {
      "cell_type": "markdown",
      "source": [
        "### เปรียบเทียบมากกว่า 1 ปริมาณของ object หลาย class"
      ],
      "metadata": {
        "id": "bSDuynved2k5"
      }
    },
    {
      "cell_type": "markdown",
      "source": [
        "![image.png](data:image/png;base64,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)"
      ],
      "metadata": {
        "id": "tzNi0yM5fNAE"
      }
    },
    {
      "cell_type": "code",
      "source": [
        "import numpy as np"
      ],
      "metadata": {
        "id": "Y-X_eolQXBxZ"
      },
      "execution_count": 24,
      "outputs": []
    },
    {
      "cell_type": "code",
      "source": [
        "width = 0.2\n",
        "\n",
        "plt.bar([1,2],[sample_data['PetalLength'][1],sample_data['PetalWidth'][1]],width,label='versicolor') #ดอกที่2 versicolor\n",
        "plt.bar([1-width,2-width],[sample_data['PetalLength'][0],sample_data['PetalWidth'][0]],width,color='tab:pink',label='setosa') #ดอกที่1 setosa ขยับซ้าย\n",
        "plt.bar([1+width,2+width],[sample_data['PetalLength'][2],sample_data['PetalWidth'][2]],width,color='c',label='virginica') #ดอกที่3 virginica ขยับขวา\n",
        "\n",
        "plt.xticks([1,2],['Petal Length','Petal Width'])\n",
        "plt.legend();"
      ],
      "metadata": {
        "colab": {
          "base_uri": "https://localhost:8080/",
          "height": 0
        },
        "id": "gSJLezepcsPF",
        "outputId": "8db7196a-1670-43a9-f07f-afbcc9f7fa9a"
      },
      "execution_count": 25,
      "outputs": [
        {
          "output_type": "display_data",
          "data": {
            "text/plain": [
              "<Figure size 432x288 with 1 Axes>"
            ],
            "image/png": "[encoded data removed]"
          },
          "metadata": {
            "needs_background": "light"
          }
        }
      ]
    },
    {
      "cell_type": "markdown",
      "source": [
        "### การนำปริมาณหลายปริมาณมาซ้อนกัน"
      ],
      "metadata": {
        "id": "M_oDetFjihD5"
      }
    },
    {
      "cell_type": "markdown",
      "source": [
        "![image.png](data:image/png;base64,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)"
      ],
      "metadata": {
        "id": "Ludy-zwffScQ"
      }
    },
    {
      "cell_type": "code",
      "source": [
        "plt.bar([1,2,3],sample_data['PetalLength'],label='Petal Length')\n",
        "plt.bar([1,2,3],sample_data['PetalWidth'],bottom=sample_data['PetalLength'],color='tab:olive',label='Petal Width')\n",
        "plt.xticks([1,2,3], sample_data.reset_index()['Name'])\n",
        "plt.grid(True,axis='y')\n",
        "plt.legend();"
      ],
      "metadata": {
        "colab": {
          "base_uri": "https://localhost:8080/",
          "height": 0
        },
        "id": "Oz0ewi3McsML",
        "outputId": "c5cc5406-ee77-4743-f9e5-261c84e1977a"
      },
      "execution_count": 26,
      "outputs": [
        {
          "output_type": "display_data",
          "data": {
            "text/plain": [
              "<Figure size 432x288 with 1 Axes>"
            ],
            "image/png": "[encoded data removed]"
          },
          "metadata": {
            "needs_background": "light"
          }
        }
      ]
    },
    {
      "cell_type": "markdown",
      "source": [
        "### Bar chart เเบบตะเเคงข้าง"
      ],
      "metadata": {
        "id": "t0ooAptIm1b8"
      }
    },
    {
      "cell_type": "code",
      "source": [
        "plt.barh([1,2,3],sample_data['PetalLength'],label='Petal Length')\n",
        "plt.barh([1,2,3],sample_data['PetalWidth'],left=sample_data['PetalLength'],color='tab:olive',label='Petal Width')\n",
        "plt.xticks([1,2,3], sample_data.reset_index()['Name'])\n",
        "plt.grid(True,axis='y')\n",
        "plt.legend();"
      ],
      "metadata": {
        "colab": {
          "base_uri": "https://localhost:8080/",
          "height": 0
        },
        "id": "t4HvLBNJnLkp",
        "outputId": "e3900a5c-562d-4604-e811-2b77d971d596"
      },
      "execution_count": 27,
      "outputs": [
        {
          "output_type": "display_data",
          "data": {
            "text/plain": [
              "<Figure size 432x288 with 1 Axes>"
            ],
            "image/png": "[encoded data removed]"
          },
          "metadata": {
            "needs_background": "light"
          }
        }
      ]
    },
    {
      "cell_type": "markdown",
      "source": [
        "# HW7\n",
        "1.plot bar chart เปรียบเทียบ sepal length , sepal width, petal length,petal width ของดอก Iris ทั้ง 3 ชนิด\n",
        "\n",
        "2.plot bar chart เพื่อเปรียบเทียบขนาดโดยรวมของดอก Iris 3 ชนิด โดยดูจาก sepal length , sepal width, petal length,petal width \n"
      ],
      "metadata": {
        "id": "Nid63zjRl37p"
      }
    },
    {
      "cell_type": "markdown",
      "source": [
        "## 1.plot bar chart เปรียบเทียบ sepal length , sepal width, petal length,petal width ของดอก Iris ทั้ง 3 ชนิด"
      ],
      "metadata": {
        "id": "OfKuR7aqVLYt"
      }
    },
    {
      "cell_type": "code",
      "source": [
        "width = 0.3 #กำหนดขนาดกราฟเเท่ง\n",
        "\n",
        "plt.bar([1,2,3,4],[sample_data['SepalLength'][1],sample_data['SepalWidth'][1],sample_data['PetalLength'][1],sample_data['PetalWidth'][1]],width,color='mediumseagreen',label='versicolor') #ดอก versicolor\n",
        "plt.bar([1-width,2-width,3-width,4-width],[sample_data['SepalLength'][0],sample_data['SepalWidth'][0],sample_data['PetalLength'][0],sample_data['PetalWidth'][0]],width,color='darkgreen',label='setosa') #ดอกsetosa\n",
        "plt.bar([1+width,2+width,3+width,4+width],[sample_data['SepalLength'][2],sample_data['SepalWidth'][2],sample_data['PetalLength'][2],sample_data['PetalWidth'][2]],width,color='olive',label='virginica') #ดอกvirginica\n",
        "plt.xticks([1,2,3,4],['SepalLength','SepalWidth','PetalLength','PetalWidth']); #ชื่อกราฟดอกไอริสเเต่ละชนิดในเเนวเเกน X\n",
        "plt.legend();"
      ],
      "metadata": {
        "colab": {
          "base_uri": "https://localhost:8080/",
          "height": 0
        },
        "id": "u4UswkTwdIde",
        "outputId": "8b97870c-be5f-4c5b-d5a0-7f7baf05eb0d"
      },
      "execution_count": 28,
      "outputs": [
        {
          "output_type": "display_data",
          "data": {
            "text/plain": [
              "<Figure size 432x288 with 1 Axes>"
            ],
            "image/png": "[encoded data removed]"
          },
          "metadata": {
            "needs_background": "light"
          }
        }
      ]
    },
    {
      "cell_type": "markdown",
      "source": [
        "##2.plot bar chart เพื่อเปรียบเทียบขนาดโดยรวมของดอก Iris 3 ชนิด โดยดูจาก sepal length , sepal width, petal length,petal width\n"
      ],
      "metadata": {
        "id": "JVaVsCUoaIBa"
      }
    },
    {
      "cell_type": "code",
      "source": [
        "plt.bar([1,2,3],sample_data['PetalLength'],label='PetalLength')#ดูกราฟของความยาวกลีบดอก\n",
        "plt.bar([1,2,3],sample_data['PetalWidth'],bottom=sample_data['PetalLength'],color='tab:olive',label='PetalWidth') #นำปริมาณของPetalLengthมาซ้อนกันกับPetalWidth\n",
        "plt.bar([1,2,3],sample_data['SepalLength'],bottom=sample_data['PetalLength']+sample_data['PetalWidth'],color='tab:purple',label='SepalLength') #นำ SepalLength มาซ้อนกันกับความกว้างเเละยาวของกลีบดอก\n",
        "plt.bar([1,2,3],sample_data['SepalWidth'],bottom=sample_data['PetalLength']+sample_data['PetalWidth']+sample_data['SepalLength'],color='tab:cyan',label='SepalWidth') #นำSepalWidthมาซ้อนกันกับความกว้างเเละยาวของกลีบดอกกับความยาวของกลีบเลี้ยง\n",
        "plt.xticks([1,2,3], sample_data.reset_index()['Name'])#เเสดงชื่อข้อมูลของดอกไอริสเเต่ละชนิดในเเกนx\n",
        "plt.grid(True,axis='y') #ดูเส้นกริด\n",
        "plt.legend();"
      ],
      "metadata": {
        "id": "Mtnsk2VhcsJP",
        "colab": {
          "base_uri": "https://localhost:8080/",
          "height": 0
        },
        "outputId": "5ec5a09d-63a8-47cb-9fb1-fb42a310d933"
      },
      "execution_count": 29,
      "outputs": [
        {
          "output_type": "display_data",
          "data": {
            "text/plain": [
              "<Figure size 432x288 with 1 Axes>"
            ],
            "image/png": "[encoded data removed]"
          },
          "metadata": {
            "needs_background": "light"
          }
        }
      ]
    },
    {
      "cell_type": "markdown",
      "source": [
        "## ตัวอย่าง Bottom มากเกินไปเเละน้อยไป\n",
        "\n"
      ],
      "metadata": {
        "id": "-iLigOkM7ZuJ"
      }
    },
    {
      "cell_type": "code",
      "source": [
        "plt.bar([1,2,3],sample_data['PetalLength'],label='PetalLength')#ดูกราฟของความยาวกลีบดอก\n",
        "plt.bar([1,2,3],sample_data['PetalWidth'],bottom=sample_data['PetalLength']+1,color='tab:olive',label='PetalWidth') #กำหนดBottomมากเกินไป จะเห็นชั้นเเยก\n",
        "plt.bar([1,2,3],sample_data['SepalLength'],bottom=sample_data['PetalLength']+sample_data['PetalWidth'],color=[0.8,0.2,0.0,0.5],label='SepalLength') ## bottom น้อยเกินไป จะเห็น bar ซ้อนกัน\n",
        "plt.bar([1,2,3],sample_data['SepalWidth'],bottom=sample_data['PetalLength']+sample_data['PetalWidth']+sample_data['SepalLength'],color='tab:cyan',label='SepalWidth') #นำSepalWidthมาซ้อนกันกับความกว้างเเละยาวของกลีบดอกกับความยาวของกลีบเลี้ยง\n",
        "plt.xticks([1,2,3], sample_data.reset_index()['Name'])#เเสดงชื่อข้อมูลของดอกไอริสเเต่ละชนิดในเเกนx\n",
        "plt.grid(True,axis='y') #ดูเส้นกริด\n",
        "plt.legend();"
      ],
      "metadata": {
        "id": "XIoHUd8s42e7",
        "outputId": "b65b4d6d-6233-489d-ca59-6ceb34d3a40c",
        "colab": {
          "base_uri": "https://localhost:8080/",
          "height": 0
        }
      },
      "execution_count": 30,
      "outputs": [
        {
          "output_type": "display_data",
          "data": {
            "text/plain": [
              "<Figure size 432x288 with 1 Axes>"
            ],
            "image/png": "[encoded data removed]"
          },
          "metadata": {
            "needs_background": "light"
          }
        }
      ]
    },
    {
      "cell_type": "markdown",
      "source": [
        "#Histogram"
      ],
      "metadata": {
        "id": "aX_5zsOcg6Na"
      }
    },
    {
      "cell_type": "markdown",
      "source": [
        "เเสดงความถี่ของข้อมูล"
      ],
      "metadata": {
        "id": "0B_8WdvNy3DM"
      }
    },
    {
      "cell_type": "code",
      "source": [
        "np.random.seed(2022)\n",
        "\n",
        "X=np.random.randint(1,101,100)"
      ],
      "metadata": {
        "id": "8XX6nTvVocoj"
      },
      "execution_count": 31,
      "outputs": []
    },
    {
      "cell_type": "code",
      "source": [
        "X"
      ],
      "metadata": {
        "colab": {
          "base_uri": "https://localhost:8080/"
        },
        "id": "ECClPS26pji8",
        "outputId": "5e5bfd84-2d87-4c65-b79a-614252425e8d"
      },
      "execution_count": 32,
      "outputs": [
        {
          "output_type": "execute_result",
          "data": {
            "text/plain": [
              "array([93, 46, 50, 56, 89, 19, 25, 17, 54, 42, 34, 28, 12, 20, 95, 76, 49,\n",
              "       20, 39, 73, 15, 94, 17, 91, 12, 95, 98,  3, 81, 16, 24, 82, 88, 86,\n",
              "       38, 57, 84, 13, 46, 91, 77, 15, 97, 14, 78, 53, 43, 54, 65, 46, 94,\n",
              "       64, 24, 38, 22, 62, 57, 76, 47,  3, 65, 47, 42, 62, 62, 73, 65, 52,\n",
              "       92, 99, 34, 30, 24, 48, 50, 56, 29, 10, 71, 48, 32, 27,  8, 99, 90,\n",
              "       66, 43, 63, 92, 33, 77,  5, 88, 98, 11, 77, 26, 54, 63, 24])"
            ]
          },
          "metadata": {},
          "execution_count": 32
        }
      ]
    },
    {
      "cell_type": "code",
      "source": [
        "histout = plt.hist(X)"
      ],
      "metadata": {
        "colab": {
          "base_uri": "https://localhost:8080/",
          "height": 0
        },
        "id": "YRI2T_ukpnZO",
        "outputId": "11f8daad-b321-4eb8-8f7c-71dd919b734a"
      },
      "execution_count": 33,
      "outputs": [
        {
          "output_type": "display_data",
          "data": {
            "text/plain": [
              "<Figure size 432x288 with 1 Axes>"
            ],
            "image/png": "[encoded data removed]"
          },
          "metadata": {
            "needs_background": "light"
          }
        }
      ]
    },
    {
      "cell_type": "code",
      "source": [
        "np.random.seed(2022)\n",
        "\n",
        "X=np.random.randint(1,101,5)"
      ],
      "metadata": {
        "id": "uSYlNJ0eqElT"
      },
      "execution_count": 34,
      "outputs": []
    },
    {
      "cell_type": "code",
      "source": [
        "X"
      ],
      "metadata": {
        "id": "w_l4ooNSqwn3",
        "outputId": "ddefbd81-ad39-4090-80f3-f7c0e7e6f99c",
        "colab": {
          "base_uri": "https://localhost:8080/"
        }
      },
      "execution_count": 35,
      "outputs": [
        {
          "output_type": "execute_result",
          "data": {
            "text/plain": [
              "array([93, 46, 50, 56, 89])"
            ]
          },
          "metadata": {},
          "execution_count": 35
        }
      ]
    },
    {
      "cell_type": "code",
      "source": [
        "histout = plt.hist(X)"
      ],
      "metadata": {
        "colab": {
          "base_uri": "https://localhost:8080/",
          "height": 0
        },
        "id": "zT3xE-4be89e",
        "outputId": "b6945ae2-7f5f-4741-f58a-8834c82b3c01"
      },
      "execution_count": 36,
      "outputs": [
        {
          "output_type": "display_data",
          "data": {
            "text/plain": [
              "<Figure size 432x288 with 1 Axes>"
            ],
            "image/png": "[encoded data removed]"
          },
          "metadata": {
            "needs_background": "light"
          }
        }
      ]
    },
    {
      "cell_type": "code",
      "source": [
        "np.random.seed(2022)\n",
        "\n",
        "X = np.random.randint(1,101,10000)"
      ],
      "metadata": {
        "id": "zPqpcEOpe7qf"
      },
      "execution_count": 37,
      "outputs": []
    },
    {
      "cell_type": "code",
      "source": [
        "X"
      ],
      "metadata": {
        "colab": {
          "base_uri": "https://localhost:8080/"
        },
        "id": "3nPHjS30fZot",
        "outputId": "ab974e22-ef2b-4998-f1e1-e9e513d99b8e"
      },
      "execution_count": 38,
      "outputs": [
        {
          "output_type": "execute_result",
          "data": {
            "text/plain": [
              "array([93, 46, 50, ..., 64,  7, 46])"
            ]
          },
          "metadata": {},
          "execution_count": 38
        }
      ]
    },
    {
      "cell_type": "code",
      "source": [
        "histout = plt.hist(X)"
      ],
      "metadata": {
        "colab": {
          "base_uri": "https://localhost:8080/",
          "height": 0
        },
        "id": "xq8BoTAMfd6H",
        "outputId": "576b6fa9-e382-48fa-bed6-7487d62f0421"
      },
      "execution_count": 39,
      "outputs": [
        {
          "output_type": "display_data",
          "data": {
            "text/plain": [
              "<Figure size 432x288 with 1 Axes>"
            ],
            "image/png": "[encoded data removed]"
          },
          "metadata": {
            "needs_background": "light"
          }
        }
      ]
    },
    {
      "cell_type": "code",
      "source": [
        "histout"
      ],
      "metadata": {
        "colab": {
          "base_uri": "https://localhost:8080/"
        },
        "id": "NjFfLSewffPG",
        "outputId": "3d5a65f7-dc70-4c47-ee52-e4d3b4b87e86"
      },
      "execution_count": 40,
      "outputs": [
        {
          "output_type": "execute_result",
          "data": {
            "text/plain": [
              "(array([1020., 1033.,  963.,  988., 1018.,  990., 1010., 1012.,  992.,\n",
              "         974.]),\n",
              " array([  1. ,  10.9,  20.8,  30.7,  40.6,  50.5,  60.4,  70.3,  80.2,\n",
              "         90.1, 100. ]),\n",
              " <a list of 10 Patch objects>)"
            ]
          },
          "metadata": {},
          "execution_count": 40
        }
      ]
    },
    {
      "cell_type": "code",
      "source": [
        "histout[0]"
      ],
      "metadata": {
        "colab": {
          "base_uri": "https://localhost:8080/"
        },
        "id": "H64FVfKfffMO",
        "outputId": "7851679f-511f-437e-afbb-95ed70ed5344"
      },
      "execution_count": 41,
      "outputs": [
        {
          "output_type": "execute_result",
          "data": {
            "text/plain": [
              "array([1020., 1033.,  963.,  988., 1018.,  990., 1010., 1012.,  992.,\n",
              "        974.])"
            ]
          },
          "metadata": {},
          "execution_count": 41
        }
      ]
    },
    {
      "cell_type": "code",
      "source": [
        "histout[1]"
      ],
      "metadata": {
        "colab": {
          "base_uri": "https://localhost:8080/"
        },
        "id": "H3VJzvfSffHs",
        "outputId": "fae5fbe2-7a62-4f16-d1d6-959f37e867e4"
      },
      "execution_count": 42,
      "outputs": [
        {
          "output_type": "execute_result",
          "data": {
            "text/plain": [
              "array([  1. ,  10.9,  20.8,  30.7,  40.6,  50.5,  60.4,  70.3,  80.2,\n",
              "        90.1, 100. ])"
            ]
          },
          "metadata": {},
          "execution_count": 42
        }
      ]
    },
    {
      "cell_type": "markdown",
      "source": [
        "# Treemaps"
      ],
      "metadata": {
        "id": "StKQMUit7rU3"
      }
    },
    {
      "cell_type": "markdown",
      "source": [
        "https://www.analyticsvidhya.com/blog/2021/06/build-treemaps-in-python-using-squarify/\n",
        "\n"
      ],
      "metadata": {
        "id": "Yl3dA0Ee9KnU"
      }
    },
    {
      "cell_type": "code",
      "source": [
        "!pip install squarify"
      ],
      "metadata": {
        "id": "0Sac89Lb4X-w",
        "outputId": "f5c119bd-7be1-470f-8cdb-5fdf9e5c7c53",
        "colab": {
          "base_uri": "https://localhost:8080/"
        }
      },
      "execution_count": 43,
      "outputs": [
        {
          "output_type": "stream",
          "name": "stdout",
          "text": [
            "Collecting squarify\n",
            "  Downloading squarify-0.4.3-py3-none-any.whl (4.3 kB)\n",
            "Installing collected packages: squarify\n",
            "Successfully installed squarify-0.4.3\n"
          ]
        }
      ]
    },
    {
      "cell_type": "code",
      "source": [
        "import matplotlib.pyplot as plt\n",
        "import squarify"
      ],
      "metadata": {
        "id": "AcLF1AVl4X79"
      },
      "execution_count": 44,
      "outputs": []
    },
    {
      "cell_type": "code",
      "source": [
        "data = [500, 250, 60, 120]"
      ],
      "metadata": {
        "id": "H4D4FAAL4X5i"
      },
      "execution_count": 45,
      "outputs": []
    },
    {
      "cell_type": "code",
      "source": [
        "squarify.plot(data)"
      ],
      "metadata": {
        "id": "i8BhmdOP8mUq",
        "outputId": "c0085fcb-f896-4a83-cae8-21ebab7c4a38",
        "colab": {
          "base_uri": "https://localhost:8080/",
          "height": 286
        }
      },
      "execution_count": 46,
      "outputs": [
        {
          "output_type": "execute_result",
          "data": {
            "text/plain": [
              "<matplotlib.axes._subplots.AxesSubplot at 0x7f5311249350>"
            ]
          },
          "metadata": {},
          "execution_count": 46
        },
        {
          "output_type": "display_data",
          "data": {
            "text/plain": [
              "<Figure size 432x288 with 1 Axes>"
            ],
            "image/png": "[encoded data removed]"
          },
          "metadata": {
            "needs_background": "light"
          }
        }
      ]
    },
    {
      "cell_type": "code",
      "source": [
        "squarify.plot(data)\n",
        "plt.axis('off')\n",
        "plt.show()"
      ],
      "metadata": {
        "id": "qR6LXQyc4X2s",
        "outputId": "98fadb5b-17b8-4a0d-991f-33a41f30a7c5",
        "colab": {
          "base_uri": "https://localhost:8080/",
          "height": 248
        }
      },
      "execution_count": 47,
      "outputs": [
        {
          "output_type": "display_data",
          "data": {
            "text/plain": [
              "<Figure size 432x288 with 1 Axes>"
            ],
            "image/png": "[encoded data removed]"
          },
          "metadata": {
            "needs_background": "light"
          }
        }
      ]
    },
    {
      "cell_type": "code",
      "source": [
        "import matplotlib.pyplot as plt\n",
        "import squarify\n",
        "data = [500, 250, 60, 120]\n",
        "squarify.plot(data)\n",
        "plt.axis('off')\n",
        "plt.show()"
      ],
      "metadata": {
        "id": "YuVuXYka4Xz6",
        "outputId": "dd0f52bc-da8e-4ef1-ca44-d1871a1c9223",
        "colab": {
          "base_uri": "https://localhost:8080/",
          "height": 248
        }
      },
      "execution_count": 48,
      "outputs": [
        {
          "output_type": "display_data",
          "data": {
            "text/plain": [
              "<Figure size 432x288 with 1 Axes>"
            ],
            "image/png": "[encoded data removed]"
          },
          "metadata": {
            "needs_background": "light"
          }
        }
      ]
    },
    {
      "cell_type": "markdown",
      "source": [
        "### ตั้งสี ที่ต้องการ"
      ],
      "metadata": {
        "id": "x1t-UaL_9Pl7"
      }
    },
    {
      "cell_type": "code",
      "source": [
        "data = [500, 250, 120, 60]\n",
        "color = ['red', 'green', 'blue', 'orange']\n",
        "squarify.plot(data,color=color)\n",
        "plt.axis('off')\n",
        "plt.show()"
      ],
      "metadata": {
        "id": "Vw4lz5aZ4Xwa",
        "outputId": "5ea94621-0cd1-448e-a73f-376b6e4c3c65",
        "colab": {
          "base_uri": "https://localhost:8080/",
          "height": 0
        }
      },
      "execution_count": 49,
      "outputs": [
        {
          "output_type": "display_data",
          "data": {
            "text/plain": [
              "<Figure size 432x288 with 1 Axes>"
            ],
            "image/png": "[encoded data removed]"
          },
          "metadata": {
            "needs_background": "light"
          }
        }
      ]
    },
    {
      "cell_type": "markdown",
      "source": [
        "###เพิ่มชื่อให้กับปริมาณเเต่ละตัว"
      ],
      "metadata": {
        "id": "9I6hahHn9t8m"
      }
    },
    {
      "cell_type": "code",
      "source": [
        "labels = ['Dog', 'Cat', 'Bee', 'Pig']\n",
        "data = [500, 250, 120, 60]\n",
        "color = ['red', 'green', 'blue', 'orange']\n",
        "squarify.plot(data,color=color, label = labels)\n",
        "plt.axis('off')\n",
        "plt.show()"
      ],
      "metadata": {
        "id": "GlUw7NGI9Ewp",
        "outputId": "71bbb5c2-3611-4813-d06e-f9fd95d4da29",
        "colab": {
          "base_uri": "https://localhost:8080/",
          "height": 0
        }
      },
      "execution_count": 50,
      "outputs": [
        {
          "output_type": "display_data",
          "data": {
            "text/plain": [
              "<Figure size 432x288 with 1 Axes>"
            ],
            "image/png": "[encoded data removed]"
          },
          "metadata": {
            "needs_background": "light"
          }
        }
      ]
    },
    {
      "cell_type": "code",
      "source": [
        "labels = ['AB', 'A', 'ABC', 'ABCD']\n",
        "data = [500, 250, 120, 60]\n",
        "color = ['red', 'green', 'blue', 'orange']\n",
        "squarify.plot(data,color=color, label = labels, pad = True)\n",
        "plt.axis('off')\n",
        "plt.show()"
      ],
      "metadata": {
        "id": "5cnjgsWe9EuV",
        "outputId": "36b688a7-e0d1-4af0-c487-d9cf6a123d92",
        "colab": {
          "base_uri": "https://localhost:8080/",
          "height": 0
        }
      },
      "execution_count": 51,
      "outputs": [
        {
          "output_type": "display_data",
          "data": {
            "text/plain": [
              "<Figure size 432x288 with 1 Axes>"
            ],
            "image/png": "[encoded data removed]"
          },
          "metadata": {
            "needs_background": "light"
          }
        }
      ]
    },
    {
      "cell_type": "markdown",
      "source": [
        "# Group HW2\n",
        "plot tree map ของปริมาณผู้ติดเชื้อโควิด-19 ของเเต่ละจังหวัดในประเทศไทย ในวันที่1-4 มีนาคม 2565"
      ],
      "metadata": {
        "id": "QbqoFXn7-_Zs"
      }
    },
    {
      "cell_type": "code",
      "source": [
        "import pandas as pd #import paddas เพื่อนำเอาไปใช้งาน"
      ],
      "metadata": {
        "id": "rsC1az3U9Erp"
      },
      "execution_count": 52,
      "outputs": []
    },
    {
      "cell_type": "code",
      "source": [
        "from google.colab import drive\n",
        "drive.mount('/content/drive')"
      ],
      "metadata": {
        "id": "3q8RR1-G9Eo6",
        "outputId": "ab068359-83f6-4149-9154-e9280e479efe",
        "colab": {
          "base_uri": "https://localhost:8080/"
        }
      },
      "execution_count": 53,
      "outputs": [
        {
          "output_type": "stream",
          "name": "stdout",
          "text": [
            "Mounted at /content/drive\n"
          ]
        }
      ]
    },
    {
      "cell_type": "code",
      "source": [
        "import os #จัดการหาไฟล์ที่อยู่ในไดร์ฟ"
      ],
      "metadata": {
        "id": "cS1WMyb8_nJR"
      },
      "execution_count": 54,
      "outputs": []
    },
    {
      "cell_type": "code",
      "source": [
        "path = '/content/drive/My Drive/dataviz_2021_data' #ชี้ไฟล์ในไฟล์"
      ],
      "metadata": {
        "id": "xXdfszC7_nAj"
      },
      "execution_count": 60,
      "outputs": []
    },
    {
      "cell_type": "code",
      "source": [
        "covid= os.path.join(path,'confirmed-cases-since-280265.csv') #เอาพาร์ทที่อยู่ในไฟล์มาเชื่อมกับColab\n",
        "print(covid)"
      ],
      "metadata": {
        "id": "Pl0I7rp3_m26",
        "outputId": "c229f714-e175-454c-ec19-36fc77ca2f68",
        "colab": {
          "base_uri": "https://localhost:8080/"
        }
      },
      "execution_count": 63,
      "outputs": [
        {
          "output_type": "stream",
          "name": "stdout",
          "text": [
            "/content/drive/My Drive/dataviz_2021_data/confirmed-cases-since-280265.csv\n"
          ]
        }
      ]
    },
    {
      "cell_type": "code",
      "source": [
        "data_covid = pd.read_csv(covid) #โหลดดาต้าโดยใช้คำสั่ง pd.read_csv\n",
        "data_covid"
      ],
      "metadata": {
        "id": "gZizcwE1AA_B",
        "outputId": "6ed81ced-bebe-44b6-e7c7-27f922319ec9",
        "colab": {
          "base_uri": "https://localhost:8080/",
          "height": 423
        }
      },
      "execution_count": 64,
      "outputs": [
        {
          "output_type": "execute_result",
          "data": {
            "text/plain": [
              "            No. announce_date Notified date   sex   age Unit nationality  \\\n",
              "0       2869617     28/2/2022     27/2/2022   ชาย  41.0   ปี    Thailand   \n",
              "1       2869618     28/2/2022     27/2/2022  หญิง  45.0   ปี    Thailand   \n",
              "2       2869619     28/2/2022     27/2/2022  หญิง  40.0   ปี    Thailand   \n",
              "3       2869620     28/2/2022     27/2/2022   ชาย  44.0   ปี    Thailand   \n",
              "4       2869621     28/2/2022     27/2/2022   ชาย  11.0   ปี    Thailand   \n",
              "...         ...           ...           ...   ...   ...  ...         ...   \n",
              "337334  3206951     14/3/2022     13/3/2022   ชาย   NaN  NaN    Thailand   \n",
              "337335  3206952     14/3/2022     13/3/2022   ชาย   NaN  NaN    Thailand   \n",
              "337336  3206953     14/3/2022     13/3/2022   ชาย   NaN  NaN    Thailand   \n",
              "337337  3206954     14/3/2022     13/3/2022   ชาย   NaN  NaN    Thailand   \n",
              "337338  3206955     14/3/2022     13/3/2022   ชาย   NaN  NaN    Thailand   \n",
              "\n",
              "       province_of_isolation                                         risk  \\\n",
              "0                      พะเยา  สัมผัสใกล้ชิดกับผู้ป่วยยืนยันรายก่อนหน้านี้   \n",
              "1                      พะเยา  สัมผัสใกล้ชิดกับผู้ป่วยยืนยันรายก่อนหน้านี้   \n",
              "2                      พะเยา  สัมผัสใกล้ชิดกับผู้ป่วยยืนยันรายก่อนหน้านี้   \n",
              "3                      พะเยา  สัมผัสใกล้ชิดกับผู้ป่วยยืนยันรายก่อนหน้านี้   \n",
              "4                      พะเยา  สัมผัสใกล้ชิดกับผู้ป่วยยืนยันรายก่อนหน้านี้   \n",
              "...                      ...                                          ...   \n",
              "337334              ปทุมธานี                             ทัณฑสถาน/เรือนจำ   \n",
              "337335              ปทุมธานี                             ทัณฑสถาน/เรือนจำ   \n",
              "337336              ปทุมธานี                             ทัณฑสถาน/เรือนจำ   \n",
              "337337              ปทุมธานี                             ทัณฑสถาน/เรือนจำ   \n",
              "337338              ปทุมธานี                             ทัณฑสถาน/เรือนจำ   \n",
              "\n",
              "       province_of_onset district_of_onset  \n",
              "0                  พะเยา        เมืองพะเยา  \n",
              "1                  พะเยา        เมืองพะเยา  \n",
              "2                  พะเยา        เมืองพะเยา  \n",
              "3                  พะเยา        เมืองพะเยา  \n",
              "4                  พะเยา        เมืองพะเยา  \n",
              "...                  ...               ...  \n",
              "337334               NaN               NaN  \n",
              "337335               NaN               NaN  \n",
              "337336               NaN               NaN  \n",
              "337337               NaN               NaN  \n",
              "337338               NaN               NaN  \n",
              "\n",
              "[337339 rows x 11 columns]"
            ],
            "text/html": [
              "\n",
              "  <div id=\"df-78dd0239-0b88-42d6-b977-59ba74529336\">\n",
              "    <div class=\"colab-df-container\">\n",
              "      <div>\n",
              "<style scoped>\n",
              "    .dataframe tbody tr th:only-of-type {\n",
              "        vertical-align: middle;\n",
              "    }\n",
              "\n",
              "    .dataframe tbody tr th {\n",
              "        vertical-align: top;\n",
              "    }\n",
              "\n",
              "    .dataframe thead th {\n",
              "        text-align: right;\n",
              "    }\n",
              "</style>\n",
              "<table border=\"1\" class=\"dataframe\">\n",
              "  <thead>\n",
              "    <tr style=\"text-align: right;\">\n",
              "      <th></th>\n",
              "      <th>No.</th>\n",
              "      <th>announce_date</th>\n",
              "      <th>Notified date</th>\n",
              "      <th>sex</th>\n",
              "      <th>age</th>\n",
              "      <th>Unit</th>\n",
              "      <th>nationality</th>\n",
              "      <th>province_of_isolation</th>\n",
              "      <th>risk</th>\n",
              "      <th>province_of_onset</th>\n",
              "      <th>district_of_onset</th>\n",
              "    </tr>\n",
              "  </thead>\n",
              "  <tbody>\n",
              "    <tr>\n",
              "      <th>0</th>\n",
              "      <td>2869617</td>\n",
              "      <td>28/2/2022</td>\n",
              "      <td>27/2/2022</td>\n",
              "      <td>ชาย</td>\n",
              "      <td>41.0</td>\n",
              "      <td>ปี</td>\n",
              "      <td>Thailand</td>\n",
              "      <td>พะเยา</td>\n",
              "      <td>สัมผัสใกล้ชิดกับผู้ป่วยยืนยันรายก่อนหน้านี้</td>\n",
              "      <td>พะเยา</td>\n",
              "      <td>เมืองพะเยา</td>\n",
              "    </tr>\n",
              "    <tr>\n",
              "      <th>1</th>\n",
              "      <td>2869618</td>\n",
              "      <td>28/2/2022</td>\n",
              "      <td>27/2/2022</td>\n",
              "      <td>หญิง</td>\n",
              "      <td>45.0</td>\n",
              "      <td>ปี</td>\n",
              "      <td>Thailand</td>\n",
              "      <td>พะเยา</td>\n",
              "      <td>สัมผัสใกล้ชิดกับผู้ป่วยยืนยันรายก่อนหน้านี้</td>\n",
              "      <td>พะเยา</td>\n",
              "      <td>เมืองพะเยา</td>\n",
              "    </tr>\n",
              "    <tr>\n",
              "      <th>2</th>\n",
              "      <td>2869619</td>\n",
              "      <td>28/2/2022</td>\n",
              "      <td>27/2/2022</td>\n",
              "      <td>หญิง</td>\n",
              "      <td>40.0</td>\n",
              "      <td>ปี</td>\n",
              "      <td>Thailand</td>\n",
              "      <td>พะเยา</td>\n",
              "      <td>สัมผัสใกล้ชิดกับผู้ป่วยยืนยันรายก่อนหน้านี้</td>\n",
              "      <td>พะเยา</td>\n",
              "      <td>เมืองพะเยา</td>\n",
              "    </tr>\n",
              "    <tr>\n",
              "      <th>3</th>\n",
              "      <td>2869620</td>\n",
              "      <td>28/2/2022</td>\n",
              "      <td>27/2/2022</td>\n",
              "      <td>ชาย</td>\n",
              "      <td>44.0</td>\n",
              "      <td>ปี</td>\n",
              "      <td>Thailand</td>\n",
              "      <td>พะเยา</td>\n",
              "      <td>สัมผัสใกล้ชิดกับผู้ป่วยยืนยันรายก่อนหน้านี้</td>\n",
              "      <td>พะเยา</td>\n",
              "      <td>เมืองพะเยา</td>\n",
              "    </tr>\n",
              "    <tr>\n",
              "      <th>4</th>\n",
              "      <td>2869621</td>\n",
              "      <td>28/2/2022</td>\n",
              "      <td>27/2/2022</td>\n",
              "      <td>ชาย</td>\n",
              "      <td>11.0</td>\n",
              "      <td>ปี</td>\n",
              "      <td>Thailand</td>\n",
              "      <td>พะเยา</td>\n",
              "      <td>สัมผัสใกล้ชิดกับผู้ป่วยยืนยันรายก่อนหน้านี้</td>\n",
              "      <td>พะเยา</td>\n",
              "      <td>เมืองพะเยา</td>\n",
              "    </tr>\n",
              "    <tr>\n",
              "      <th>...</th>\n",
              "      <td>...</td>\n",
              "      <td>...</td>\n",
              "      <td>...</td>\n",
              "      <td>...</td>\n",
              "      <td>...</td>\n",
              "      <td>...</td>\n",
              "      <td>...</td>\n",
              "      <td>...</td>\n",
              "      <td>...</td>\n",
              "      <td>...</td>\n",
              "      <td>...</td>\n",
              "    </tr>\n",
              "    <tr>\n",
              "      <th>337334</th>\n",
              "      <td>3206951</td>\n",
              "      <td>14/3/2022</td>\n",
              "      <td>13/3/2022</td>\n",
              "      <td>ชาย</td>\n",
              "      <td>NaN</td>\n",
              "      <td>NaN</td>\n",
              "      <td>Thailand</td>\n",
              "      <td>ปทุมธานี</td>\n",
              "      <td>ทัณฑสถาน/เรือนจำ</td>\n",
              "      <td>NaN</td>\n",
              "      <td>NaN</td>\n",
              "    </tr>\n",
              "    <tr>\n",
              "      <th>337335</th>\n",
              "      <td>3206952</td>\n",
              "      <td>14/3/2022</td>\n",
              "      <td>13/3/2022</td>\n",
              "      <td>ชาย</td>\n",
              "      <td>NaN</td>\n",
              "      <td>NaN</td>\n",
              "      <td>Thailand</td>\n",
              "      <td>ปทุมธานี</td>\n",
              "      <td>ทัณฑสถาน/เรือนจำ</td>\n",
              "      <td>NaN</td>\n",
              "      <td>NaN</td>\n",
              "    </tr>\n",
              "    <tr>\n",
              "      <th>337336</th>\n",
              "      <td>3206953</td>\n",
              "      <td>14/3/2022</td>\n",
              "      <td>13/3/2022</td>\n",
              "      <td>ชาย</td>\n",
              "      <td>NaN</td>\n",
              "      <td>NaN</td>\n",
              "      <td>Thailand</td>\n",
              "      <td>ปทุมธานี</td>\n",
              "      <td>ทัณฑสถาน/เรือนจำ</td>\n",
              "      <td>NaN</td>\n",
              "      <td>NaN</td>\n",
              "    </tr>\n",
              "    <tr>\n",
              "      <th>337337</th>\n",
              "      <td>3206954</td>\n",
              "      <td>14/3/2022</td>\n",
              "      <td>13/3/2022</td>\n",
              "      <td>ชาย</td>\n",
              "      <td>NaN</td>\n",
              "      <td>NaN</td>\n",
              "      <td>Thailand</td>\n",
              "      <td>ปทุมธานี</td>\n",
              "      <td>ทัณฑสถาน/เรือนจำ</td>\n",
              "      <td>NaN</td>\n",
              "      <td>NaN</td>\n",
              "    </tr>\n",
              "    <tr>\n",
              "      <th>337338</th>\n",
              "      <td>3206955</td>\n",
              "      <td>14/3/2022</td>\n",
              "      <td>13/3/2022</td>\n",
              "      <td>ชาย</td>\n",
              "      <td>NaN</td>\n",
              "      <td>NaN</td>\n",
              "      <td>Thailand</td>\n",
              "      <td>ปทุมธานี</td>\n",
              "      <td>ทัณฑสถาน/เรือนจำ</td>\n",
              "      <td>NaN</td>\n",
              "      <td>NaN</td>\n",
              "    </tr>\n",
              "  </tbody>\n",
              "</table>\n",
              "<p>337339 rows × 11 columns</p>\n",
              "</div>\n",
              "      <button class=\"colab-df-convert\" onclick=\"convertToInteractive('df-78dd0239-0b88-42d6-b977-59ba74529336')\"\n",
              "              title=\"Convert this dataframe to an interactive table.\"\n",
              "              style=\"display:none;\">\n",
              "        \n",
              "  <svg xmlns=\"http://www.w3.org/2000/svg\" height=\"24px\"viewBox=\"0 0 24 24\"\n",
              "       width=\"24px\">\n",
              "    <path d=\"M0 0h24v24H0V0z\" fill=\"none\"/>\n",
              "    <path d=\"M18.56 5.44l.94 2.06.94-2.06 2.06-.94-2.06-.94-.94-2.06-.94 2.06-2.06.94zm-11 1L8.5 8.5l.94-2.06 2.06-.94-2.06-.94L8.5 2.5l-.94 2.06-2.06.94zm10 10l.94 2.06.94-2.06 2.06-.94-2.06-.94-.94-2.06-.94 2.06-2.06.94z\"/><path d=\"M17.41 7.96l-1.37-1.37c-.4-.4-.92-.59-1.43-.59-.52 0-1.04.2-1.43.59L10.3 9.45l-7.72 7.72c-.78.78-.78 2.05 0 2.83L4 21.41c.39.39.9.59 1.41.59.51 0 1.02-.2 1.41-.59l7.78-7.78 2.81-2.81c.8-.78.8-2.07 0-2.86zM5.41 20L4 18.59l7.72-7.72 1.47 1.35L5.41 20z\"/>\n",
              "  </svg>\n",
              "      </button>\n",
              "      \n",
              "  <style>\n",
              "    .colab-df-container {\n",
              "      display:flex;\n",
              "      flex-wrap:wrap;\n",
              "      gap: 12px;\n",
              "    }\n",
              "\n",
              "    .colab-df-convert {\n",
              "      background-color: #E8F0FE;\n",
              "      border: none;\n",
              "      border-radius: 50%;\n",
              "      cursor: pointer;\n",
              "      display: none;\n",
              "      fill: #1967D2;\n",
              "      height: 32px;\n",
              "      padding: 0 0 0 0;\n",
              "      width: 32px;\n",
              "    }\n",
              "\n",
              "    .colab-df-convert:hover {\n",
              "      background-color: #E2EBFA;\n",
              "      box-shadow: 0px 1px 2px rgba(60, 64, 67, 0.3), 0px 1px 3px 1px rgba(60, 64, 67, 0.15);\n",
              "      fill: #174EA6;\n",
              "    }\n",
              "\n",
              "    [theme=dark] .colab-df-convert {\n",
              "      background-color: #3B4455;\n",
              "      fill: #D2E3FC;\n",
              "    }\n",
              "\n",
              "    [theme=dark] .colab-df-convert:hover {\n",
              "      background-color: #434B5C;\n",
              "      box-shadow: 0px 1px 3px 1px rgba(0, 0, 0, 0.15);\n",
              "      filter: drop-shadow(0px 1px 2px rgba(0, 0, 0, 0.3));\n",
              "      fill: #FFFFFF;\n",
              "    }\n",
              "  </style>\n",
              "\n",
              "      <script>\n",
              "        const buttonEl =\n",
              "          document.querySelector('#df-78dd0239-0b88-42d6-b977-59ba74529336 button.colab-df-convert');\n",
              "        buttonEl.style.display =\n",
              "          google.colab.kernel.accessAllowed ? 'block' : 'none';\n",
              "\n",
              "        async function convertToInteractive(key) {\n",
              "          const element = document.querySelector('#df-78dd0239-0b88-42d6-b977-59ba74529336');\n",
              "          const dataTable =\n",
              "            await google.colab.kernel.invokeFunction('convertToInteractive',\n",
              "                                                     [key], {});\n",
              "          if (!dataTable) return;\n",
              "\n",
              "          const docLinkHtml = 'Like what you see? Visit the ' +\n",
              "            '<a target=\"_blank\" href=https://colab.research.google.com/notebooks/data_table.ipynb>data table notebook</a>'\n",
              "            + ' to learn more about interactive tables.';\n",
              "          element.innerHTML = '';\n",
              "          dataTable['output_type'] = 'display_data';\n",
              "          await google.colab.output.renderOutput(dataTable, element);\n",
              "          const docLink = document.createElement('div');\n",
              "          docLink.innerHTML = docLinkHtml;\n",
              "          element.appendChild(docLink);\n",
              "        }\n",
              "      </script>\n",
              "    </div>\n",
              "  </div>\n",
              "  "
            ]
          },
          "metadata": {},
          "execution_count": 64
        }
      ]
    },
    {
      "cell_type": "code",
      "source": [
        "data_covid.shape #ดูขนาดของเเถวเเละคอลัมน์"
      ],
      "metadata": {
        "id": "gYsOtRv5AAzO",
        "outputId": "1fb1167b-df4c-4cd6-bbd9-73f7848ed603",
        "colab": {
          "base_uri": "https://localhost:8080/"
        }
      },
      "execution_count": 65,
      "outputs": [
        {
          "output_type": "execute_result",
          "data": {
            "text/plain": [
              "(337339, 11)"
            ]
          },
          "metadata": {},
          "execution_count": 65
        }
      ]
    },
    {
      "cell_type": "code",
      "source": [
        "data_covid.isnull().any() #ตรวจสอบค่า Missing"
      ],
      "metadata": {
        "id": "VyZutT7YEdW3",
        "outputId": "69ca94d4-04fb-4627-f694-5f7319304d3e",
        "colab": {
          "base_uri": "https://localhost:8080/"
        }
      },
      "execution_count": 66,
      "outputs": [
        {
          "output_type": "execute_result",
          "data": {
            "text/plain": [
              "No.                      False\n",
              "announce_date            False\n",
              "Notified date            False\n",
              "sex                       True\n",
              "age                       True\n",
              "Unit                      True\n",
              "nationality               True\n",
              "province_of_isolation    False\n",
              "risk                      True\n",
              "province_of_onset         True\n",
              "district_of_onset         True\n",
              "dtype: bool"
            ]
          },
          "metadata": {},
          "execution_count": 66
        }
      ]
    },
    {
      "cell_type": "code",
      "source": [
        "data_cv = data_covid.dropna()"
      ],
      "metadata": {
        "id": "-KTPMT1fD4yf"
      },
      "execution_count": 67,
      "outputs": []
    },
    {
      "cell_type": "code",
      "source": [
        "data_cv"
      ],
      "metadata": {
        "id": "KeVN6wXFECBn",
        "outputId": "a55237ee-c035-4948-f7ad-6a5b88c479eb",
        "colab": {
          "base_uri": "https://localhost:8080/",
          "height": 423
        }
      },
      "execution_count": 68,
      "outputs": [
        {
          "output_type": "execute_result",
          "data": {
            "text/plain": [
              "            No. announce_date Notified date   sex   age Unit nationality  \\\n",
              "0       2869617     28/2/2022     27/2/2022   ชาย  41.0   ปี    Thailand   \n",
              "1       2869618     28/2/2022     27/2/2022  หญิง  45.0   ปี    Thailand   \n",
              "2       2869619     28/2/2022     27/2/2022  หญิง  40.0   ปี    Thailand   \n",
              "3       2869620     28/2/2022     27/2/2022   ชาย  44.0   ปี    Thailand   \n",
              "4       2869621     28/2/2022     27/2/2022   ชาย  11.0   ปี    Thailand   \n",
              "...         ...           ...           ...   ...   ...  ...         ...   \n",
              "337265  3206882     14/3/2022     13/3/2022   ชาย  30.0   ปี    Thailand   \n",
              "337266  3206883     14/3/2022     13/3/2022   ชาย  51.0   ปี    Thailand   \n",
              "337267  3206884     14/3/2022     13/3/2022  หญิง  48.0   ปี    Thailand   \n",
              "337268  3206885     14/3/2022     13/3/2022  หญิง  58.0   ปี    Thailand   \n",
              "337269  3206886     14/3/2022     13/3/2022   ชาย  73.0   ปี    Thailand   \n",
              "\n",
              "       province_of_isolation                                         risk  \\\n",
              "0                      พะเยา  สัมผัสใกล้ชิดกับผู้ป่วยยืนยันรายก่อนหน้านี้   \n",
              "1                      พะเยา  สัมผัสใกล้ชิดกับผู้ป่วยยืนยันรายก่อนหน้านี้   \n",
              "2                      พะเยา  สัมผัสใกล้ชิดกับผู้ป่วยยืนยันรายก่อนหน้านี้   \n",
              "3                      พะเยา  สัมผัสใกล้ชิดกับผู้ป่วยยืนยันรายก่อนหน้านี้   \n",
              "4                      พะเยา  สัมผัสใกล้ชิดกับผู้ป่วยยืนยันรายก่อนหน้านี้   \n",
              "...                      ...                                          ...   \n",
              "337265         กรุงเทพมหานคร                                        อื่นๆ   \n",
              "337266         กรุงเทพมหานคร                                        อื่นๆ   \n",
              "337267         กรุงเทพมหานคร                                        อื่นๆ   \n",
              "337268         กรุงเทพมหานคร                                        อื่นๆ   \n",
              "337269         กรุงเทพมหานคร                                        อื่นๆ   \n",
              "\n",
              "       province_of_onset district_of_onset  \n",
              "0                  พะเยา        เมืองพะเยา  \n",
              "1                  พะเยา        เมืองพะเยา  \n",
              "2                  พะเยา        เมืองพะเยา  \n",
              "3                  พะเยา        เมืองพะเยา  \n",
              "4                  พะเยา        เมืองพะเยา  \n",
              "...                  ...               ...  \n",
              "337265            นครปฐม           สามพราน  \n",
              "337266           นนทบุรี          ปากเกร็ด  \n",
              "337267     กรุงเทพมหานคร           มีนบุรี  \n",
              "337268     กรุงเทพมหานคร           จตุจักร  \n",
              "337269           นนทบุรี         บางบัวทอง  \n",
              "\n",
              "[258531 rows x 11 columns]"
            ],
            "text/html": [
              "\n",
              "  <div id=\"df-726d41a2-539b-420c-8569-912201f06eca\">\n",
              "    <div class=\"colab-df-container\">\n",
              "      <div>\n",
              "<style scoped>\n",
              "    .dataframe tbody tr th:only-of-type {\n",
              "        vertical-align: middle;\n",
              "    }\n",
              "\n",
              "    .dataframe tbody tr th {\n",
              "        vertical-align: top;\n",
              "    }\n",
              "\n",
              "    .dataframe thead th {\n",
              "        text-align: right;\n",
              "    }\n",
              "</style>\n",
              "<table border=\"1\" class=\"dataframe\">\n",
              "  <thead>\n",
              "    <tr style=\"text-align: right;\">\n",
              "      <th></th>\n",
              "      <th>No.</th>\n",
              "      <th>announce_date</th>\n",
              "      <th>Notified date</th>\n",
              "      <th>sex</th>\n",
              "      <th>age</th>\n",
              "      <th>Unit</th>\n",
              "      <th>nationality</th>\n",
              "      <th>province_of_isolation</th>\n",
              "      <th>risk</th>\n",
              "      <th>province_of_onset</th>\n",
              "      <th>district_of_onset</th>\n",
              "    </tr>\n",
              "  </thead>\n",
              "  <tbody>\n",
              "    <tr>\n",
              "      <th>0</th>\n",
              "      <td>2869617</td>\n",
              "      <td>28/2/2022</td>\n",
              "      <td>27/2/2022</td>\n",
              "      <td>ชาย</td>\n",
              "      <td>41.0</td>\n",
              "      <td>ปี</td>\n",
              "      <td>Thailand</td>\n",
              "      <td>พะเยา</td>\n",
              "      <td>สัมผัสใกล้ชิดกับผู้ป่วยยืนยันรายก่อนหน้านี้</td>\n",
              "      <td>พะเยา</td>\n",
              "      <td>เมืองพะเยา</td>\n",
              "    </tr>\n",
              "    <tr>\n",
              "      <th>1</th>\n",
              "      <td>2869618</td>\n",
              "      <td>28/2/2022</td>\n",
              "      <td>27/2/2022</td>\n",
              "      <td>หญิง</td>\n",
              "      <td>45.0</td>\n",
              "      <td>ปี</td>\n",
              "      <td>Thailand</td>\n",
              "      <td>พะเยา</td>\n",
              "      <td>สัมผัสใกล้ชิดกับผู้ป่วยยืนยันรายก่อนหน้านี้</td>\n",
              "      <td>พะเยา</td>\n",
              "      <td>เมืองพะเยา</td>\n",
              "    </tr>\n",
              "    <tr>\n",
              "      <th>2</th>\n",
              "      <td>2869619</td>\n",
              "      <td>28/2/2022</td>\n",
              "      <td>27/2/2022</td>\n",
              "      <td>หญิง</td>\n",
              "      <td>40.0</td>\n",
              "      <td>ปี</td>\n",
              "      <td>Thailand</td>\n",
              "      <td>พะเยา</td>\n",
              "      <td>สัมผัสใกล้ชิดกับผู้ป่วยยืนยันรายก่อนหน้านี้</td>\n",
              "      <td>พะเยา</td>\n",
              "      <td>เมืองพะเยา</td>\n",
              "    </tr>\n",
              "    <tr>\n",
              "      <th>3</th>\n",
              "      <td>2869620</td>\n",
              "      <td>28/2/2022</td>\n",
              "      <td>27/2/2022</td>\n",
              "      <td>ชาย</td>\n",
              "      <td>44.0</td>\n",
              "      <td>ปี</td>\n",
              "      <td>Thailand</td>\n",
              "      <td>พะเยา</td>\n",
              "      <td>สัมผัสใกล้ชิดกับผู้ป่วยยืนยันรายก่อนหน้านี้</td>\n",
              "      <td>พะเยา</td>\n",
              "      <td>เมืองพะเยา</td>\n",
              "    </tr>\n",
              "    <tr>\n",
              "      <th>4</th>\n",
              "      <td>2869621</td>\n",
              "      <td>28/2/2022</td>\n",
              "      <td>27/2/2022</td>\n",
              "      <td>ชาย</td>\n",
              "      <td>11.0</td>\n",
              "      <td>ปี</td>\n",
              "      <td>Thailand</td>\n",
              "      <td>พะเยา</td>\n",
              "      <td>สัมผัสใกล้ชิดกับผู้ป่วยยืนยันรายก่อนหน้านี้</td>\n",
              "      <td>พะเยา</td>\n",
              "      <td>เมืองพะเยา</td>\n",
              "    </tr>\n",
              "    <tr>\n",
              "      <th>...</th>\n",
              "      <td>...</td>\n",
              "      <td>...</td>\n",
              "      <td>...</td>\n",
              "      <td>...</td>\n",
              "      <td>...</td>\n",
              "      <td>...</td>\n",
              "      <td>...</td>\n",
              "      <td>...</td>\n",
              "      <td>...</td>\n",
              "      <td>...</td>\n",
              "      <td>...</td>\n",
              "    </tr>\n",
              "    <tr>\n",
              "      <th>337265</th>\n",
              "      <td>3206882</td>\n",
              "      <td>14/3/2022</td>\n",
              "      <td>13/3/2022</td>\n",
              "      <td>ชาย</td>\n",
              "      <td>30.0</td>\n",
              "      <td>ปี</td>\n",
              "      <td>Thailand</td>\n",
              "      <td>กรุงเทพมหานคร</td>\n",
              "      <td>อื่นๆ</td>\n",
              "      <td>นครปฐม</td>\n",
              "      <td>สามพราน</td>\n",
              "    </tr>\n",
              "    <tr>\n",
              "      <th>337266</th>\n",
              "      <td>3206883</td>\n",
              "      <td>14/3/2022</td>\n",
              "      <td>13/3/2022</td>\n",
              "      <td>ชาย</td>\n",
              "      <td>51.0</td>\n",
              "      <td>ปี</td>\n",
              "      <td>Thailand</td>\n",
              "      <td>กรุงเทพมหานคร</td>\n",
              "      <td>อื่นๆ</td>\n",
              "      <td>นนทบุรี</td>\n",
              "      <td>ปากเกร็ด</td>\n",
              "    </tr>\n",
              "    <tr>\n",
              "      <th>337267</th>\n",
              "      <td>3206884</td>\n",
              "      <td>14/3/2022</td>\n",
              "      <td>13/3/2022</td>\n",
              "      <td>หญิง</td>\n",
              "      <td>48.0</td>\n",
              "      <td>ปี</td>\n",
              "      <td>Thailand</td>\n",
              "      <td>กรุงเทพมหานคร</td>\n",
              "      <td>อื่นๆ</td>\n",
              "      <td>กรุงเทพมหานคร</td>\n",
              "      <td>มีนบุรี</td>\n",
              "    </tr>\n",
              "    <tr>\n",
              "      <th>337268</th>\n",
              "      <td>3206885</td>\n",
              "      <td>14/3/2022</td>\n",
              "      <td>13/3/2022</td>\n",
              "      <td>หญิง</td>\n",
              "      <td>58.0</td>\n",
              "      <td>ปี</td>\n",
              "      <td>Thailand</td>\n",
              "      <td>กรุงเทพมหานคร</td>\n",
              "      <td>อื่นๆ</td>\n",
              "      <td>กรุงเทพมหานคร</td>\n",
              "      <td>จตุจักร</td>\n",
              "    </tr>\n",
              "    <tr>\n",
              "      <th>337269</th>\n",
              "      <td>3206886</td>\n",
              "      <td>14/3/2022</td>\n",
              "      <td>13/3/2022</td>\n",
              "      <td>ชาย</td>\n",
              "      <td>73.0</td>\n",
              "      <td>ปี</td>\n",
              "      <td>Thailand</td>\n",
              "      <td>กรุงเทพมหานคร</td>\n",
              "      <td>อื่นๆ</td>\n",
              "      <td>นนทบุรี</td>\n",
              "      <td>บางบัวทอง</td>\n",
              "    </tr>\n",
              "  </tbody>\n",
              "</table>\n",
              "<p>258531 rows × 11 columns</p>\n",
              "</div>\n",
              "      <button class=\"colab-df-convert\" onclick=\"convertToInteractive('df-726d41a2-539b-420c-8569-912201f06eca')\"\n",
              "              title=\"Convert this dataframe to an interactive table.\"\n",
              "              style=\"display:none;\">\n",
              "        \n",
              "  <svg xmlns=\"http://www.w3.org/2000/svg\" height=\"24px\"viewBox=\"0 0 24 24\"\n",
              "       width=\"24px\">\n",
              "    <path d=\"M0 0h24v24H0V0z\" fill=\"none\"/>\n",
              "    <path d=\"M18.56 5.44l.94 2.06.94-2.06 2.06-.94-2.06-.94-.94-2.06-.94 2.06-2.06.94zm-11 1L8.5 8.5l.94-2.06 2.06-.94-2.06-.94L8.5 2.5l-.94 2.06-2.06.94zm10 10l.94 2.06.94-2.06 2.06-.94-2.06-.94-.94-2.06-.94 2.06-2.06.94z\"/><path d=\"M17.41 7.96l-1.37-1.37c-.4-.4-.92-.59-1.43-.59-.52 0-1.04.2-1.43.59L10.3 9.45l-7.72 7.72c-.78.78-.78 2.05 0 2.83L4 21.41c.39.39.9.59 1.41.59.51 0 1.02-.2 1.41-.59l7.78-7.78 2.81-2.81c.8-.78.8-2.07 0-2.86zM5.41 20L4 18.59l7.72-7.72 1.47 1.35L5.41 20z\"/>\n",
              "  </svg>\n",
              "      </button>\n",
              "      \n",
              "  <style>\n",
              "    .colab-df-container {\n",
              "      display:flex;\n",
              "      flex-wrap:wrap;\n",
              "      gap: 12px;\n",
              "    }\n",
              "\n",
              "    .colab-df-convert {\n",
              "      background-color: #E8F0FE;\n",
              "      border: none;\n",
              "      border-radius: 50%;\n",
              "      cursor: pointer;\n",
              "      display: none;\n",
              "      fill: #1967D2;\n",
              "      height: 32px;\n",
              "      padding: 0 0 0 0;\n",
              "      width: 32px;\n",
              "    }\n",
              "\n",
              "    .colab-df-convert:hover {\n",
              "      background-color: #E2EBFA;\n",
              "      box-shadow: 0px 1px 2px rgba(60, 64, 67, 0.3), 0px 1px 3px 1px rgba(60, 64, 67, 0.15);\n",
              "      fill: #174EA6;\n",
              "    }\n",
              "\n",
              "    [theme=dark] .colab-df-convert {\n",
              "      background-color: #3B4455;\n",
              "      fill: #D2E3FC;\n",
              "    }\n",
              "\n",
              "    [theme=dark] .colab-df-convert:hover {\n",
              "      background-color: #434B5C;\n",
              "      box-shadow: 0px 1px 3px 1px rgba(0, 0, 0, 0.15);\n",
              "      filter: drop-shadow(0px 1px 2px rgba(0, 0, 0, 0.3));\n",
              "      fill: #FFFFFF;\n",
              "    }\n",
              "  </style>\n",
              "\n",
              "      <script>\n",
              "        const buttonEl =\n",
              "          document.querySelector('#df-726d41a2-539b-420c-8569-912201f06eca button.colab-df-convert');\n",
              "        buttonEl.style.display =\n",
              "          google.colab.kernel.accessAllowed ? 'block' : 'none';\n",
              "\n",
              "        async function convertToInteractive(key) {\n",
              "          const element = document.querySelector('#df-726d41a2-539b-420c-8569-912201f06eca');\n",
              "          const dataTable =\n",
              "            await google.colab.kernel.invokeFunction('convertToInteractive',\n",
              "                                                     [key], {});\n",
              "          if (!dataTable) return;\n",
              "\n",
              "          const docLinkHtml = 'Like what you see? Visit the ' +\n",
              "            '<a target=\"_blank\" href=https://colab.research.google.com/notebooks/data_table.ipynb>data table notebook</a>'\n",
              "            + ' to learn more about interactive tables.';\n",
              "          element.innerHTML = '';\n",
              "          dataTable['output_type'] = 'display_data';\n",
              "          await google.colab.output.renderOutput(dataTable, element);\n",
              "          const docLink = document.createElement('div');\n",
              "          docLink.innerHTML = docLinkHtml;\n",
              "          element.appendChild(docLink);\n",
              "        }\n",
              "      </script>\n",
              "    </div>\n",
              "  </div>\n",
              "  "
            ]
          },
          "metadata": {},
          "execution_count": 68
        }
      ]
    },
    {
      "cell_type": "code",
      "source": [
        "data_cv.isnull().any() #ตรวจสอบค่า Missing"
      ],
      "metadata": {
        "id": "DqssmH_gAY_9",
        "outputId": "52dbbb5c-5108-4bdb-a091-5aee295852d5",
        "colab": {
          "base_uri": "https://localhost:8080/"
        }
      },
      "execution_count": 69,
      "outputs": [
        {
          "output_type": "execute_result",
          "data": {
            "text/plain": [
              "No.                      False\n",
              "announce_date            False\n",
              "Notified date            False\n",
              "sex                      False\n",
              "age                      False\n",
              "Unit                     False\n",
              "nationality              False\n",
              "province_of_isolation    False\n",
              "risk                     False\n",
              "province_of_onset        False\n",
              "district_of_onset        False\n",
              "dtype: bool"
            ]
          },
          "metadata": {},
          "execution_count": 69
        }
      ]
    },
    {
      "cell_type": "code",
      "source": [
        "j=list() #กำหนด j ให้เป็น list ว่าง เพื่อใช้เติมค่า loop เป็น list ของ True False list logical ที่มีขนาดเท่ากับแถวตาราง\n",
        "for each_row in data_covid.iterrows(): # loop each_row (แต่ละแถว) ใน data_covid\n",
        "    if (int(each_row[1]['announce_date'].split('/')[0])>=1 )  and (int(each_row[1]['announce_date'].split('/')[0])<= 4) : #สร้างเงื่อนไข 2 อย่าง ได้แก่ 1. announce_date ที่มากกว่าเท่ากับ 1 และ 2. announce_date ที่น้อยกว่าเท่ากับ 20 โดยเริ่มเอาที่แถวที่1 ที่เป็น [1] คือเราต้องการวันและแยกโดยใช้ '/' และที่ใช้ int เพื่อให้มันเปลี่ยนเป็นตัวเลขจะสามารถคำนวณได้\n",
        "        j.append(True) # หากเงื่อนไขถูกต้องให้เพิ่มเข้าไปใน list j ที่สร้างไว้ | มันจะเป็นappend เป็น True เก็บไว้>>เพื่อไว้ใช้ต่อ\n",
        "    else:\n",
        "        j.append(False) #หากเงื่อนไขไม่ถูกต้อง ไม่ให้เพิ่มเข้าไปใน list j ที่สร้างไว้ | มันจะเป็นappend เป็น False เก็บไว้ >>เพื่อไม่ใช้ต่อ\n",
        "\n",
        "data_covid[j] # แสดงผลลัพธ์\n"
      ],
      "metadata": {
        "id": "Oqs7IKWwAY6r",
        "outputId": "f25f23a1-54f8-4479-b02d-1e6e6feb8259",
        "colab": {
          "base_uri": "https://localhost:8080/",
          "height": 423
        }
      },
      "execution_count": 72,
      "outputs": [
        {
          "output_type": "execute_result",
          "data": {
            "text/plain": [
              "            No. announce_date Notified date   sex  age Unit nationality  \\\n",
              "22311   2891928      1/3/2022     28/2/2022   ชาย  NaN  NaN    Thailand   \n",
              "22312   2891929      1/3/2022     28/2/2022  หญิง  NaN  NaN    Thailand   \n",
              "22313   2891930      1/3/2022     28/2/2022  หญิง  NaN  NaN    Thailand   \n",
              "22314   2891931      1/3/2022     28/2/2022  หญิง  NaN  NaN    Thailand   \n",
              "22315   2891932      1/3/2022     28/2/2022  หญิง  NaN  NaN         NaN   \n",
              "...         ...           ...           ...   ...  ...  ...         ...   \n",
              "112375  2981992      4/3/2022      3/3/2022   ชาย  NaN  NaN    Thailand   \n",
              "112376  2981993      4/3/2022      3/3/2022   ชาย  NaN  NaN    Thailand   \n",
              "112377  2981994      4/3/2022      3/3/2022   ชาย  NaN  NaN    Thailand   \n",
              "112378  2981995      4/3/2022      3/3/2022   ชาย  NaN  NaN    Thailand   \n",
              "112379  2981996      4/3/2022      3/3/2022   ชาย  NaN  NaN    Thailand   \n",
              "\n",
              "       province_of_isolation                                         risk  \\\n",
              "22311             แม่ฮ่องสอน                                        อื่นๆ   \n",
              "22312             แม่ฮ่องสอน  สัมผัสใกล้ชิดกับผู้ป่วยยืนยันรายก่อนหน้านี้   \n",
              "22313             แม่ฮ่องสอน  สัมผัสใกล้ชิดกับผู้ป่วยยืนยันรายก่อนหน้านี้   \n",
              "22314             แม่ฮ่องสอน              บุคลากรด้านการแพทย์และสาธารณสุข   \n",
              "22315              เชียงใหม่                         อยู่ระหว่างการสอบสวน   \n",
              "...                      ...                                          ...   \n",
              "112375           สมุทรปราการ                             ทัณฑสถาน/เรือนจำ   \n",
              "112376           สมุทรปราการ                             ทัณฑสถาน/เรือนจำ   \n",
              "112377           สมุทรปราการ                             ทัณฑสถาน/เรือนจำ   \n",
              "112378           สมุทรปราการ                             ทัณฑสถาน/เรือนจำ   \n",
              "112379           สมุทรปราการ                             ทัณฑสถาน/เรือนจำ   \n",
              "\n",
              "       province_of_onset district_of_onset  \n",
              "22311         แม่ฮ่องสอน             เมือง  \n",
              "22312         แม่ฮ่องสอน               ปาย  \n",
              "22313         แม่ฮ่องสอน        แม่สะเรียง  \n",
              "22314         แม่ฮ่องสอน        แม่สะเรียง  \n",
              "22315          เชียงใหม่            แม่ริม  \n",
              "...                  ...               ...  \n",
              "112375       สมุทรปราการ               NaN  \n",
              "112376       สมุทรปราการ               NaN  \n",
              "112377       สมุทรปราการ               NaN  \n",
              "112378       สมุทรปราการ               NaN  \n",
              "112379       สมุทรปราการ               NaN  \n",
              "\n",
              "[90069 rows x 11 columns]"
            ],
            "text/html": [
              "\n",
              "  <div id=\"df-8ec65105-31ff-4172-833b-b29a551f846f\">\n",
              "    <div class=\"colab-df-container\">\n",
              "      <div>\n",
              "<style scoped>\n",
              "    .dataframe tbody tr th:only-of-type {\n",
              "        vertical-align: middle;\n",
              "    }\n",
              "\n",
              "    .dataframe tbody tr th {\n",
              "        vertical-align: top;\n",
              "    }\n",
              "\n",
              "    .dataframe thead th {\n",
              "        text-align: right;\n",
              "    }\n",
              "</style>\n",
              "<table border=\"1\" class=\"dataframe\">\n",
              "  <thead>\n",
              "    <tr style=\"text-align: right;\">\n",
              "      <th></th>\n",
              "      <th>No.</th>\n",
              "      <th>announce_date</th>\n",
              "      <th>Notified date</th>\n",
              "      <th>sex</th>\n",
              "      <th>age</th>\n",
              "      <th>Unit</th>\n",
              "      <th>nationality</th>\n",
              "      <th>province_of_isolation</th>\n",
              "      <th>risk</th>\n",
              "      <th>province_of_onset</th>\n",
              "      <th>district_of_onset</th>\n",
              "    </tr>\n",
              "  </thead>\n",
              "  <tbody>\n",
              "    <tr>\n",
              "      <th>22311</th>\n",
              "      <td>2891928</td>\n",
              "      <td>1/3/2022</td>\n",
              "      <td>28/2/2022</td>\n",
              "      <td>ชาย</td>\n",
              "      <td>NaN</td>\n",
              "      <td>NaN</td>\n",
              "      <td>Thailand</td>\n",
              "      <td>แม่ฮ่องสอน</td>\n",
              "      <td>อื่นๆ</td>\n",
              "      <td>แม่ฮ่องสอน</td>\n",
              "      <td>เมือง</td>\n",
              "    </tr>\n",
              "    <tr>\n",
              "      <th>22312</th>\n",
              "      <td>2891929</td>\n",
              "      <td>1/3/2022</td>\n",
              "      <td>28/2/2022</td>\n",
              "      <td>หญิง</td>\n",
              "      <td>NaN</td>\n",
              "      <td>NaN</td>\n",
              "      <td>Thailand</td>\n",
              "      <td>แม่ฮ่องสอน</td>\n",
              "      <td>สัมผัสใกล้ชิดกับผู้ป่วยยืนยันรายก่อนหน้านี้</td>\n",
              "      <td>แม่ฮ่องสอน</td>\n",
              "      <td>ปาย</td>\n",
              "    </tr>\n",
              "    <tr>\n",
              "      <th>22313</th>\n",
              "      <td>2891930</td>\n",
              "      <td>1/3/2022</td>\n",
              "      <td>28/2/2022</td>\n",
              "      <td>หญิง</td>\n",
              "      <td>NaN</td>\n",
              "      <td>NaN</td>\n",
              "      <td>Thailand</td>\n",
              "      <td>แม่ฮ่องสอน</td>\n",
              "      <td>สัมผัสใกล้ชิดกับผู้ป่วยยืนยันรายก่อนหน้านี้</td>\n",
              "      <td>แม่ฮ่องสอน</td>\n",
              "      <td>แม่สะเรียง</td>\n",
              "    </tr>\n",
              "    <tr>\n",
              "      <th>22314</th>\n",
              "      <td>2891931</td>\n",
              "      <td>1/3/2022</td>\n",
              "      <td>28/2/2022</td>\n",
              "      <td>หญิง</td>\n",
              "      <td>NaN</td>\n",
              "      <td>NaN</td>\n",
              "      <td>Thailand</td>\n",
              "      <td>แม่ฮ่องสอน</td>\n",
              "      <td>บุคลากรด้านการแพทย์และสาธารณสุข</td>\n",
              "      <td>แม่ฮ่องสอน</td>\n",
              "      <td>แม่สะเรียง</td>\n",
              "    </tr>\n",
              "    <tr>\n",
              "      <th>22315</th>\n",
              "      <td>2891932</td>\n",
              "      <td>1/3/2022</td>\n",
              "      <td>28/2/2022</td>\n",
              "      <td>หญิง</td>\n",
              "      <td>NaN</td>\n",
              "      <td>NaN</td>\n",
              "      <td>NaN</td>\n",
              "      <td>เชียงใหม่</td>\n",
              "      <td>อยู่ระหว่างการสอบสวน</td>\n",
              "      <td>เชียงใหม่</td>\n",
              "      <td>แม่ริม</td>\n",
              "    </tr>\n",
              "    <tr>\n",
              "      <th>...</th>\n",
              "      <td>...</td>\n",
              "      <td>...</td>\n",
              "      <td>...</td>\n",
              "      <td>...</td>\n",
              "      <td>...</td>\n",
              "      <td>...</td>\n",
              "      <td>...</td>\n",
              "      <td>...</td>\n",
              "      <td>...</td>\n",
              "      <td>...</td>\n",
              "      <td>...</td>\n",
              "    </tr>\n",
              "    <tr>\n",
              "      <th>112375</th>\n",
              "      <td>2981992</td>\n",
              "      <td>4/3/2022</td>\n",
              "      <td>3/3/2022</td>\n",
              "      <td>ชาย</td>\n",
              "      <td>NaN</td>\n",
              "      <td>NaN</td>\n",
              "      <td>Thailand</td>\n",
              "      <td>สมุทรปราการ</td>\n",
              "      <td>ทัณฑสถาน/เรือนจำ</td>\n",
              "      <td>สมุทรปราการ</td>\n",
              "      <td>NaN</td>\n",
              "    </tr>\n",
              "    <tr>\n",
              "      <th>112376</th>\n",
              "      <td>2981993</td>\n",
              "      <td>4/3/2022</td>\n",
              "      <td>3/3/2022</td>\n",
              "      <td>ชาย</td>\n",
              "      <td>NaN</td>\n",
              "      <td>NaN</td>\n",
              "      <td>Thailand</td>\n",
              "      <td>สมุทรปราการ</td>\n",
              "      <td>ทัณฑสถาน/เรือนจำ</td>\n",
              "      <td>สมุทรปราการ</td>\n",
              "      <td>NaN</td>\n",
              "    </tr>\n",
              "    <tr>\n",
              "      <th>112377</th>\n",
              "      <td>2981994</td>\n",
              "      <td>4/3/2022</td>\n",
              "      <td>3/3/2022</td>\n",
              "      <td>ชาย</td>\n",
              "      <td>NaN</td>\n",
              "      <td>NaN</td>\n",
              "      <td>Thailand</td>\n",
              "      <td>สมุทรปราการ</td>\n",
              "      <td>ทัณฑสถาน/เรือนจำ</td>\n",
              "      <td>สมุทรปราการ</td>\n",
              "      <td>NaN</td>\n",
              "    </tr>\n",
              "    <tr>\n",
              "      <th>112378</th>\n",
              "      <td>2981995</td>\n",
              "      <td>4/3/2022</td>\n",
              "      <td>3/3/2022</td>\n",
              "      <td>ชาย</td>\n",
              "      <td>NaN</td>\n",
              "      <td>NaN</td>\n",
              "      <td>Thailand</td>\n",
              "      <td>สมุทรปราการ</td>\n",
              "      <td>ทัณฑสถาน/เรือนจำ</td>\n",
              "      <td>สมุทรปราการ</td>\n",
              "      <td>NaN</td>\n",
              "    </tr>\n",
              "    <tr>\n",
              "      <th>112379</th>\n",
              "      <td>2981996</td>\n",
              "      <td>4/3/2022</td>\n",
              "      <td>3/3/2022</td>\n",
              "      <td>ชาย</td>\n",
              "      <td>NaN</td>\n",
              "      <td>NaN</td>\n",
              "      <td>Thailand</td>\n",
              "      <td>สมุทรปราการ</td>\n",
              "      <td>ทัณฑสถาน/เรือนจำ</td>\n",
              "      <td>สมุทรปราการ</td>\n",
              "      <td>NaN</td>\n",
              "    </tr>\n",
              "  </tbody>\n",
              "</table>\n",
              "<p>90069 rows × 11 columns</p>\n",
              "</div>\n",
              "      <button class=\"colab-df-convert\" onclick=\"convertToInteractive('df-8ec65105-31ff-4172-833b-b29a551f846f')\"\n",
              "              title=\"Convert this dataframe to an interactive table.\"\n",
              "              style=\"display:none;\">\n",
              "        \n",
              "  <svg xmlns=\"http://www.w3.org/2000/svg\" height=\"24px\"viewBox=\"0 0 24 24\"\n",
              "       width=\"24px\">\n",
              "    <path d=\"M0 0h24v24H0V0z\" fill=\"none\"/>\n",
              "    <path d=\"M18.56 5.44l.94 2.06.94-2.06 2.06-.94-2.06-.94-.94-2.06-.94 2.06-2.06.94zm-11 1L8.5 8.5l.94-2.06 2.06-.94-2.06-.94L8.5 2.5l-.94 2.06-2.06.94zm10 10l.94 2.06.94-2.06 2.06-.94-2.06-.94-.94-2.06-.94 2.06-2.06.94z\"/><path d=\"M17.41 7.96l-1.37-1.37c-.4-.4-.92-.59-1.43-.59-.52 0-1.04.2-1.43.59L10.3 9.45l-7.72 7.72c-.78.78-.78 2.05 0 2.83L4 21.41c.39.39.9.59 1.41.59.51 0 1.02-.2 1.41-.59l7.78-7.78 2.81-2.81c.8-.78.8-2.07 0-2.86zM5.41 20L4 18.59l7.72-7.72 1.47 1.35L5.41 20z\"/>\n",
              "  </svg>\n",
              "      </button>\n",
              "      \n",
              "  <style>\n",
              "    .colab-df-container {\n",
              "      display:flex;\n",
              "      flex-wrap:wrap;\n",
              "      gap: 12px;\n",
              "    }\n",
              "\n",
              "    .colab-df-convert {\n",
              "      background-color: #E8F0FE;\n",
              "      border: none;\n",
              "      border-radius: 50%;\n",
              "      cursor: pointer;\n",
              "      display: none;\n",
              "      fill: #1967D2;\n",
              "      height: 32px;\n",
              "      padding: 0 0 0 0;\n",
              "      width: 32px;\n",
              "    }\n",
              "\n",
              "    .colab-df-convert:hover {\n",
              "      background-color: #E2EBFA;\n",
              "      box-shadow: 0px 1px 2px rgba(60, 64, 67, 0.3), 0px 1px 3px 1px rgba(60, 64, 67, 0.15);\n",
              "      fill: #174EA6;\n",
              "    }\n",
              "\n",
              "    [theme=dark] .colab-df-convert {\n",
              "      background-color: #3B4455;\n",
              "      fill: #D2E3FC;\n",
              "    }\n",
              "\n",
              "    [theme=dark] .colab-df-convert:hover {\n",
              "      background-color: #434B5C;\n",
              "      box-shadow: 0px 1px 3px 1px rgba(0, 0, 0, 0.15);\n",
              "      filter: drop-shadow(0px 1px 2px rgba(0, 0, 0, 0.3));\n",
              "      fill: #FFFFFF;\n",
              "    }\n",
              "  </style>\n",
              "\n",
              "      <script>\n",
              "        const buttonEl =\n",
              "          document.querySelector('#df-8ec65105-31ff-4172-833b-b29a551f846f button.colab-df-convert');\n",
              "        buttonEl.style.display =\n",
              "          google.colab.kernel.accessAllowed ? 'block' : 'none';\n",
              "\n",
              "        async function convertToInteractive(key) {\n",
              "          const element = document.querySelector('#df-8ec65105-31ff-4172-833b-b29a551f846f');\n",
              "          const dataTable =\n",
              "            await google.colab.kernel.invokeFunction('convertToInteractive',\n",
              "                                                     [key], {});\n",
              "          if (!dataTable) return;\n",
              "\n",
              "          const docLinkHtml = 'Like what you see? Visit the ' +\n",
              "            '<a target=\"_blank\" href=https://colab.research.google.com/notebooks/data_table.ipynb>data table notebook</a>'\n",
              "            + ' to learn more about interactive tables.';\n",
              "          element.innerHTML = '';\n",
              "          dataTable['output_type'] = 'display_data';\n",
              "          await google.colab.output.renderOutput(dataTable, element);\n",
              "          const docLink = document.createElement('div');\n",
              "          docLink.innerHTML = docLinkHtml;\n",
              "          element.appendChild(docLink);\n",
              "        }\n",
              "      </script>\n",
              "    </div>\n",
              "  </div>\n",
              "  "
            ]
          },
          "metadata": {},
          "execution_count": 72
        }
      ]
    },
    {
      "cell_type": "code",
      "source": [
        "j_data = data_covid[j]"
      ],
      "metadata": {
        "id": "bsGaBzKsCP0o"
      },
      "execution_count": 75,
      "outputs": []
    },
    {
      "cell_type": "code",
      "source": [
        "j_data"
      ],
      "metadata": {
        "id": "U-g92eIsCPyX",
        "outputId": "c492bf00-a0cf-4bfb-a467-4dcfd939e81f",
        "colab": {
          "base_uri": "https://localhost:8080/",
          "height": 423
        }
      },
      "execution_count": 76,
      "outputs": [
        {
          "output_type": "execute_result",
          "data": {
            "text/plain": [
              "            No. announce_date Notified date   sex  age Unit nationality  \\\n",
              "22311   2891928      1/3/2022     28/2/2022   ชาย  NaN  NaN    Thailand   \n",
              "22312   2891929      1/3/2022     28/2/2022  หญิง  NaN  NaN    Thailand   \n",
              "22313   2891930      1/3/2022     28/2/2022  หญิง  NaN  NaN    Thailand   \n",
              "22314   2891931      1/3/2022     28/2/2022  หญิง  NaN  NaN    Thailand   \n",
              "22315   2891932      1/3/2022     28/2/2022  หญิง  NaN  NaN         NaN   \n",
              "...         ...           ...           ...   ...  ...  ...         ...   \n",
              "112375  2981992      4/3/2022      3/3/2022   ชาย  NaN  NaN    Thailand   \n",
              "112376  2981993      4/3/2022      3/3/2022   ชาย  NaN  NaN    Thailand   \n",
              "112377  2981994      4/3/2022      3/3/2022   ชาย  NaN  NaN    Thailand   \n",
              "112378  2981995      4/3/2022      3/3/2022   ชาย  NaN  NaN    Thailand   \n",
              "112379  2981996      4/3/2022      3/3/2022   ชาย  NaN  NaN    Thailand   \n",
              "\n",
              "       province_of_isolation                                         risk  \\\n",
              "22311             แม่ฮ่องสอน                                        อื่นๆ   \n",
              "22312             แม่ฮ่องสอน  สัมผัสใกล้ชิดกับผู้ป่วยยืนยันรายก่อนหน้านี้   \n",
              "22313             แม่ฮ่องสอน  สัมผัสใกล้ชิดกับผู้ป่วยยืนยันรายก่อนหน้านี้   \n",
              "22314             แม่ฮ่องสอน              บุคลากรด้านการแพทย์และสาธารณสุข   \n",
              "22315              เชียงใหม่                         อยู่ระหว่างการสอบสวน   \n",
              "...                      ...                                          ...   \n",
              "112375           สมุทรปราการ                             ทัณฑสถาน/เรือนจำ   \n",
              "112376           สมุทรปราการ                             ทัณฑสถาน/เรือนจำ   \n",
              "112377           สมุทรปราการ                             ทัณฑสถาน/เรือนจำ   \n",
              "112378           สมุทรปราการ                             ทัณฑสถาน/เรือนจำ   \n",
              "112379           สมุทรปราการ                             ทัณฑสถาน/เรือนจำ   \n",
              "\n",
              "       province_of_onset district_of_onset  \n",
              "22311         แม่ฮ่องสอน             เมือง  \n",
              "22312         แม่ฮ่องสอน               ปาย  \n",
              "22313         แม่ฮ่องสอน        แม่สะเรียง  \n",
              "22314         แม่ฮ่องสอน        แม่สะเรียง  \n",
              "22315          เชียงใหม่            แม่ริม  \n",
              "...                  ...               ...  \n",
              "112375       สมุทรปราการ               NaN  \n",
              "112376       สมุทรปราการ               NaN  \n",
              "112377       สมุทรปราการ               NaN  \n",
              "112378       สมุทรปราการ               NaN  \n",
              "112379       สมุทรปราการ               NaN  \n",
              "\n",
              "[90069 rows x 11 columns]"
            ],
            "text/html": [
              "\n",
              "  <div id=\"df-0733ed72-f59c-4b65-847f-3e8c4c322f19\">\n",
              "    <div class=\"colab-df-container\">\n",
              "      <div>\n",
              "<style scoped>\n",
              "    .dataframe tbody tr th:only-of-type {\n",
              "        vertical-align: middle;\n",
              "    }\n",
              "\n",
              "    .dataframe tbody tr th {\n",
              "        vertical-align: top;\n",
              "    }\n",
              "\n",
              "    .dataframe thead th {\n",
              "        text-align: right;\n",
              "    }\n",
              "</style>\n",
              "<table border=\"1\" class=\"dataframe\">\n",
              "  <thead>\n",
              "    <tr style=\"text-align: right;\">\n",
              "      <th></th>\n",
              "      <th>No.</th>\n",
              "      <th>announce_date</th>\n",
              "      <th>Notified date</th>\n",
              "      <th>sex</th>\n",
              "      <th>age</th>\n",
              "      <th>Unit</th>\n",
              "      <th>nationality</th>\n",
              "      <th>province_of_isolation</th>\n",
              "      <th>risk</th>\n",
              "      <th>province_of_onset</th>\n",
              "      <th>district_of_onset</th>\n",
              "    </tr>\n",
              "  </thead>\n",
              "  <tbody>\n",
              "    <tr>\n",
              "      <th>22311</th>\n",
              "      <td>2891928</td>\n",
              "      <td>1/3/2022</td>\n",
              "      <td>28/2/2022</td>\n",
              "      <td>ชาย</td>\n",
              "      <td>NaN</td>\n",
              "      <td>NaN</td>\n",
              "      <td>Thailand</td>\n",
              "      <td>แม่ฮ่องสอน</td>\n",
              "      <td>อื่นๆ</td>\n",
              "      <td>แม่ฮ่องสอน</td>\n",
              "      <td>เมือง</td>\n",
              "    </tr>\n",
              "    <tr>\n",
              "      <th>22312</th>\n",
              "      <td>2891929</td>\n",
              "      <td>1/3/2022</td>\n",
              "      <td>28/2/2022</td>\n",
              "      <td>หญิง</td>\n",
              "      <td>NaN</td>\n",
              "      <td>NaN</td>\n",
              "      <td>Thailand</td>\n",
              "      <td>แม่ฮ่องสอน</td>\n",
              "      <td>สัมผัสใกล้ชิดกับผู้ป่วยยืนยันรายก่อนหน้านี้</td>\n",
              "      <td>แม่ฮ่องสอน</td>\n",
              "      <td>ปาย</td>\n",
              "    </tr>\n",
              "    <tr>\n",
              "      <th>22313</th>\n",
              "      <td>2891930</td>\n",
              "      <td>1/3/2022</td>\n",
              "      <td>28/2/2022</td>\n",
              "      <td>หญิง</td>\n",
              "      <td>NaN</td>\n",
              "      <td>NaN</td>\n",
              "      <td>Thailand</td>\n",
              "      <td>แม่ฮ่องสอน</td>\n",
              "      <td>สัมผัสใกล้ชิดกับผู้ป่วยยืนยันรายก่อนหน้านี้</td>\n",
              "      <td>แม่ฮ่องสอน</td>\n",
              "      <td>แม่สะเรียง</td>\n",
              "    </tr>\n",
              "    <tr>\n",
              "      <th>22314</th>\n",
              "      <td>2891931</td>\n",
              "      <td>1/3/2022</td>\n",
              "      <td>28/2/2022</td>\n",
              "      <td>หญิง</td>\n",
              "      <td>NaN</td>\n",
              "      <td>NaN</td>\n",
              "      <td>Thailand</td>\n",
              "      <td>แม่ฮ่องสอน</td>\n",
              "      <td>บุคลากรด้านการแพทย์และสาธารณสุข</td>\n",
              "      <td>แม่ฮ่องสอน</td>\n",
              "      <td>แม่สะเรียง</td>\n",
              "    </tr>\n",
              "    <tr>\n",
              "      <th>22315</th>\n",
              "      <td>2891932</td>\n",
              "      <td>1/3/2022</td>\n",
              "      <td>28/2/2022</td>\n",
              "      <td>หญิง</td>\n",
              "      <td>NaN</td>\n",
              "      <td>NaN</td>\n",
              "      <td>NaN</td>\n",
              "      <td>เชียงใหม่</td>\n",
              "      <td>อยู่ระหว่างการสอบสวน</td>\n",
              "      <td>เชียงใหม่</td>\n",
              "      <td>แม่ริม</td>\n",
              "    </tr>\n",
              "    <tr>\n",
              "      <th>...</th>\n",
              "      <td>...</td>\n",
              "      <td>...</td>\n",
              "      <td>...</td>\n",
              "      <td>...</td>\n",
              "      <td>...</td>\n",
              "      <td>...</td>\n",
              "      <td>...</td>\n",
              "      <td>...</td>\n",
              "      <td>...</td>\n",
              "      <td>...</td>\n",
              "      <td>...</td>\n",
              "    </tr>\n",
              "    <tr>\n",
              "      <th>112375</th>\n",
              "      <td>2981992</td>\n",
              "      <td>4/3/2022</td>\n",
              "      <td>3/3/2022</td>\n",
              "      <td>ชาย</td>\n",
              "      <td>NaN</td>\n",
              "      <td>NaN</td>\n",
              "      <td>Thailand</td>\n",
              "      <td>สมุทรปราการ</td>\n",
              "      <td>ทัณฑสถาน/เรือนจำ</td>\n",
              "      <td>สมุทรปราการ</td>\n",
              "      <td>NaN</td>\n",
              "    </tr>\n",
              "    <tr>\n",
              "      <th>112376</th>\n",
              "      <td>2981993</td>\n",
              "      <td>4/3/2022</td>\n",
              "      <td>3/3/2022</td>\n",
              "      <td>ชาย</td>\n",
              "      <td>NaN</td>\n",
              "      <td>NaN</td>\n",
              "      <td>Thailand</td>\n",
              "      <td>สมุทรปราการ</td>\n",
              "      <td>ทัณฑสถาน/เรือนจำ</td>\n",
              "      <td>สมุทรปราการ</td>\n",
              "      <td>NaN</td>\n",
              "    </tr>\n",
              "    <tr>\n",
              "      <th>112377</th>\n",
              "      <td>2981994</td>\n",
              "      <td>4/3/2022</td>\n",
              "      <td>3/3/2022</td>\n",
              "      <td>ชาย</td>\n",
              "      <td>NaN</td>\n",
              "      <td>NaN</td>\n",
              "      <td>Thailand</td>\n",
              "      <td>สมุทรปราการ</td>\n",
              "      <td>ทัณฑสถาน/เรือนจำ</td>\n",
              "      <td>สมุทรปราการ</td>\n",
              "      <td>NaN</td>\n",
              "    </tr>\n",
              "    <tr>\n",
              "      <th>112378</th>\n",
              "      <td>2981995</td>\n",
              "      <td>4/3/2022</td>\n",
              "      <td>3/3/2022</td>\n",
              "      <td>ชาย</td>\n",
              "      <td>NaN</td>\n",
              "      <td>NaN</td>\n",
              "      <td>Thailand</td>\n",
              "      <td>สมุทรปราการ</td>\n",
              "      <td>ทัณฑสถาน/เรือนจำ</td>\n",
              "      <td>สมุทรปราการ</td>\n",
              "      <td>NaN</td>\n",
              "    </tr>\n",
              "    <tr>\n",
              "      <th>112379</th>\n",
              "      <td>2981996</td>\n",
              "      <td>4/3/2022</td>\n",
              "      <td>3/3/2022</td>\n",
              "      <td>ชาย</td>\n",
              "      <td>NaN</td>\n",
              "      <td>NaN</td>\n",
              "      <td>Thailand</td>\n",
              "      <td>สมุทรปราการ</td>\n",
              "      <td>ทัณฑสถาน/เรือนจำ</td>\n",
              "      <td>สมุทรปราการ</td>\n",
              "      <td>NaN</td>\n",
              "    </tr>\n",
              "  </tbody>\n",
              "</table>\n",
              "<p>90069 rows × 11 columns</p>\n",
              "</div>\n",
              "      <button class=\"colab-df-convert\" onclick=\"convertToInteractive('df-0733ed72-f59c-4b65-847f-3e8c4c322f19')\"\n",
              "              title=\"Convert this dataframe to an interactive table.\"\n",
              "              style=\"display:none;\">\n",
              "        \n",
              "  <svg xmlns=\"http://www.w3.org/2000/svg\" height=\"24px\"viewBox=\"0 0 24 24\"\n",
              "       width=\"24px\">\n",
              "    <path d=\"M0 0h24v24H0V0z\" fill=\"none\"/>\n",
              "    <path d=\"M18.56 5.44l.94 2.06.94-2.06 2.06-.94-2.06-.94-.94-2.06-.94 2.06-2.06.94zm-11 1L8.5 8.5l.94-2.06 2.06-.94-2.06-.94L8.5 2.5l-.94 2.06-2.06.94zm10 10l.94 2.06.94-2.06 2.06-.94-2.06-.94-.94-2.06-.94 2.06-2.06.94z\"/><path d=\"M17.41 7.96l-1.37-1.37c-.4-.4-.92-.59-1.43-.59-.52 0-1.04.2-1.43.59L10.3 9.45l-7.72 7.72c-.78.78-.78 2.05 0 2.83L4 21.41c.39.39.9.59 1.41.59.51 0 1.02-.2 1.41-.59l7.78-7.78 2.81-2.81c.8-.78.8-2.07 0-2.86zM5.41 20L4 18.59l7.72-7.72 1.47 1.35L5.41 20z\"/>\n",
              "  </svg>\n",
              "      </button>\n",
              "      \n",
              "  <style>\n",
              "    .colab-df-container {\n",
              "      display:flex;\n",
              "      flex-wrap:wrap;\n",
              "      gap: 12px;\n",
              "    }\n",
              "\n",
              "    .colab-df-convert {\n",
              "      background-color: #E8F0FE;\n",
              "      border: none;\n",
              "      border-radius: 50%;\n",
              "      cursor: pointer;\n",
              "      display: none;\n",
              "      fill: #1967D2;\n",
              "      height: 32px;\n",
              "      padding: 0 0 0 0;\n",
              "      width: 32px;\n",
              "    }\n",
              "\n",
              "    .colab-df-convert:hover {\n",
              "      background-color: #E2EBFA;\n",
              "      box-shadow: 0px 1px 2px rgba(60, 64, 67, 0.3), 0px 1px 3px 1px rgba(60, 64, 67, 0.15);\n",
              "      fill: #174EA6;\n",
              "    }\n",
              "\n",
              "    [theme=dark] .colab-df-convert {\n",
              "      background-color: #3B4455;\n",
              "      fill: #D2E3FC;\n",
              "    }\n",
              "\n",
              "    [theme=dark] .colab-df-convert:hover {\n",
              "      background-color: #434B5C;\n",
              "      box-shadow: 0px 1px 3px 1px rgba(0, 0, 0, 0.15);\n",
              "      filter: drop-shadow(0px 1px 2px rgba(0, 0, 0, 0.3));\n",
              "      fill: #FFFFFF;\n",
              "    }\n",
              "  </style>\n",
              "\n",
              "      <script>\n",
              "        const buttonEl =\n",
              "          document.querySelector('#df-0733ed72-f59c-4b65-847f-3e8c4c322f19 button.colab-df-convert');\n",
              "        buttonEl.style.display =\n",
              "          google.colab.kernel.accessAllowed ? 'block' : 'none';\n",
              "\n",
              "        async function convertToInteractive(key) {\n",
              "          const element = document.querySelector('#df-0733ed72-f59c-4b65-847f-3e8c4c322f19');\n",
              "          const dataTable =\n",
              "            await google.colab.kernel.invokeFunction('convertToInteractive',\n",
              "                                                     [key], {});\n",
              "          if (!dataTable) return;\n",
              "\n",
              "          const docLinkHtml = 'Like what you see? Visit the ' +\n",
              "            '<a target=\"_blank\" href=https://colab.research.google.com/notebooks/data_table.ipynb>data table notebook</a>'\n",
              "            + ' to learn more about interactive tables.';\n",
              "          element.innerHTML = '';\n",
              "          dataTable['output_type'] = 'display_data';\n",
              "          await google.colab.output.renderOutput(dataTable, element);\n",
              "          const docLink = document.createElement('div');\n",
              "          docLink.innerHTML = docLinkHtml;\n",
              "          element.appendChild(docLink);\n",
              "        }\n",
              "      </script>\n",
              "    </div>\n",
              "  </div>\n",
              "  "
            ]
          },
          "metadata": {},
          "execution_count": 76
        }
      ]
    },
    {
      "cell_type": "code",
      "source": [
        "import numpy as np"
      ],
      "metadata": {
        "id": "L_KXJZhFCPvm"
      },
      "execution_count": 77,
      "outputs": []
    },
    {
      "cell_type": "code",
      "source": [
        "set(data_covid[j]['province_of_onset'])"
      ],
      "metadata": {
        "id": "nTkw-pN9WAt9",
        "outputId": "f963b0ab-44e7-4f9c-8aba-a37c2dd4b739",
        "colab": {
          "base_uri": "https://localhost:8080/"
        }
      },
      "execution_count": 81,
      "outputs": [
        {
          "output_type": "execute_result",
          "data": {
            "text/plain": [
              "{nan,\n",
              " 'กระบี่',\n",
              " 'กรุงเทพมหานคร',\n",
              " 'กรุงเทพมหานคร.',\n",
              " 'กาญจนบุรี',\n",
              " 'กาฬสินธุ์',\n",
              " 'กำแพงเพชร',\n",
              " 'กำแพงเพชร\\xa0',\n",
              " 'ขอนแก่น',\n",
              " 'ขานุวรลักษณ์บุรี',\n",
              " 'จันทบุรี',\n",
              " 'ฉะเชิงเทรา',\n",
              " 'ชลบุรี',\n",
              " 'ชลบุรี\\xa0',\n",
              " 'ชัยนาท',\n",
              " 'ชัยภูมิ',\n",
              " 'ชุมพร',\n",
              " 'ตรัง',\n",
              " 'ตราด',\n",
              " 'ตราด\\xa0',\n",
              " 'ตาก',\n",
              " 'นครนายก',\n",
              " 'นครปฐม',\n",
              " 'นครปฐม\\xa0',\n",
              " 'นครพนม',\n",
              " 'นครยายก',\n",
              " 'นครราชศรีมา',\n",
              " 'นครราชสีมา',\n",
              " 'นครราชสีมา\\xa0',\n",
              " 'นครศรีธรรมราช',\n",
              " 'นครสวรรค์',\n",
              " 'นครสวรรค์\\xa0',\n",
              " 'นนทบุรี',\n",
              " 'นราธิวาส',\n",
              " 'นอกเขต',\n",
              " 'น่าน',\n",
              " 'บึงกาฬ',\n",
              " 'บุรีรัมย์',\n",
              " 'บุรีรัมย์\\xa0',\n",
              " 'ปทุมธานี',\n",
              " 'ปทุมธานี\\xa0',\n",
              " 'ปธุมธานี',\n",
              " 'ประจวบคีรีขันธ์',\n",
              " 'ปราจีนบุรี',\n",
              " 'ปัตตนรี',\n",
              " 'ปัตตานี',\n",
              " 'พระนครศรีอยุธยา',\n",
              " 'พะเยา',\n",
              " 'พังงา',\n",
              " 'พัทลุง',\n",
              " 'พิจิตร',\n",
              " 'พิษณุโลก',\n",
              " 'พิษณุโลก\\xa0',\n",
              " 'ภูเก็ต',\n",
              " 'มหาสารคาม',\n",
              " 'มุกดาหาร',\n",
              " 'ยะลา',\n",
              " 'ยโสธร',\n",
              " 'ระนอง',\n",
              " 'ระยอง',\n",
              " 'ราชบุรี',\n",
              " 'ร้อยเอ็ด',\n",
              " 'ลพบุรี',\n",
              " 'ลพบุรี\\xa0',\n",
              " 'ลำปาง',\n",
              " 'ลำพูน',\n",
              " 'ศรีสะเกษ',\n",
              " 'สกลนคร',\n",
              " 'สงขลา',\n",
              " 'สตูล',\n",
              " 'สมุทรปราการ',\n",
              " 'สมุทรปราการ\\xa0',\n",
              " 'สมุทรสงคราม',\n",
              " 'สมุทรสาคร',\n",
              " 'สมุทสาคร',\n",
              " 'สระบุรี',\n",
              " 'สระแก้ว',\n",
              " 'สิงห์บุรี',\n",
              " 'สุพรรณบุรี',\n",
              " 'สุราษฎร์ธานี',\n",
              " 'สุราษฏร์ธานี',\n",
              " 'สุรินทร์',\n",
              " 'สุโขทัย',\n",
              " 'สุโขทัย\\xa0',\n",
              " 'หนองคาย',\n",
              " 'หนองบัวลำภู',\n",
              " 'อยุทธยา',\n",
              " 'อยุธยา',\n",
              " 'อำนาจเจริญ',\n",
              " 'อุดรธานี',\n",
              " 'อุดรธานี\\xa0',\n",
              " 'อุตรดิตถ์',\n",
              " 'อุตรดิตถ์์',\n",
              " 'อุทัยธานี',\n",
              " 'อุบลราชธานี',\n",
              " 'อุบลราชธานี\\xa0',\n",
              " 'อ่างทอง',\n",
              " 'เชิงเทรา',\n",
              " 'เชียงราย',\n",
              " 'เชียงใหม่',\n",
              " 'เพชรบุรี',\n",
              " 'เพชรบูรณ์',\n",
              " 'เพชรบูรณ์\\xa0',\n",
              " 'เลย',\n",
              " 'แพร่',\n",
              " 'แม่ฮ่องสอน'}"
            ]
          },
          "metadata": {},
          "execution_count": 81
        }
      ]
    },
    {
      "cell_type": "code",
      "source": [
        "!wget -q https://github.com/Phonbopit/sarabun-webfont/raw/master/fonts/thsarabunnew-webfont.ttf"
      ],
      "metadata": {
        "id": "TQQp05nCtvn4"
      },
      "execution_count": 82,
      "outputs": []
    },
    {
      "cell_type": "code",
      "source": [
        "!ls"
      ],
      "metadata": {
        "id": "1z6X3jn9txSx",
        "outputId": "72b35538-b40a-4534-e0da-82378fec1587",
        "colab": {
          "base_uri": "https://localhost:8080/"
        }
      },
      "execution_count": 83,
      "outputs": [
        {
          "output_type": "stream",
          "name": "stdout",
          "text": [
            "drive  sample_data  thsarabunnew-webfont.ttf\n"
          ]
        }
      ]
    },
    {
      "cell_type": "code",
      "source": [
        "import matplotlib as mpl\n",
        "mpl.font_manager.fontManager.addfont('thsarabunnew-webfont.ttf')\n",
        "mpl.rc('font', family='TH Sarabun New')"
      ],
      "metadata": {
        "id": "EIhNDIj8t0uH"
      },
      "execution_count": 84,
      "outputs": []
    },
    {
      "cell_type": "code",
      "source": [
        "data_HW2_G = j_data.replace({ 'กรุงเทพมหานคร.': 'กรุงเทพมหานคร', 'กำแพงเพชร\\xa0': 'กำแพงเพชร',  'ขานุวรลักษณ์บุรี': 'กำแพงเพชร',  'ชลบุรี\\xa0': 'ชลบุรี',  'ตราด\\xa0': 'ตราด',  'นครปฐม\\xa0': 'นครปฐม',  'นครยายก': 'นครนายก',  'นครราชศรีมา': 'นครราชสีมา',  'นครราชสีมา\\xa0': 'นครราชสีมา',  'นครสวรรค์\\xa0': 'นครสวรรค์',  'นอกเขต':'นครสวรรค์',  'บุรีรัมย์\\xa0':'บุรีรัมย์', 'ปทุมธานี\\xa0': 'ปทุมธานี', 'ปธุมธานี': 'ปทุมธานี', 'ปัตตนรี': 'ปัตตานี', 'พิษณุโลก\\xa0': 'พิษณุโลก', 'ลพบุรี\\xa0':'ลพบุรี', 'สมุทรปราการ\\xa0': 'สมุทรปราการ',  'สมุทสาคร': 'สมุทรสาคร', 'สุราษฏร์ธานี': 'สุราษฎร์ธานี', 'สุโขทัย\\xa0': 'สุโขทัย', 'อยุทธยา': 'พระนครศรีอยุธยา', 'อยุธยา':'พระนครศรีอยุธยา', 'อุดรธานี\\xa0':'อุดรธานี', 'อุบลราชธานี\\xa0':'อุบลราชธานี', 'เชิงเทรา':'ฉะเชิงเทรา', 'อุตรดิตถ์์':'อุตรดิตถ์', 'เพชรบูรณ์\\xa0':'เพชรบูรณ์','nan':'ไม่รู้' }) # สร้างตัวแปร data_HW_G ใช้คำสั่ง replace โดยแทนชื่อทั้ง3 risk เป็นภาษาอังกฤษแทนชื่อไทย เพื่อสร้างกราฟชื่อจะปรากฏในกราฟ \n",
        "data_HW2_G #แสดงผล"
      ],
      "metadata": {
        "id": "FuGykhy6t3S3",
        "outputId": "d2824516-d4c8-46de-ac29-2c1bd03a7858",
        "colab": {
          "base_uri": "https://localhost:8080/",
          "height": 423
        }
      },
      "execution_count": 85,
      "outputs": [
        {
          "output_type": "execute_result",
          "data": {
            "text/plain": [
              "            No. announce_date Notified date   sex  age Unit nationality  \\\n",
              "22311   2891928      1/3/2022     28/2/2022   ชาย  NaN  NaN    Thailand   \n",
              "22312   2891929      1/3/2022     28/2/2022  หญิง  NaN  NaN    Thailand   \n",
              "22313   2891930      1/3/2022     28/2/2022  หญิง  NaN  NaN    Thailand   \n",
              "22314   2891931      1/3/2022     28/2/2022  หญิง  NaN  NaN    Thailand   \n",
              "22315   2891932      1/3/2022     28/2/2022  หญิง  NaN  NaN         NaN   \n",
              "...         ...           ...           ...   ...  ...  ...         ...   \n",
              "112375  2981992      4/3/2022      3/3/2022   ชาย  NaN  NaN    Thailand   \n",
              "112376  2981993      4/3/2022      3/3/2022   ชาย  NaN  NaN    Thailand   \n",
              "112377  2981994      4/3/2022      3/3/2022   ชาย  NaN  NaN    Thailand   \n",
              "112378  2981995      4/3/2022      3/3/2022   ชาย  NaN  NaN    Thailand   \n",
              "112379  2981996      4/3/2022      3/3/2022   ชาย  NaN  NaN    Thailand   \n",
              "\n",
              "       province_of_isolation                                         risk  \\\n",
              "22311             แม่ฮ่องสอน                                        อื่นๆ   \n",
              "22312             แม่ฮ่องสอน  สัมผัสใกล้ชิดกับผู้ป่วยยืนยันรายก่อนหน้านี้   \n",
              "22313             แม่ฮ่องสอน  สัมผัสใกล้ชิดกับผู้ป่วยยืนยันรายก่อนหน้านี้   \n",
              "22314             แม่ฮ่องสอน              บุคลากรด้านการแพทย์และสาธารณสุข   \n",
              "22315              เชียงใหม่                         อยู่ระหว่างการสอบสวน   \n",
              "...                      ...                                          ...   \n",
              "112375           สมุทรปราการ                             ทัณฑสถาน/เรือนจำ   \n",
              "112376           สมุทรปราการ                             ทัณฑสถาน/เรือนจำ   \n",
              "112377           สมุทรปราการ                             ทัณฑสถาน/เรือนจำ   \n",
              "112378           สมุทรปราการ                             ทัณฑสถาน/เรือนจำ   \n",
              "112379           สมุทรปราการ                             ทัณฑสถาน/เรือนจำ   \n",
              "\n",
              "       province_of_onset district_of_onset  \n",
              "22311         แม่ฮ่องสอน             เมือง  \n",
              "22312         แม่ฮ่องสอน               ปาย  \n",
              "22313         แม่ฮ่องสอน        แม่สะเรียง  \n",
              "22314         แม่ฮ่องสอน        แม่สะเรียง  \n",
              "22315          เชียงใหม่            แม่ริม  \n",
              "...                  ...               ...  \n",
              "112375       สมุทรปราการ               NaN  \n",
              "112376       สมุทรปราการ               NaN  \n",
              "112377       สมุทรปราการ               NaN  \n",
              "112378       สมุทรปราการ               NaN  \n",
              "112379       สมุทรปราการ               NaN  \n",
              "\n",
              "[90069 rows x 11 columns]"
            ],
            "text/html": [
              "\n",
              "  <div id=\"df-977fef91-04f7-4a22-b274-0913944fbc04\">\n",
              "    <div class=\"colab-df-container\">\n",
              "      <div>\n",
              "<style scoped>\n",
              "    .dataframe tbody tr th:only-of-type {\n",
              "        vertical-align: middle;\n",
              "    }\n",
              "\n",
              "    .dataframe tbody tr th {\n",
              "        vertical-align: top;\n",
              "    }\n",
              "\n",
              "    .dataframe thead th {\n",
              "        text-align: right;\n",
              "    }\n",
              "</style>\n",
              "<table border=\"1\" class=\"dataframe\">\n",
              "  <thead>\n",
              "    <tr style=\"text-align: right;\">\n",
              "      <th></th>\n",
              "      <th>No.</th>\n",
              "      <th>announce_date</th>\n",
              "      <th>Notified date</th>\n",
              "      <th>sex</th>\n",
              "      <th>age</th>\n",
              "      <th>Unit</th>\n",
              "      <th>nationality</th>\n",
              "      <th>province_of_isolation</th>\n",
              "      <th>risk</th>\n",
              "      <th>province_of_onset</th>\n",
              "      <th>district_of_onset</th>\n",
              "    </tr>\n",
              "  </thead>\n",
              "  <tbody>\n",
              "    <tr>\n",
              "      <th>22311</th>\n",
              "      <td>2891928</td>\n",
              "      <td>1/3/2022</td>\n",
              "      <td>28/2/2022</td>\n",
              "      <td>ชาย</td>\n",
              "      <td>NaN</td>\n",
              "      <td>NaN</td>\n",
              "      <td>Thailand</td>\n",
              "      <td>แม่ฮ่องสอน</td>\n",
              "      <td>อื่นๆ</td>\n",
              "      <td>แม่ฮ่องสอน</td>\n",
              "      <td>เมือง</td>\n",
              "    </tr>\n",
              "    <tr>\n",
              "      <th>22312</th>\n",
              "      <td>2891929</td>\n",
              "      <td>1/3/2022</td>\n",
              "      <td>28/2/2022</td>\n",
              "      <td>หญิง</td>\n",
              "      <td>NaN</td>\n",
              "      <td>NaN</td>\n",
              "      <td>Thailand</td>\n",
              "      <td>แม่ฮ่องสอน</td>\n",
              "      <td>สัมผัสใกล้ชิดกับผู้ป่วยยืนยันรายก่อนหน้านี้</td>\n",
              "      <td>แม่ฮ่องสอน</td>\n",
              "      <td>ปาย</td>\n",
              "    </tr>\n",
              "    <tr>\n",
              "      <th>22313</th>\n",
              "      <td>2891930</td>\n",
              "      <td>1/3/2022</td>\n",
              "      <td>28/2/2022</td>\n",
              "      <td>หญิง</td>\n",
              "      <td>NaN</td>\n",
              "      <td>NaN</td>\n",
              "      <td>Thailand</td>\n",
              "      <td>แม่ฮ่องสอน</td>\n",
              "      <td>สัมผัสใกล้ชิดกับผู้ป่วยยืนยันรายก่อนหน้านี้</td>\n",
              "      <td>แม่ฮ่องสอน</td>\n",
              "      <td>แม่สะเรียง</td>\n",
              "    </tr>\n",
              "    <tr>\n",
              "      <th>22314</th>\n",
              "      <td>2891931</td>\n",
              "      <td>1/3/2022</td>\n",
              "      <td>28/2/2022</td>\n",
              "      <td>หญิง</td>\n",
              "      <td>NaN</td>\n",
              "      <td>NaN</td>\n",
              "      <td>Thailand</td>\n",
              "      <td>แม่ฮ่องสอน</td>\n",
              "      <td>บุคลากรด้านการแพทย์และสาธารณสุข</td>\n",
              "      <td>แม่ฮ่องสอน</td>\n",
              "      <td>แม่สะเรียง</td>\n",
              "    </tr>\n",
              "    <tr>\n",
              "      <th>22315</th>\n",
              "      <td>2891932</td>\n",
              "      <td>1/3/2022</td>\n",
              "      <td>28/2/2022</td>\n",
              "      <td>หญิง</td>\n",
              "      <td>NaN</td>\n",
              "      <td>NaN</td>\n",
              "      <td>NaN</td>\n",
              "      <td>เชียงใหม่</td>\n",
              "      <td>อยู่ระหว่างการสอบสวน</td>\n",
              "      <td>เชียงใหม่</td>\n",
              "      <td>แม่ริม</td>\n",
              "    </tr>\n",
              "    <tr>\n",
              "      <th>...</th>\n",
              "      <td>...</td>\n",
              "      <td>...</td>\n",
              "      <td>...</td>\n",
              "      <td>...</td>\n",
              "      <td>...</td>\n",
              "      <td>...</td>\n",
              "      <td>...</td>\n",
              "      <td>...</td>\n",
              "      <td>...</td>\n",
              "      <td>...</td>\n",
              "      <td>...</td>\n",
              "    </tr>\n",
              "    <tr>\n",
              "      <th>112375</th>\n",
              "      <td>2981992</td>\n",
              "      <td>4/3/2022</td>\n",
              "      <td>3/3/2022</td>\n",
              "      <td>ชาย</td>\n",
              "      <td>NaN</td>\n",
              "      <td>NaN</td>\n",
              "      <td>Thailand</td>\n",
              "      <td>สมุทรปราการ</td>\n",
              "      <td>ทัณฑสถาน/เรือนจำ</td>\n",
              "      <td>สมุทรปราการ</td>\n",
              "      <td>NaN</td>\n",
              "    </tr>\n",
              "    <tr>\n",
              "      <th>112376</th>\n",
              "      <td>2981993</td>\n",
              "      <td>4/3/2022</td>\n",
              "      <td>3/3/2022</td>\n",
              "      <td>ชาย</td>\n",
              "      <td>NaN</td>\n",
              "      <td>NaN</td>\n",
              "      <td>Thailand</td>\n",
              "      <td>สมุทรปราการ</td>\n",
              "      <td>ทัณฑสถาน/เรือนจำ</td>\n",
              "      <td>สมุทรปราการ</td>\n",
              "      <td>NaN</td>\n",
              "    </tr>\n",
              "    <tr>\n",
              "      <th>112377</th>\n",
              "      <td>2981994</td>\n",
              "      <td>4/3/2022</td>\n",
              "      <td>3/3/2022</td>\n",
              "      <td>ชาย</td>\n",
              "      <td>NaN</td>\n",
              "      <td>NaN</td>\n",
              "      <td>Thailand</td>\n",
              "      <td>สมุทรปราการ</td>\n",
              "      <td>ทัณฑสถาน/เรือนจำ</td>\n",
              "      <td>สมุทรปราการ</td>\n",
              "      <td>NaN</td>\n",
              "    </tr>\n",
              "    <tr>\n",
              "      <th>112378</th>\n",
              "      <td>2981995</td>\n",
              "      <td>4/3/2022</td>\n",
              "      <td>3/3/2022</td>\n",
              "      <td>ชาย</td>\n",
              "      <td>NaN</td>\n",
              "      <td>NaN</td>\n",
              "      <td>Thailand</td>\n",
              "      <td>สมุทรปราการ</td>\n",
              "      <td>ทัณฑสถาน/เรือนจำ</td>\n",
              "      <td>สมุทรปราการ</td>\n",
              "      <td>NaN</td>\n",
              "    </tr>\n",
              "    <tr>\n",
              "      <th>112379</th>\n",
              "      <td>2981996</td>\n",
              "      <td>4/3/2022</td>\n",
              "      <td>3/3/2022</td>\n",
              "      <td>ชาย</td>\n",
              "      <td>NaN</td>\n",
              "      <td>NaN</td>\n",
              "      <td>Thailand</td>\n",
              "      <td>สมุทรปราการ</td>\n",
              "      <td>ทัณฑสถาน/เรือนจำ</td>\n",
              "      <td>สมุทรปราการ</td>\n",
              "      <td>NaN</td>\n",
              "    </tr>\n",
              "  </tbody>\n",
              "</table>\n",
              "<p>90069 rows × 11 columns</p>\n",
              "</div>\n",
              "      <button class=\"colab-df-convert\" onclick=\"convertToInteractive('df-977fef91-04f7-4a22-b274-0913944fbc04')\"\n",
              "              title=\"Convert this dataframe to an interactive table.\"\n",
              "              style=\"display:none;\">\n",
              "        \n",
              "  <svg xmlns=\"http://www.w3.org/2000/svg\" height=\"24px\"viewBox=\"0 0 24 24\"\n",
              "       width=\"24px\">\n",
              "    <path d=\"M0 0h24v24H0V0z\" fill=\"none\"/>\n",
              "    <path d=\"M18.56 5.44l.94 2.06.94-2.06 2.06-.94-2.06-.94-.94-2.06-.94 2.06-2.06.94zm-11 1L8.5 8.5l.94-2.06 2.06-.94-2.06-.94L8.5 2.5l-.94 2.06-2.06.94zm10 10l.94 2.06.94-2.06 2.06-.94-2.06-.94-.94-2.06-.94 2.06-2.06.94z\"/><path d=\"M17.41 7.96l-1.37-1.37c-.4-.4-.92-.59-1.43-.59-.52 0-1.04.2-1.43.59L10.3 9.45l-7.72 7.72c-.78.78-.78 2.05 0 2.83L4 21.41c.39.39.9.59 1.41.59.51 0 1.02-.2 1.41-.59l7.78-7.78 2.81-2.81c.8-.78.8-2.07 0-2.86zM5.41 20L4 18.59l7.72-7.72 1.47 1.35L5.41 20z\"/>\n",
              "  </svg>\n",
              "      </button>\n",
              "      \n",
              "  <style>\n",
              "    .colab-df-container {\n",
              "      display:flex;\n",
              "      flex-wrap:wrap;\n",
              "      gap: 12px;\n",
              "    }\n",
              "\n",
              "    .colab-df-convert {\n",
              "      background-color: #E8F0FE;\n",
              "      border: none;\n",
              "      border-radius: 50%;\n",
              "      cursor: pointer;\n",
              "      display: none;\n",
              "      fill: #1967D2;\n",
              "      height: 32px;\n",
              "      padding: 0 0 0 0;\n",
              "      width: 32px;\n",
              "    }\n",
              "\n",
              "    .colab-df-convert:hover {\n",
              "      background-color: #E2EBFA;\n",
              "      box-shadow: 0px 1px 2px rgba(60, 64, 67, 0.3), 0px 1px 3px 1px rgba(60, 64, 67, 0.15);\n",
              "      fill: #174EA6;\n",
              "    }\n",
              "\n",
              "    [theme=dark] .colab-df-convert {\n",
              "      background-color: #3B4455;\n",
              "      fill: #D2E3FC;\n",
              "    }\n",
              "\n",
              "    [theme=dark] .colab-df-convert:hover {\n",
              "      background-color: #434B5C;\n",
              "      box-shadow: 0px 1px 3px 1px rgba(0, 0, 0, 0.15);\n",
              "      filter: drop-shadow(0px 1px 2px rgba(0, 0, 0, 0.3));\n",
              "      fill: #FFFFFF;\n",
              "    }\n",
              "  </style>\n",
              "\n",
              "      <script>\n",
              "        const buttonEl =\n",
              "          document.querySelector('#df-977fef91-04f7-4a22-b274-0913944fbc04 button.colab-df-convert');\n",
              "        buttonEl.style.display =\n",
              "          google.colab.kernel.accessAllowed ? 'block' : 'none';\n",
              "\n",
              "        async function convertToInteractive(key) {\n",
              "          const element = document.querySelector('#df-977fef91-04f7-4a22-b274-0913944fbc04');\n",
              "          const dataTable =\n",
              "            await google.colab.kernel.invokeFunction('convertToInteractive',\n",
              "                                                     [key], {});\n",
              "          if (!dataTable) return;\n",
              "\n",
              "          const docLinkHtml = 'Like what you see? Visit the ' +\n",
              "            '<a target=\"_blank\" href=https://colab.research.google.com/notebooks/data_table.ipynb>data table notebook</a>'\n",
              "            + ' to learn more about interactive tables.';\n",
              "          element.innerHTML = '';\n",
              "          dataTable['output_type'] = 'display_data';\n",
              "          await google.colab.output.renderOutput(dataTable, element);\n",
              "          const docLink = document.createElement('div');\n",
              "          docLink.innerHTML = docLinkHtml;\n",
              "          element.appendChild(docLink);\n",
              "        }\n",
              "      </script>\n",
              "    </div>\n",
              "  </div>\n",
              "  "
            ]
          },
          "metadata": {},
          "execution_count": 85
        }
      ]
    },
    {
      "cell_type": "code",
      "source": [
        "HW2 = set(data_HW2_G['province_of_onset'] )"
      ],
      "metadata": {
        "id": "BOXinHYruJls"
      },
      "execution_count": 86,
      "outputs": []
    },
    {
      "cell_type": "code",
      "source": [
        "HW2"
      ],
      "metadata": {
        "id": "asm9xteouMyG",
        "outputId": "592b32f6-6c34-45b3-d731-d883e8d6cf0f",
        "colab": {
          "base_uri": "https://localhost:8080/"
        }
      },
      "execution_count": 87,
      "outputs": [
        {
          "output_type": "execute_result",
          "data": {
            "text/plain": [
              "{nan,\n",
              " 'กระบี่',\n",
              " 'กรุงเทพมหานคร',\n",
              " 'กาญจนบุรี',\n",
              " 'กาฬสินธุ์',\n",
              " 'กำแพงเพชร',\n",
              " 'ขอนแก่น',\n",
              " 'จันทบุรี',\n",
              " 'ฉะเชิงเทรา',\n",
              " 'ชลบุรี',\n",
              " 'ชัยนาท',\n",
              " 'ชัยภูมิ',\n",
              " 'ชุมพร',\n",
              " 'ตรัง',\n",
              " 'ตราด',\n",
              " 'ตาก',\n",
              " 'นครนายก',\n",
              " 'นครปฐม',\n",
              " 'นครพนม',\n",
              " 'นครราชสีมา',\n",
              " 'นครศรีธรรมราช',\n",
              " 'นครสวรรค์',\n",
              " 'นนทบุรี',\n",
              " 'นราธิวาส',\n",
              " 'น่าน',\n",
              " 'บึงกาฬ',\n",
              " 'บุรีรัมย์',\n",
              " 'ปทุมธานี',\n",
              " 'ประจวบคีรีขันธ์',\n",
              " 'ปราจีนบุรี',\n",
              " 'ปัตตานี',\n",
              " 'พระนครศรีอยุธยา',\n",
              " 'พะเยา',\n",
              " 'พังงา',\n",
              " 'พัทลุง',\n",
              " 'พิจิตร',\n",
              " 'พิษณุโลก',\n",
              " 'ภูเก็ต',\n",
              " 'มหาสารคาม',\n",
              " 'มุกดาหาร',\n",
              " 'ยะลา',\n",
              " 'ยโสธร',\n",
              " 'ระนอง',\n",
              " 'ระยอง',\n",
              " 'ราชบุรี',\n",
              " 'ร้อยเอ็ด',\n",
              " 'ลพบุรี',\n",
              " 'ลำปาง',\n",
              " 'ลำพูน',\n",
              " 'ศรีสะเกษ',\n",
              " 'สกลนคร',\n",
              " 'สงขลา',\n",
              " 'สตูล',\n",
              " 'สมุทรปราการ',\n",
              " 'สมุทรสงคราม',\n",
              " 'สมุทรสาคร',\n",
              " 'สระบุรี',\n",
              " 'สระแก้ว',\n",
              " 'สิงห์บุรี',\n",
              " 'สุพรรณบุรี',\n",
              " 'สุราษฎร์ธานี',\n",
              " 'สุรินทร์',\n",
              " 'สุโขทัย',\n",
              " 'หนองคาย',\n",
              " 'หนองบัวลำภู',\n",
              " 'อำนาจเจริญ',\n",
              " 'อุดรธานี',\n",
              " 'อุตรดิตถ์',\n",
              " 'อุทัยธานี',\n",
              " 'อุบลราชธานี',\n",
              " 'อ่างทอง',\n",
              " 'เชียงราย',\n",
              " 'เชียงใหม่',\n",
              " 'เพชรบุรี',\n",
              " 'เพชรบูรณ์',\n",
              " 'เลย',\n",
              " 'แพร่',\n",
              " 'แม่ฮ่องสอน'}"
            ]
          },
          "metadata": {},
          "execution_count": 87
        }
      ]
    },
    {
      "cell_type": "code",
      "source": [
        " HW2_G = data_HW2_G.groupby('province_of_onset').count()"
      ],
      "metadata": {
        "id": "QMXo7lluuRE8"
      },
      "execution_count": 88,
      "outputs": []
    },
    {
      "cell_type": "code",
      "source": [
        "HW2_G"
      ],
      "metadata": {
        "id": "1PpsxkNGug1_",
        "outputId": "1836e3e4-6324-4081-dbbb-fca4d9e51d50",
        "colab": {
          "base_uri": "https://localhost:8080/",
          "height": 455
        }
      },
      "execution_count": 89,
      "outputs": [
        {
          "output_type": "execute_result",
          "data": {
            "text/plain": [
              "                     No.  announce_date  Notified date   sex    age   Unit  \\\n",
              "province_of_onset                                                            \n",
              "กระบี่               569            569            569   567    565    565   \n",
              "กรุงเทพมหานคร      11011          11011          11011  9504  10808  10808   \n",
              "กาญจนบุรี            482            482            482   475    482    482   \n",
              "กาฬสินธุ์            809            809            809   798    807    807   \n",
              "กำแพงเพชร            785            785            785   778    746    746   \n",
              "...                  ...            ...            ...   ...    ...    ...   \n",
              "เพชรบุรี             544            544            544   538    542    542   \n",
              "เพชรบูรณ์            549            549            549   540    536    536   \n",
              "เลย                  397            397            397   391    389    389   \n",
              "แพร่                 269            269            269   262    137    137   \n",
              "แม่ฮ่องสอน            37             37             37    33     33     33   \n",
              "\n",
              "                   nationality  province_of_isolation   risk  \\\n",
              "province_of_onset                                              \n",
              "กระบี่                     564                    569    568   \n",
              "กรุงเทพมหานคร             9281                  11011  11011   \n",
              "กาญจนบุรี                  474                    482    482   \n",
              "กาฬสินธุ์                  797                    809    809   \n",
              "กำแพงเพชร                  778                    785    785   \n",
              "...                        ...                    ...    ...   \n",
              "เพชรบุรี                   538                    544    544   \n",
              "เพชรบูรณ์                  540                    549    549   \n",
              "เลย                        389                    397    397   \n",
              "แพร่                       262                    269    269   \n",
              "แม่ฮ่องสอน                  11                     37     37   \n",
              "\n",
              "                   district_of_onset  \n",
              "province_of_onset                     \n",
              "กระบี่                           554  \n",
              "กรุงเทพมหานคร                  10701  \n",
              "กาญจนบุรี                        482  \n",
              "กาฬสินธุ์                        806  \n",
              "กำแพงเพชร                        784  \n",
              "...                              ...  \n",
              "เพชรบุรี                         543  \n",
              "เพชรบูรณ์                        549  \n",
              "เลย                              304  \n",
              "แพร่                             269  \n",
              "แม่ฮ่องสอน                        37  \n",
              "\n",
              "[77 rows x 10 columns]"
            ],
            "text/html": [
              "\n",
              "  <div id=\"df-493f512d-44c7-4987-a262-5e9426b079da\">\n",
              "    <div class=\"colab-df-container\">\n",
              "      <div>\n",
              "<style scoped>\n",
              "    .dataframe tbody tr th:only-of-type {\n",
              "        vertical-align: middle;\n",
              "    }\n",
              "\n",
              "    .dataframe tbody tr th {\n",
              "        vertical-align: top;\n",
              "    }\n",
              "\n",
              "    .dataframe thead th {\n",
              "        text-align: right;\n",
              "    }\n",
              "</style>\n",
              "<table border=\"1\" class=\"dataframe\">\n",
              "  <thead>\n",
              "    <tr style=\"text-align: right;\">\n",
              "      <th></th>\n",
              "      <th>No.</th>\n",
              "      <th>announce_date</th>\n",
              "      <th>Notified date</th>\n",
              "      <th>sex</th>\n",
              "      <th>age</th>\n",
              "      <th>Unit</th>\n",
              "      <th>nationality</th>\n",
              "      <th>province_of_isolation</th>\n",
              "      <th>risk</th>\n",
              "      <th>district_of_onset</th>\n",
              "    </tr>\n",
              "    <tr>\n",
              "      <th>province_of_onset</th>\n",
              "      <th></th>\n",
              "      <th></th>\n",
              "      <th></th>\n",
              "      <th></th>\n",
              "      <th></th>\n",
              "      <th></th>\n",
              "      <th></th>\n",
              "      <th></th>\n",
              "      <th></th>\n",
              "      <th></th>\n",
              "    </tr>\n",
              "  </thead>\n",
              "  <tbody>\n",
              "    <tr>\n",
              "      <th>กระบี่</th>\n",
              "      <td>569</td>\n",
              "      <td>569</td>\n",
              "      <td>569</td>\n",
              "      <td>567</td>\n",
              "      <td>565</td>\n",
              "      <td>565</td>\n",
              "      <td>564</td>\n",
              "      <td>569</td>\n",
              "      <td>568</td>\n",
              "      <td>554</td>\n",
              "    </tr>\n",
              "    <tr>\n",
              "      <th>กรุงเทพมหานคร</th>\n",
              "      <td>11011</td>\n",
              "      <td>11011</td>\n",
              "      <td>11011</td>\n",
              "      <td>9504</td>\n",
              "      <td>10808</td>\n",
              "      <td>10808</td>\n",
              "      <td>9281</td>\n",
              "      <td>11011</td>\n",
              "      <td>11011</td>\n",
              "      <td>10701</td>\n",
              "    </tr>\n",
              "    <tr>\n",
              "      <th>กาญจนบุรี</th>\n",
              "      <td>482</td>\n",
              "      <td>482</td>\n",
              "      <td>482</td>\n",
              "      <td>475</td>\n",
              "      <td>482</td>\n",
              "      <td>482</td>\n",
              "      <td>474</td>\n",
              "      <td>482</td>\n",
              "      <td>482</td>\n",
              "      <td>482</td>\n",
              "    </tr>\n",
              "    <tr>\n",
              "      <th>กาฬสินธุ์</th>\n",
              "      <td>809</td>\n",
              "      <td>809</td>\n",
              "      <td>809</td>\n",
              "      <td>798</td>\n",
              "      <td>807</td>\n",
              "      <td>807</td>\n",
              "      <td>797</td>\n",
              "      <td>809</td>\n",
              "      <td>809</td>\n",
              "      <td>806</td>\n",
              "    </tr>\n",
              "    <tr>\n",
              "      <th>กำแพงเพชร</th>\n",
              "      <td>785</td>\n",
              "      <td>785</td>\n",
              "      <td>785</td>\n",
              "      <td>778</td>\n",
              "      <td>746</td>\n",
              "      <td>746</td>\n",
              "      <td>778</td>\n",
              "      <td>785</td>\n",
              "      <td>785</td>\n",
              "      <td>784</td>\n",
              "    </tr>\n",
              "    <tr>\n",
              "      <th>...</th>\n",
              "      <td>...</td>\n",
              "      <td>...</td>\n",
              "      <td>...</td>\n",
              "      <td>...</td>\n",
              "      <td>...</td>\n",
              "      <td>...</td>\n",
              "      <td>...</td>\n",
              "      <td>...</td>\n",
              "      <td>...</td>\n",
              "      <td>...</td>\n",
              "    </tr>\n",
              "    <tr>\n",
              "      <th>เพชรบุรี</th>\n",
              "      <td>544</td>\n",
              "      <td>544</td>\n",
              "      <td>544</td>\n",
              "      <td>538</td>\n",
              "      <td>542</td>\n",
              "      <td>542</td>\n",
              "      <td>538</td>\n",
              "      <td>544</td>\n",
              "      <td>544</td>\n",
              "      <td>543</td>\n",
              "    </tr>\n",
              "    <tr>\n",
              "      <th>เพชรบูรณ์</th>\n",
              "      <td>549</td>\n",
              "      <td>549</td>\n",
              "      <td>549</td>\n",
              "      <td>540</td>\n",
              "      <td>536</td>\n",
              "      <td>536</td>\n",
              "      <td>540</td>\n",
              "      <td>549</td>\n",
              "      <td>549</td>\n",
              "      <td>549</td>\n",
              "    </tr>\n",
              "    <tr>\n",
              "      <th>เลย</th>\n",
              "      <td>397</td>\n",
              "      <td>397</td>\n",
              "      <td>397</td>\n",
              "      <td>391</td>\n",
              "      <td>389</td>\n",
              "      <td>389</td>\n",
              "      <td>389</td>\n",
              "      <td>397</td>\n",
              "      <td>397</td>\n",
              "      <td>304</td>\n",
              "    </tr>\n",
              "    <tr>\n",
              "      <th>แพร่</th>\n",
              "      <td>269</td>\n",
              "      <td>269</td>\n",
              "      <td>269</td>\n",
              "      <td>262</td>\n",
              "      <td>137</td>\n",
              "      <td>137</td>\n",
              "      <td>262</td>\n",
              "      <td>269</td>\n",
              "      <td>269</td>\n",
              "      <td>269</td>\n",
              "    </tr>\n",
              "    <tr>\n",
              "      <th>แม่ฮ่องสอน</th>\n",
              "      <td>37</td>\n",
              "      <td>37</td>\n",
              "      <td>37</td>\n",
              "      <td>33</td>\n",
              "      <td>33</td>\n",
              "      <td>33</td>\n",
              "      <td>11</td>\n",
              "      <td>37</td>\n",
              "      <td>37</td>\n",
              "      <td>37</td>\n",
              "    </tr>\n",
              "  </tbody>\n",
              "</table>\n",
              "<p>77 rows × 10 columns</p>\n",
              "</div>\n",
              "      <button class=\"colab-df-convert\" onclick=\"convertToInteractive('df-493f512d-44c7-4987-a262-5e9426b079da')\"\n",
              "              title=\"Convert this dataframe to an interactive table.\"\n",
              "              style=\"display:none;\">\n",
              "        \n",
              "  <svg xmlns=\"http://www.w3.org/2000/svg\" height=\"24px\"viewBox=\"0 0 24 24\"\n",
              "       width=\"24px\">\n",
              "    <path d=\"M0 0h24v24H0V0z\" fill=\"none\"/>\n",
              "    <path d=\"M18.56 5.44l.94 2.06.94-2.06 2.06-.94-2.06-.94-.94-2.06-.94 2.06-2.06.94zm-11 1L8.5 8.5l.94-2.06 2.06-.94-2.06-.94L8.5 2.5l-.94 2.06-2.06.94zm10 10l.94 2.06.94-2.06 2.06-.94-2.06-.94-.94-2.06-.94 2.06-2.06.94z\"/><path d=\"M17.41 7.96l-1.37-1.37c-.4-.4-.92-.59-1.43-.59-.52 0-1.04.2-1.43.59L10.3 9.45l-7.72 7.72c-.78.78-.78 2.05 0 2.83L4 21.41c.39.39.9.59 1.41.59.51 0 1.02-.2 1.41-.59l7.78-7.78 2.81-2.81c.8-.78.8-2.07 0-2.86zM5.41 20L4 18.59l7.72-7.72 1.47 1.35L5.41 20z\"/>\n",
              "  </svg>\n",
              "      </button>\n",
              "      \n",
              "  <style>\n",
              "    .colab-df-container {\n",
              "      display:flex;\n",
              "      flex-wrap:wrap;\n",
              "      gap: 12px;\n",
              "    }\n",
              "\n",
              "    .colab-df-convert {\n",
              "      background-color: #E8F0FE;\n",
              "      border: none;\n",
              "      border-radius: 50%;\n",
              "      cursor: pointer;\n",
              "      display: none;\n",
              "      fill: #1967D2;\n",
              "      height: 32px;\n",
              "      padding: 0 0 0 0;\n",
              "      width: 32px;\n",
              "    }\n",
              "\n",
              "    .colab-df-convert:hover {\n",
              "      background-color: #E2EBFA;\n",
              "      box-shadow: 0px 1px 2px rgba(60, 64, 67, 0.3), 0px 1px 3px 1px rgba(60, 64, 67, 0.15);\n",
              "      fill: #174EA6;\n",
              "    }\n",
              "\n",
              "    [theme=dark] .colab-df-convert {\n",
              "      background-color: #3B4455;\n",
              "      fill: #D2E3FC;\n",
              "    }\n",
              "\n",
              "    [theme=dark] .colab-df-convert:hover {\n",
              "      background-color: #434B5C;\n",
              "      box-shadow: 0px 1px 3px 1px rgba(0, 0, 0, 0.15);\n",
              "      filter: drop-shadow(0px 1px 2px rgba(0, 0, 0, 0.3));\n",
              "      fill: #FFFFFF;\n",
              "    }\n",
              "  </style>\n",
              "\n",
              "      <script>\n",
              "        const buttonEl =\n",
              "          document.querySelector('#df-493f512d-44c7-4987-a262-5e9426b079da button.colab-df-convert');\n",
              "        buttonEl.style.display =\n",
              "          google.colab.kernel.accessAllowed ? 'block' : 'none';\n",
              "\n",
              "        async function convertToInteractive(key) {\n",
              "          const element = document.querySelector('#df-493f512d-44c7-4987-a262-5e9426b079da');\n",
              "          const dataTable =\n",
              "            await google.colab.kernel.invokeFunction('convertToInteractive',\n",
              "                                                     [key], {});\n",
              "          if (!dataTable) return;\n",
              "\n",
              "          const docLinkHtml = 'Like what you see? Visit the ' +\n",
              "            '<a target=\"_blank\" href=https://colab.research.google.com/notebooks/data_table.ipynb>data table notebook</a>'\n",
              "            + ' to learn more about interactive tables.';\n",
              "          element.innerHTML = '';\n",
              "          dataTable['output_type'] = 'display_data';\n",
              "          await google.colab.output.renderOutput(dataTable, element);\n",
              "          const docLink = document.createElement('div');\n",
              "          docLink.innerHTML = docLinkHtml;\n",
              "          element.appendChild(docLink);\n",
              "        }\n",
              "      </script>\n",
              "    </div>\n",
              "  </div>\n",
              "  "
            ]
          },
          "metadata": {},
          "execution_count": 89
        }
      ]
    },
    {
      "cell_type": "code",
      "source": [
        "HW2_GG = HW2_G[['announce_date']]"
      ],
      "metadata": {
        "id": "99IXi8juuj_2"
      },
      "execution_count": 90,
      "outputs": []
    },
    {
      "cell_type": "code",
      "source": [
        "HW2_GG"
      ],
      "metadata": {
        "id": "-Q5UFcagum_9",
        "outputId": "8ee2c654-7e5c-4524-c3cb-1e330d0e41fb",
        "colab": {
          "base_uri": "https://localhost:8080/",
          "height": 455
        }
      },
      "execution_count": 91,
      "outputs": [
        {
          "output_type": "execute_result",
          "data": {
            "text/plain": [
              "                   announce_date\n",
              "province_of_onset               \n",
              "กระบี่                       569\n",
              "กรุงเทพมหานคร              11011\n",
              "กาญจนบุรี                    482\n",
              "กาฬสินธุ์                    809\n",
              "กำแพงเพชร                    785\n",
              "...                          ...\n",
              "เพชรบุรี                     544\n",
              "เพชรบูรณ์                    549\n",
              "เลย                          397\n",
              "แพร่                         269\n",
              "แม่ฮ่องสอน                    37\n",
              "\n",
              "[77 rows x 1 columns]"
            ],
            "text/html": [
              "\n",
              "  <div id=\"df-99250148-c8f8-4e4c-901a-d0ee5d3a97a8\">\n",
              "    <div class=\"colab-df-container\">\n",
              "      <div>\n",
              "<style scoped>\n",
              "    .dataframe tbody tr th:only-of-type {\n",
              "        vertical-align: middle;\n",
              "    }\n",
              "\n",
              "    .dataframe tbody tr th {\n",
              "        vertical-align: top;\n",
              "    }\n",
              "\n",
              "    .dataframe thead th {\n",
              "        text-align: right;\n",
              "    }\n",
              "</style>\n",
              "<table border=\"1\" class=\"dataframe\">\n",
              "  <thead>\n",
              "    <tr style=\"text-align: right;\">\n",
              "      <th></th>\n",
              "      <th>announce_date</th>\n",
              "    </tr>\n",
              "    <tr>\n",
              "      <th>province_of_onset</th>\n",
              "      <th></th>\n",
              "    </tr>\n",
              "  </thead>\n",
              "  <tbody>\n",
              "    <tr>\n",
              "      <th>กระบี่</th>\n",
              "      <td>569</td>\n",
              "    </tr>\n",
              "    <tr>\n",
              "      <th>กรุงเทพมหานคร</th>\n",
              "      <td>11011</td>\n",
              "    </tr>\n",
              "    <tr>\n",
              "      <th>กาญจนบุรี</th>\n",
              "      <td>482</td>\n",
              "    </tr>\n",
              "    <tr>\n",
              "      <th>กาฬสินธุ์</th>\n",
              "      <td>809</td>\n",
              "    </tr>\n",
              "    <tr>\n",
              "      <th>กำแพงเพชร</th>\n",
              "      <td>785</td>\n",
              "    </tr>\n",
              "    <tr>\n",
              "      <th>...</th>\n",
              "      <td>...</td>\n",
              "    </tr>\n",
              "    <tr>\n",
              "      <th>เพชรบุรี</th>\n",
              "      <td>544</td>\n",
              "    </tr>\n",
              "    <tr>\n",
              "      <th>เพชรบูรณ์</th>\n",
              "      <td>549</td>\n",
              "    </tr>\n",
              "    <tr>\n",
              "      <th>เลย</th>\n",
              "      <td>397</td>\n",
              "    </tr>\n",
              "    <tr>\n",
              "      <th>แพร่</th>\n",
              "      <td>269</td>\n",
              "    </tr>\n",
              "    <tr>\n",
              "      <th>แม่ฮ่องสอน</th>\n",
              "      <td>37</td>\n",
              "    </tr>\n",
              "  </tbody>\n",
              "</table>\n",
              "<p>77 rows × 1 columns</p>\n",
              "</div>\n",
              "      <button class=\"colab-df-convert\" onclick=\"convertToInteractive('df-99250148-c8f8-4e4c-901a-d0ee5d3a97a8')\"\n",
              "              title=\"Convert this dataframe to an interactive table.\"\n",
              "              style=\"display:none;\">\n",
              "        \n",
              "  <svg xmlns=\"http://www.w3.org/2000/svg\" height=\"24px\"viewBox=\"0 0 24 24\"\n",
              "       width=\"24px\">\n",
              "    <path d=\"M0 0h24v24H0V0z\" fill=\"none\"/>\n",
              "    <path d=\"M18.56 5.44l.94 2.06.94-2.06 2.06-.94-2.06-.94-.94-2.06-.94 2.06-2.06.94zm-11 1L8.5 8.5l.94-2.06 2.06-.94-2.06-.94L8.5 2.5l-.94 2.06-2.06.94zm10 10l.94 2.06.94-2.06 2.06-.94-2.06-.94-.94-2.06-.94 2.06-2.06.94z\"/><path d=\"M17.41 7.96l-1.37-1.37c-.4-.4-.92-.59-1.43-.59-.52 0-1.04.2-1.43.59L10.3 9.45l-7.72 7.72c-.78.78-.78 2.05 0 2.83L4 21.41c.39.39.9.59 1.41.59.51 0 1.02-.2 1.41-.59l7.78-7.78 2.81-2.81c.8-.78.8-2.07 0-2.86zM5.41 20L4 18.59l7.72-7.72 1.47 1.35L5.41 20z\"/>\n",
              "  </svg>\n",
              "      </button>\n",
              "      \n",
              "  <style>\n",
              "    .colab-df-container {\n",
              "      display:flex;\n",
              "      flex-wrap:wrap;\n",
              "      gap: 12px;\n",
              "    }\n",
              "\n",
              "    .colab-df-convert {\n",
              "      background-color: #E8F0FE;\n",
              "      border: none;\n",
              "      border-radius: 50%;\n",
              "      cursor: pointer;\n",
              "      display: none;\n",
              "      fill: #1967D2;\n",
              "      height: 32px;\n",
              "      padding: 0 0 0 0;\n",
              "      width: 32px;\n",
              "    }\n",
              "\n",
              "    .colab-df-convert:hover {\n",
              "      background-color: #E2EBFA;\n",
              "      box-shadow: 0px 1px 2px rgba(60, 64, 67, 0.3), 0px 1px 3px 1px rgba(60, 64, 67, 0.15);\n",
              "      fill: #174EA6;\n",
              "    }\n",
              "\n",
              "    [theme=dark] .colab-df-convert {\n",
              "      background-color: #3B4455;\n",
              "      fill: #D2E3FC;\n",
              "    }\n",
              "\n",
              "    [theme=dark] .colab-df-convert:hover {\n",
              "      background-color: #434B5C;\n",
              "      box-shadow: 0px 1px 3px 1px rgba(0, 0, 0, 0.15);\n",
              "      filter: drop-shadow(0px 1px 2px rgba(0, 0, 0, 0.3));\n",
              "      fill: #FFFFFF;\n",
              "    }\n",
              "  </style>\n",
              "\n",
              "      <script>\n",
              "        const buttonEl =\n",
              "          document.querySelector('#df-99250148-c8f8-4e4c-901a-d0ee5d3a97a8 button.colab-df-convert');\n",
              "        buttonEl.style.display =\n",
              "          google.colab.kernel.accessAllowed ? 'block' : 'none';\n",
              "\n",
              "        async function convertToInteractive(key) {\n",
              "          const element = document.querySelector('#df-99250148-c8f8-4e4c-901a-d0ee5d3a97a8');\n",
              "          const dataTable =\n",
              "            await google.colab.kernel.invokeFunction('convertToInteractive',\n",
              "                                                     [key], {});\n",
              "          if (!dataTable) return;\n",
              "\n",
              "          const docLinkHtml = 'Like what you see? Visit the ' +\n",
              "            '<a target=\"_blank\" href=https://colab.research.google.com/notebooks/data_table.ipynb>data table notebook</a>'\n",
              "            + ' to learn more about interactive tables.';\n",
              "          element.innerHTML = '';\n",
              "          dataTable['output_type'] = 'display_data';\n",
              "          await google.colab.output.renderOutput(dataTable, element);\n",
              "          const docLink = document.createElement('div');\n",
              "          docLink.innerHTML = docLinkHtml;\n",
              "          element.appendChild(docLink);\n",
              "        }\n",
              "      </script>\n",
              "    </div>\n",
              "  </div>\n",
              "  "
            ]
          },
          "metadata": {},
          "execution_count": 91
        }
      ]
    },
    {
      "cell_type": "code",
      "source": [
        "import matplotlib.pyplot as plt\n",
        "import squarify"
      ],
      "metadata": {
        "id": "V6FDAWimuprv"
      },
      "execution_count": 92,
      "outputs": []
    },
    {
      "cell_type": "code",
      "source": [
        "plt.subplots(figsize=(18,18))\n",
        "data = HW2\n",
        "sizes = HW2_G['announce_date']\n",
        "squarify.plot(sizes,alpha = 0.35, label = data,pad=True)\n",
        "plt.axis('off');\n",
        "title = 'Plot tree map ของปริมาณผู้ติดเชื้อ COVID-19 ของแต่ละจังหวัดในประเทศไทยในวันที่ 1-4 มีนาคม 2563'\n",
        "plt.title(title,size=16,color='b')"
      ],
      "metadata": {
        "id": "1X6Sb8nPus5b",
        "outputId": "5233b75c-0598-4cd0-cced-1ec3e248f2a4",
        "colab": {
          "base_uri": "https://localhost:8080/",
          "height": 1000
        }
      },
      "execution_count": 93,
      "outputs": [
        {
          "output_type": "execute_result",
          "data": {
            "text/plain": [
              "Text(0.5, 1.0, 'Plot tree map ของปริมาณผู้ติดเชื้อ COVID-19 ของแต่ละจังหวัดในประเทศไทยในวันที่ 1-4 มีนาคม 2563')"
            ]
          },
          "metadata": {},
          "execution_count": 93
        },
        {
          "output_type": "display_data",
          "data": {
            "text/plain": [
              "<Figure size 1296x1296 with 1 Axes>"
            ],
            "image/png": "[encoded data removed]"
          },
          "metadata": {
            "needs_background": "light"
          }
        }
      ]
    },
    {
      "cell_type": "markdown",
      "source": [
        ""
      ],
      "metadata": {
        "id": "NgY19lJjtvCl"
      }
    },
    {
      "cell_type": "markdown",
      "source": [
        ""
      ],
      "metadata": {
        "id": "qML9l-X_th3X"
      }
    },
    {
      "cell_type": "markdown",
      "source": [
        "# Spyder(radar)chart"
      ],
      "metadata": {
        "id": "Lh2CuFJKAnoZ"
      }
    },
    {
      "cell_type": "code",
      "source": [
        ""
      ],
      "metadata": {
        "id": "DM37Mu9eAvPN"
      },
      "execution_count": null,
      "outputs": []
    }
  ]
}